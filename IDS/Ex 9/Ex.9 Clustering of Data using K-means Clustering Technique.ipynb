{
 "cells": [
  {
   "cell_type": "code",
   "execution_count": null,
   "id": "63559903-487a-4b9f-b0f4-c98eca51c5c5",
   "metadata": {},
   "outputs": [],
   "source": [
    "Bewin Felix R A\n",
    "URK21CS1128"
   ]
  },
  {
   "cell_type": "code",
   "execution_count": null,
   "id": "553aeeb3-31ed-42b5-8b28-437785d8cf32",
   "metadata": {},
   "outputs": [],
   "source": [
    "AIM:\n",
    "    To apply K-means clustering technique to the given dataset."
   ]
  },
  {
   "cell_type": "code",
   "execution_count": null,
   "id": "833cb21e-c623-473c-a478-c8621a519d05",
   "metadata": {},
   "outputs": [],
   "source": [
    "DESCRIPTION:\n",
    " \n",
    "K-means clustering is a popular unsupervised machine learning\n",
    "technique used to partition a dataset into K distinct, non-overlapping\n",
    "clusters based on the similarity of data points. It aims to group similar\n",
    "data points together and find cluster centroids that minimize the\n",
    "within-cluster variance.\n",
    "from sklearn.cluster import KMeans\n",
    "# Choose the number of clusters (K)\n",
    "k = 3\n",
    "# Initialize the K-means model\n",
    "kmeans = KMeans(n_clusters=k, init='k-means++', max_iter=300, n_init=10,\n",
    "random_state=0)\n",
    "# Fit the model to your data\n",
    "kmeans.fit(X)\n",
    "# Get cluster labels for each data point\n",
    "labels = kmeans.labels_\n",
    "# Get cluster centroids\n",
    "centroids = kmeans.cluster_centers_\n",
    "Elbow Method for Optimal K:\n",
    "Description: The Elbow Method helps in determining the optimal number of\n",
    "clusters (K) for K-means. It involves fitting K-means with different K\n",
    "values and plotting the Within-Cluster Sum of Squares (WCSS) against K.\n",
    "wcss = []\n",
    "for k in range(1, 11):\n",
    "kmeans = KMeans(n_clusters=k, init='k-means++', max_iter=300, n_init=10,\n",
    "random_state=0)\n",
    "kmeans.fit(X)\n",
    "wcss.append(kmeans.inertia_)\n",
    "# Plot WCSS vs. K\n",
    "# ...\n",
    "Visualization of Clusters:\n",
    "Description: Visualizing clusters helps in understanding the clustering results.\n",
    "↪ You can create scatter plots with data points colored by their cluster\n",
    "assignments.\n",
    "plt.scatter(X['Age'], X['Annual_Income'], c=kmeans.labels_, cmap='rainbow')\n",
    "plt.scatter(centroids[:, 0], centroids[:, 1], s=200, c='black', marker='X',\n",
    "label='Centroids')\n",
    "plt.title('K-means Clustering')\n",
    "plt.xlabel('Age')\n",
    "plt.ylabel('Annual Income')\n",
    "plt.legend()\n",
    "plt.show()\n",
    "6. Performance Metrics for Different K-values\n",
    "Description: You calculate performance metrics (silhouette_score and\n",
    "davies_bouldin_score) for different values of K to evaluate the quality of\n",
    "clustering.\n",
    "k_values = [optimal_k, optimal_k + 1, optimal_k + 2, optimal_k + 3]\n",
    "silhouette_scores = []\n",
    "davies_bouldin_scores = []\n",
    "for k in k_values:\n",
    "kmeans = KMeans(n_clusters=k, init='k-means++', max_iter=300, n_init=10,\n",
    "                random_state=0)\n",
    "kmeans.fit(X)\n",
    "silhouette = silhouette_score(X, kmeans.labels_)\n",
    "davies_bouldin = davies_bouldin_score(X, kmeans.labels_)\n",
    "silhouette_scores.append(silhouette)\n",
    "davies_bouldin_scores.append(davies_bouldin)"
   ]
  },
  {
   "cell_type": "code",
   "execution_count": null,
   "id": "c3b47877-5a5d-4d08-9423-3cd2f596579f",
   "metadata": {},
   "outputs": [],
   "source": [
    "2. Develop a K-means clustering model for the Mall_Customers dataset using the scikit-\n",
    "learn."
   ]
  },
  {
   "cell_type": "code",
   "execution_count": 10,
   "id": "e1603e30-e9a5-4ca5-bd5b-2dbe7d669c0d",
   "metadata": {},
   "outputs": [],
   "source": [
    "import pandas as pd\n",
    "import numpy as np\n",
    "import matplotlib.pyplot as plt\n",
    "from sklearn.cluster import KMeans\n",
    "from sklearn.metrics import silhouette_score, davies_bouldin_score"
   ]
  },
  {
   "cell_type": "code",
   "execution_count": 11,
   "id": "9a572708-4b51-4a04-a1b3-cba4ab67ab2c",
   "metadata": {},
   "outputs": [
    {
     "name": "stdout",
     "output_type": "stream",
     "text": [
      "1128\n"
     ]
    },
    {
     "data": {
      "text/html": [
       "<div>\n",
       "<style scoped>\n",
       "    .dataframe tbody tr th:only-of-type {\n",
       "        vertical-align: middle;\n",
       "    }\n",
       "\n",
       "    .dataframe tbody tr th {\n",
       "        vertical-align: top;\n",
       "    }\n",
       "\n",
       "    .dataframe thead th {\n",
       "        text-align: right;\n",
       "    }\n",
       "</style>\n",
       "<table border=\"1\" class=\"dataframe\">\n",
       "  <thead>\n",
       "    <tr style=\"text-align: right;\">\n",
       "      <th></th>\n",
       "      <th>CustomerID</th>\n",
       "      <th>Gender</th>\n",
       "      <th>Age</th>\n",
       "      <th>Annual_Income</th>\n",
       "      <th>Spending Score (1-100)</th>\n",
       "    </tr>\n",
       "  </thead>\n",
       "  <tbody>\n",
       "    <tr>\n",
       "      <th>0</th>\n",
       "      <td>1</td>\n",
       "      <td>Male</td>\n",
       "      <td>19</td>\n",
       "      <td>15</td>\n",
       "      <td>39</td>\n",
       "    </tr>\n",
       "    <tr>\n",
       "      <th>1</th>\n",
       "      <td>2</td>\n",
       "      <td>Male</td>\n",
       "      <td>21</td>\n",
       "      <td>15</td>\n",
       "      <td>81</td>\n",
       "    </tr>\n",
       "    <tr>\n",
       "      <th>2</th>\n",
       "      <td>3</td>\n",
       "      <td>Female</td>\n",
       "      <td>20</td>\n",
       "      <td>16</td>\n",
       "      <td>6</td>\n",
       "    </tr>\n",
       "    <tr>\n",
       "      <th>3</th>\n",
       "      <td>4</td>\n",
       "      <td>Female</td>\n",
       "      <td>23</td>\n",
       "      <td>16</td>\n",
       "      <td>77</td>\n",
       "    </tr>\n",
       "    <tr>\n",
       "      <th>4</th>\n",
       "      <td>5</td>\n",
       "      <td>Female</td>\n",
       "      <td>31</td>\n",
       "      <td>17</td>\n",
       "      <td>40</td>\n",
       "    </tr>\n",
       "  </tbody>\n",
       "</table>\n",
       "</div>"
      ],
      "text/plain": [
       "   CustomerID  Gender  Age  Annual_Income  Spending Score (1-100)\n",
       "0           1    Male   19             15                      39\n",
       "1           2    Male   21             15                      81\n",
       "2           3  Female   20             16                       6\n",
       "3           4  Female   23             16                      77\n",
       "4           5  Female   31             17                      40"
      ]
     },
     "execution_count": 11,
     "metadata": {},
     "output_type": "execute_result"
    }
   ],
   "source": [
    "print(1128)\n",
    "df = pd.read_csv('Mall_Customers.csv')\n",
    "df.head()"
   ]
  },
  {
   "cell_type": "code",
   "execution_count": 12,
   "id": "a4a86b67-47ef-42f5-bfd1-dfb84b262941",
   "metadata": {},
   "outputs": [
    {
     "name": "stdout",
     "output_type": "stream",
     "text": [
      "1128\n"
     ]
    },
    {
     "data": {
      "text/html": [
       "<div>\n",
       "<style scoped>\n",
       "    .dataframe tbody tr th:only-of-type {\n",
       "        vertical-align: middle;\n",
       "    }\n",
       "\n",
       "    .dataframe tbody tr th {\n",
       "        vertical-align: top;\n",
       "    }\n",
       "\n",
       "    .dataframe thead th {\n",
       "        text-align: right;\n",
       "    }\n",
       "</style>\n",
       "<table border=\"1\" class=\"dataframe\">\n",
       "  <thead>\n",
       "    <tr style=\"text-align: right;\">\n",
       "      <th></th>\n",
       "      <th>Age</th>\n",
       "      <th>Annual_Income</th>\n",
       "    </tr>\n",
       "  </thead>\n",
       "  <tbody>\n",
       "    <tr>\n",
       "      <th>0</th>\n",
       "      <td>19</td>\n",
       "      <td>15</td>\n",
       "    </tr>\n",
       "    <tr>\n",
       "      <th>1</th>\n",
       "      <td>21</td>\n",
       "      <td>15</td>\n",
       "    </tr>\n",
       "    <tr>\n",
       "      <th>2</th>\n",
       "      <td>20</td>\n",
       "      <td>16</td>\n",
       "    </tr>\n",
       "    <tr>\n",
       "      <th>3</th>\n",
       "      <td>23</td>\n",
       "      <td>16</td>\n",
       "    </tr>\n",
       "    <tr>\n",
       "      <th>4</th>\n",
       "      <td>31</td>\n",
       "      <td>17</td>\n",
       "    </tr>\n",
       "  </tbody>\n",
       "</table>\n",
       "</div>"
      ],
      "text/plain": [
       "   Age  Annual_Income\n",
       "0   19             15\n",
       "1   21             15\n",
       "2   20             16\n",
       "3   23             16\n",
       "4   31             17"
      ]
     },
     "execution_count": 12,
     "metadata": {},
     "output_type": "execute_result"
    }
   ],
   "source": [
    "#a. Use the columns: ' Age', 'Annual_Income' as the input variables.\n",
    "print(1128)\n",
    "X = df[['Age', 'Annual_Income']]\n",
    "X.head()"
   ]
  },
  {
   "cell_type": "code",
   "execution_count": 13,
   "id": "000daf58-4d4b-4c07-8940-f44dde8fda0f",
   "metadata": {},
   "outputs": [
    {
     "name": "stdout",
     "output_type": "stream",
     "text": [
      "1128\n"
     ]
    }
   ],
   "source": [
    "# b. Compute the optimal number of cluster ‘K’ from 1-10 using the Elbow method.\n",
    "print(1128)\n",
    "wcss = []\n",
    "for i in range(1, 11):\n",
    "    kmeans = KMeans(n_clusters=i, init='k-means++', max_iter=300,n_init=10,random_state=0)\n",
    "    kmeans.fit(X)\n",
    "    wcss.append(kmeans.inertia_)"
   ]
  },
  {
   "cell_type": "code",
   "execution_count": null,
   "id": "4c3b06c9-2855-405b-9635-319df62fed1c",
   "metadata": {},
   "outputs": [],
   "source": [
    "#c. Plot the graph between number of cluster K and within-cluster sum of squares (WCSS)\n",
    "#value.\n",
    "print(1128)\n",
    "plt.figure(figsize=(8, 5))\n",
    "plt.plot(range(1, 11), wcss, marker='o', linestyle='--')\n",
    "plt.title('Elbow Method for Optimal K')\n",
    "plt.xlabel('Number of Clusters (K)')\n",
    "plt.ylabel('WCSS')\n",
    "plt.grid()\n",
    "plt.show()\n"
   ]
  },
  {
   "cell_type": "code",
   "execution_count": 14,
   "id": "ee0c01bc-2a7a-43cd-981a-e8875f253431",
   "metadata": {},
   "outputs": [
    {
     "name": "stdout",
     "output_type": "stream",
     "text": [
      "1128\n"
     ]
    },
    {
     "data": {
      "text/html": [
       "<style>#sk-container-id-2 {color: black;background-color: white;}#sk-container-id-2 pre{padding: 0;}#sk-container-id-2 div.sk-toggleable {background-color: white;}#sk-container-id-2 label.sk-toggleable__label {cursor: pointer;display: block;width: 100%;margin-bottom: 0;padding: 0.3em;box-sizing: border-box;text-align: center;}#sk-container-id-2 label.sk-toggleable__label-arrow:before {content: \"▸\";float: left;margin-right: 0.25em;color: #696969;}#sk-container-id-2 label.sk-toggleable__label-arrow:hover:before {color: black;}#sk-container-id-2 div.sk-estimator:hover label.sk-toggleable__label-arrow:before {color: black;}#sk-container-id-2 div.sk-toggleable__content {max-height: 0;max-width: 0;overflow: hidden;text-align: left;background-color: #f0f8ff;}#sk-container-id-2 div.sk-toggleable__content pre {margin: 0.2em;color: black;border-radius: 0.25em;background-color: #f0f8ff;}#sk-container-id-2 input.sk-toggleable__control:checked~div.sk-toggleable__content {max-height: 200px;max-width: 100%;overflow: auto;}#sk-container-id-2 input.sk-toggleable__control:checked~label.sk-toggleable__label-arrow:before {content: \"▾\";}#sk-container-id-2 div.sk-estimator input.sk-toggleable__control:checked~label.sk-toggleable__label {background-color: #d4ebff;}#sk-container-id-2 div.sk-label input.sk-toggleable__control:checked~label.sk-toggleable__label {background-color: #d4ebff;}#sk-container-id-2 input.sk-hidden--visually {border: 0;clip: rect(1px 1px 1px 1px);clip: rect(1px, 1px, 1px, 1px);height: 1px;margin: -1px;overflow: hidden;padding: 0;position: absolute;width: 1px;}#sk-container-id-2 div.sk-estimator {font-family: monospace;background-color: #f0f8ff;border: 1px dotted black;border-radius: 0.25em;box-sizing: border-box;margin-bottom: 0.5em;}#sk-container-id-2 div.sk-estimator:hover {background-color: #d4ebff;}#sk-container-id-2 div.sk-parallel-item::after {content: \"\";width: 100%;border-bottom: 1px solid gray;flex-grow: 1;}#sk-container-id-2 div.sk-label:hover label.sk-toggleable__label {background-color: #d4ebff;}#sk-container-id-2 div.sk-serial::before {content: \"\";position: absolute;border-left: 1px solid gray;box-sizing: border-box;top: 0;bottom: 0;left: 50%;z-index: 0;}#sk-container-id-2 div.sk-serial {display: flex;flex-direction: column;align-items: center;background-color: white;padding-right: 0.2em;padding-left: 0.2em;position: relative;}#sk-container-id-2 div.sk-item {position: relative;z-index: 1;}#sk-container-id-2 div.sk-parallel {display: flex;align-items: stretch;justify-content: center;background-color: white;position: relative;}#sk-container-id-2 div.sk-item::before, #sk-container-id-2 div.sk-parallel-item::before {content: \"\";position: absolute;border-left: 1px solid gray;box-sizing: border-box;top: 0;bottom: 0;left: 50%;z-index: -1;}#sk-container-id-2 div.sk-parallel-item {display: flex;flex-direction: column;z-index: 1;position: relative;background-color: white;}#sk-container-id-2 div.sk-parallel-item:first-child::after {align-self: flex-end;width: 50%;}#sk-container-id-2 div.sk-parallel-item:last-child::after {align-self: flex-start;width: 50%;}#sk-container-id-2 div.sk-parallel-item:only-child::after {width: 0;}#sk-container-id-2 div.sk-dashed-wrapped {border: 1px dashed gray;margin: 0 0.4em 0.5em 0.4em;box-sizing: border-box;padding-bottom: 0.4em;background-color: white;}#sk-container-id-2 div.sk-label label {font-family: monospace;font-weight: bold;display: inline-block;line-height: 1.2em;}#sk-container-id-2 div.sk-label-container {text-align: center;}#sk-container-id-2 div.sk-container {/* jupyter's `normalize.less` sets `[hidden] { display: none; }` but bootstrap.min.css set `[hidden] { display: none !important; }` so we also need the `!important` here to be able to override the default hidden behavior on the sphinx rendered scikit-learn.org. See: https://github.com/scikit-learn/scikit-learn/issues/21755 */display: inline-block !important;position: relative;}#sk-container-id-2 div.sk-text-repr-fallback {display: none;}</style><div id=\"sk-container-id-2\" class=\"sk-top-container\"><div class=\"sk-text-repr-fallback\"><pre>KMeans(n_clusters=4, n_init=10, random_state=0)</pre><b>In a Jupyter environment, please rerun this cell to show the HTML representation or trust the notebook. <br />On GitHub, the HTML representation is unable to render, please try loading this page with nbviewer.org.</b></div><div class=\"sk-container\" hidden><div class=\"sk-item\"><div class=\"sk-estimator sk-toggleable\"><input class=\"sk-toggleable__control sk-hidden--visually\" id=\"sk-estimator-id-2\" type=\"checkbox\" checked><label for=\"sk-estimator-id-2\" class=\"sk-toggleable__label sk-toggleable__label-arrow\">KMeans</label><div class=\"sk-toggleable__content\"><pre>KMeans(n_clusters=4, n_init=10, random_state=0)</pre></div></div></div></div></div>"
      ],
      "text/plain": [
       "KMeans(n_clusters=4, n_init=10, random_state=0)"
      ]
     },
     "execution_count": 14,
     "metadata": {},
     "output_type": "execute_result"
    }
   ],
   "source": [
    "# d. Perform the K-means clustering with the selected optimal K.\n",
    "print(1128)\n",
    "optimal_k = 4\n",
    "\n",
    "kmeans = KMeans(n_clusters=optimal_k, init='k-means++', max_iter=300,n_init=10,random_state=0)\n",
    "kmeans.fit(X)\n"
   ]
  },
  {
   "cell_type": "code",
   "execution_count": 15,
   "id": "3730e32d-65d5-40b3-925e-cda35bfc6dbf",
   "metadata": {},
   "outputs": [
    {
     "name": "stdout",
     "output_type": "stream",
     "text": [
      "1128\n",
      "Cluster Centroids:\n",
      "[[ 39.         106.5       ]\n",
      " [ 55.81481481  51.77777778]\n",
      " [ 30.34693878  29.26530612]\n",
      " [ 31.95890411  72.95890411]]\n"
     ]
    }
   ],
   "source": [
    "# e. Display the cluster centroids.\n",
    "print(1128)\n",
    "centroids = kmeans.cluster_centers_\n",
    "print(\"Cluster Centroids:\")\n",
    "print(centroids)"
   ]
  },
  {
   "cell_type": "code",
   "execution_count": 16,
   "id": "88984869-833d-4042-9658-1b6f256b2201",
   "metadata": {},
   "outputs": [
    {
     "name": "stdout",
     "output_type": "stream",
     "text": [
      "1128\n"
     ]
    },
    {
     "data": {
      "image/png": "[encoded data removed]",
      "text/plain": [
       "<Figure size 1000x600 with 1 Axes>"
      ]
     },
     "metadata": {},
     "output_type": "display_data"
    }
   ],
   "source": [
    "# f. Visualize the data representation of K-means clustering.\n",
    "print(1128)\n",
    "df['Cluster'] = kmeans.labels_\n",
    "plt.figure(figsize=(10, 6))\n",
    "plt.scatter(df['Age'], df['Annual_Income'], c=df['Cluster'], cmap='rainbow')\n",
    "plt.scatter(centroids[:, 0], centroids[:, 1], c='black', marker='X', s=100)\n",
    "plt.title('K-means Clustering')\n",
    "plt.xlabel('Age')\n",
    "plt.ylabel('Annual Income')\n",
    "plt.show()"
   ]
  },
  {
   "cell_type": "code",
   "execution_count": 17,
   "id": "fbbedf1d-95c2-433a-bdf9-2560d79c4d8a",
   "metadata": {},
   "outputs": [
    {
     "name": "stdout",
     "output_type": "stream",
     "text": [
      "1128\n",
      "K-value\tSilhouette Score\tDavies-Bouldin Score\n",
      "4\t0.4330\t\t0.7696\n",
      "5\t0.4084\t\t0.7552\n",
      "6\t0.3955\t\t0.8186\n",
      "7\t0.3847\t\t0.8472\n"
     ]
    }
   ],
   "source": [
    "# g. Change the value of K in K-means with different values and tabulate the performance\n",
    "#metrics such as silhouette_score and davies_bouldin_score obtained.\n",
    "print(1128)\n",
    "k_values_to_evaluate = [optimal_k, optimal_k + 1, optimal_k + 2, optimal_k + 3]\n",
    "print(\"K-value\\tSilhouette Score\\tDavies-Bouldin Score\")\n",
    "for k in k_values_to_evaluate:\n",
    "    kmeans = KMeans(n_clusters=k, init='k-means++', max_iter=300,\n",
    "                    n_init=10,random_state=0)\n",
    "    kmeans.fit(X)\n",
    "    silhouette = silhouette_score(X, kmeans.labels_)\n",
    "    davies_bouldin = davies_bouldin_score(X, kmeans.labels_)\n",
    "    print(f\"{k}\\t{silhouette:.4f}\\t\\t{davies_bouldin:.4f}\")\n"
   ]
  },
  {
   "cell_type": "code",
   "execution_count": null,
   "id": "12a7dd01-4a3f-4882-b233-f2a64700e955",
   "metadata": {},
   "outputs": [],
   "source": [
    "RESULT:\n",
    "    Therefore the K-means clustering technique has been applied to the\n",
    "    dataset given and the output is displayed successfully."
   ]
  }
 ],
 "metadata": {
  "kernelspec": {
   "display_name": "Python 3 (ipykernel)",
   "language": "python",
   "name": "python3"
  },
  "language_info": {
   "codemirror_mode": {
    "name": "ipython",
    "version": 3
   },
   "file_extension": ".py",
   "mimetype": "text/x-python",
   "name": "python",
   "nbconvert_exporter": "python",
   "pygments_lexer": "ipython3",
   "version": "3.9.15"
  }
 },
 "nbformat": 4,
 "nbformat_minor": 5
}

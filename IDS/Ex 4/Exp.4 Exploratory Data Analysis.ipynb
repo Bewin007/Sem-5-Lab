{
 "cells": [
  {
   "cell_type": "raw",
   "id": "89bf230b-a4ad-49ab-aed6-b779a343f0f9",
   "metadata": {},
   "source": [
    "URK21CS1128"
   ]
  },
  {
   "cell_type": "raw",
   "id": "9c673a07-c93a-498a-a36c-f49dbb68654e",
   "metadata": {},
   "source": [
    "AIM: \n",
    "To perform exploratory data analysis on the given dataset using various python libraries."
   ]
  },
  {
   "cell_type": "markdown",
   "id": "823e1592-c33e-4731-90c8-93a34b28984e",
   "metadata": {},
   "source": [
    "DESCRIPTION:"
   ]
  },
  {
   "cell_type": "code",
   "execution_count": 1,
   "id": "ad78b812-54bf-4b8b-a057-53be76bddd44",
   "metadata": {},
   "outputs": [
    {
     "data": {
      "text/html": [
       "<div>\n",
       "<style scoped>\n",
       "    .dataframe tbody tr th:only-of-type {\n",
       "        vertical-align: middle;\n",
       "    }\n",
       "\n",
       "    .dataframe tbody tr th {\n",
       "        vertical-align: top;\n",
       "    }\n",
       "\n",
       "    .dataframe thead th {\n",
       "        text-align: right;\n",
       "    }\n",
       "</style>\n",
       "<table border=\"1\" class=\"dataframe\">\n",
       "  <thead>\n",
       "    <tr style=\"text-align: right;\">\n",
       "      <th></th>\n",
       "      <th>sepallength</th>\n",
       "      <th>sepalwidth</th>\n",
       "      <th>petallength</th>\n",
       "      <th>petalwidth</th>\n",
       "      <th>class</th>\n",
       "      <th>Name</th>\n",
       "      <th>Score</th>\n",
       "      <th>Color</th>\n",
       "    </tr>\n",
       "  </thead>\n",
       "  <tbody>\n",
       "    <tr>\n",
       "      <th>0</th>\n",
       "      <td>5.1</td>\n",
       "      <td>3.5</td>\n",
       "      <td>1.4</td>\n",
       "      <td>0.2</td>\n",
       "      <td>Iris-setosa</td>\n",
       "      <td>F1</td>\n",
       "      <td>12.0</td>\n",
       "      <td>Red</td>\n",
       "    </tr>\n",
       "    <tr>\n",
       "      <th>1</th>\n",
       "      <td>4.9</td>\n",
       "      <td>3.0</td>\n",
       "      <td>1.4</td>\n",
       "      <td>0.2</td>\n",
       "      <td>Iris-setosa</td>\n",
       "      <td>F2</td>\n",
       "      <td>NaN</td>\n",
       "      <td>Blue</td>\n",
       "    </tr>\n",
       "    <tr>\n",
       "      <th>2</th>\n",
       "      <td>4.7</td>\n",
       "      <td>3.2</td>\n",
       "      <td>1.3</td>\n",
       "      <td>0.2</td>\n",
       "      <td>Iris-setosa</td>\n",
       "      <td>F3</td>\n",
       "      <td>18.0</td>\n",
       "      <td>Orange</td>\n",
       "    </tr>\n",
       "    <tr>\n",
       "      <th>3</th>\n",
       "      <td>4.6</td>\n",
       "      <td>3.1</td>\n",
       "      <td>1.5</td>\n",
       "      <td>0.2</td>\n",
       "      <td>Iris-setosa</td>\n",
       "      <td>F4</td>\n",
       "      <td>14.0</td>\n",
       "      <td>Purple</td>\n",
       "    </tr>\n",
       "    <tr>\n",
       "      <th>4</th>\n",
       "      <td>5.0</td>\n",
       "      <td>3.6</td>\n",
       "      <td>1.4</td>\n",
       "      <td>0.2</td>\n",
       "      <td>Iris-setosa</td>\n",
       "      <td>F5</td>\n",
       "      <td>22.0</td>\n",
       "      <td>Red</td>\n",
       "    </tr>\n",
       "    <tr>\n",
       "      <th>5</th>\n",
       "      <td>5.4</td>\n",
       "      <td>3.9</td>\n",
       "      <td>1.7</td>\n",
       "      <td>0.4</td>\n",
       "      <td>Iris-setosa</td>\n",
       "      <td>F6</td>\n",
       "      <td>27.0</td>\n",
       "      <td>Blue</td>\n",
       "    </tr>\n",
       "    <tr>\n",
       "      <th>6</th>\n",
       "      <td>4.6</td>\n",
       "      <td>3.4</td>\n",
       "      <td>1.4</td>\n",
       "      <td>0.3</td>\n",
       "      <td>Iris-setosa</td>\n",
       "      <td>F7</td>\n",
       "      <td>24.0</td>\n",
       "      <td>Orange</td>\n",
       "    </tr>\n",
       "    <tr>\n",
       "      <th>7</th>\n",
       "      <td>5.0</td>\n",
       "      <td>3.4</td>\n",
       "      <td>1.5</td>\n",
       "      <td>0.2</td>\n",
       "      <td>Iris-setosa</td>\n",
       "      <td>F8</td>\n",
       "      <td>23.0</td>\n",
       "      <td>Purple</td>\n",
       "    </tr>\n",
       "    <tr>\n",
       "      <th>8</th>\n",
       "      <td>7.0</td>\n",
       "      <td>3.2</td>\n",
       "      <td>4.7</td>\n",
       "      <td>1.4</td>\n",
       "      <td>Iris-versicolor</td>\n",
       "      <td>F9</td>\n",
       "      <td>16.0</td>\n",
       "      <td>Red</td>\n",
       "    </tr>\n",
       "    <tr>\n",
       "      <th>9</th>\n",
       "      <td>6.4</td>\n",
       "      <td>3.2</td>\n",
       "      <td>4.5</td>\n",
       "      <td>1.5</td>\n",
       "      <td>Iris-versicolor</td>\n",
       "      <td>F10</td>\n",
       "      <td>19.0</td>\n",
       "      <td>Blue</td>\n",
       "    </tr>\n",
       "    <tr>\n",
       "      <th>10</th>\n",
       "      <td>6.9</td>\n",
       "      <td>3.1</td>\n",
       "      <td>4.9</td>\n",
       "      <td>1.5</td>\n",
       "      <td>Iris-versicolor</td>\n",
       "      <td>F11</td>\n",
       "      <td>21.0</td>\n",
       "      <td>Orange</td>\n",
       "    </tr>\n",
       "    <tr>\n",
       "      <th>11</th>\n",
       "      <td>5.5</td>\n",
       "      <td>2.3</td>\n",
       "      <td>4.0</td>\n",
       "      <td>1.3</td>\n",
       "      <td>Iris-versicolor</td>\n",
       "      <td>F12</td>\n",
       "      <td>25.0</td>\n",
       "      <td>Purple</td>\n",
       "    </tr>\n",
       "    <tr>\n",
       "      <th>12</th>\n",
       "      <td>6.5</td>\n",
       "      <td>2.8</td>\n",
       "      <td>4.6</td>\n",
       "      <td>1.5</td>\n",
       "      <td>Iris-versicolor</td>\n",
       "      <td>F13</td>\n",
       "      <td>28.0</td>\n",
       "      <td>Red</td>\n",
       "    </tr>\n",
       "    <tr>\n",
       "      <th>13</th>\n",
       "      <td>5.7</td>\n",
       "      <td>2.8</td>\n",
       "      <td>4.5</td>\n",
       "      <td>1.3</td>\n",
       "      <td>Iris-versicolor</td>\n",
       "      <td>F14</td>\n",
       "      <td>29.0</td>\n",
       "      <td>Blue</td>\n",
       "    </tr>\n",
       "    <tr>\n",
       "      <th>14</th>\n",
       "      <td>6.3</td>\n",
       "      <td>3.3</td>\n",
       "      <td>4.7</td>\n",
       "      <td>1.6</td>\n",
       "      <td>Iris-versicolor</td>\n",
       "      <td>F15</td>\n",
       "      <td>11.0</td>\n",
       "      <td>Orange</td>\n",
       "    </tr>\n",
       "    <tr>\n",
       "      <th>15</th>\n",
       "      <td>4.9</td>\n",
       "      <td>2.4</td>\n",
       "      <td>3.3</td>\n",
       "      <td>1.0</td>\n",
       "      <td>Iris-versicolor</td>\n",
       "      <td>F16</td>\n",
       "      <td>30.0</td>\n",
       "      <td>Purple</td>\n",
       "    </tr>\n",
       "    <tr>\n",
       "      <th>16</th>\n",
       "      <td>6.3</td>\n",
       "      <td>3.3</td>\n",
       "      <td>6.0</td>\n",
       "      <td>2.5</td>\n",
       "      <td>Iris-virginica</td>\n",
       "      <td>F17</td>\n",
       "      <td>12.0</td>\n",
       "      <td>Red</td>\n",
       "    </tr>\n",
       "    <tr>\n",
       "      <th>17</th>\n",
       "      <td>5.8</td>\n",
       "      <td>2.7</td>\n",
       "      <td>5.1</td>\n",
       "      <td>1.9</td>\n",
       "      <td>Iris-virginica</td>\n",
       "      <td>F18</td>\n",
       "      <td>24.0</td>\n",
       "      <td>Blue</td>\n",
       "    </tr>\n",
       "    <tr>\n",
       "      <th>18</th>\n",
       "      <td>7.1</td>\n",
       "      <td>3.0</td>\n",
       "      <td>5.9</td>\n",
       "      <td>2.1</td>\n",
       "      <td>Iris-virginica</td>\n",
       "      <td>F19</td>\n",
       "      <td>17.0</td>\n",
       "      <td>Orange</td>\n",
       "    </tr>\n",
       "    <tr>\n",
       "      <th>19</th>\n",
       "      <td>6.3</td>\n",
       "      <td>2.9</td>\n",
       "      <td>5.6</td>\n",
       "      <td>1.8</td>\n",
       "      <td>Iris-virginica</td>\n",
       "      <td>F20</td>\n",
       "      <td>15.0</td>\n",
       "      <td>Purple</td>\n",
       "    </tr>\n",
       "    <tr>\n",
       "      <th>20</th>\n",
       "      <td>6.5</td>\n",
       "      <td>3.0</td>\n",
       "      <td>5.8</td>\n",
       "      <td>2.2</td>\n",
       "      <td>Iris-virginica</td>\n",
       "      <td>F21</td>\n",
       "      <td>22.0</td>\n",
       "      <td>Red</td>\n",
       "    </tr>\n",
       "    <tr>\n",
       "      <th>21</th>\n",
       "      <td>7.6</td>\n",
       "      <td>3.0</td>\n",
       "      <td>6.6</td>\n",
       "      <td>2.1</td>\n",
       "      <td>Iris-virginica</td>\n",
       "      <td>F22</td>\n",
       "      <td>27.0</td>\n",
       "      <td>Blue</td>\n",
       "    </tr>\n",
       "    <tr>\n",
       "      <th>22</th>\n",
       "      <td>4.9</td>\n",
       "      <td>2.5</td>\n",
       "      <td>4.5</td>\n",
       "      <td>NaN</td>\n",
       "      <td>Iris-virginica</td>\n",
       "      <td>F23</td>\n",
       "      <td>25.0</td>\n",
       "      <td>Orange</td>\n",
       "    </tr>\n",
       "    <tr>\n",
       "      <th>23</th>\n",
       "      <td>7.3</td>\n",
       "      <td>2.9</td>\n",
       "      <td>6.3</td>\n",
       "      <td>1.8</td>\n",
       "      <td>Iris-virginica</td>\n",
       "      <td>F24</td>\n",
       "      <td>21.0</td>\n",
       "      <td>Purple</td>\n",
       "    </tr>\n",
       "    <tr>\n",
       "      <th>24</th>\n",
       "      <td>7.3</td>\n",
       "      <td>2.9</td>\n",
       "      <td>6.3</td>\n",
       "      <td>1.8</td>\n",
       "      <td>Iris-virginica</td>\n",
       "      <td>F24</td>\n",
       "      <td>21.0</td>\n",
       "      <td>Purple</td>\n",
       "    </tr>\n",
       "  </tbody>\n",
       "</table>\n",
       "</div>"
      ],
      "text/plain": [
       "    sepallength  sepalwidth  petallength  petalwidth            class Name  \\\n",
       "0           5.1         3.5          1.4         0.2      Iris-setosa   F1   \n",
       "1           4.9         3.0          1.4         0.2      Iris-setosa   F2   \n",
       "2           4.7         3.2          1.3         0.2      Iris-setosa   F3   \n",
       "3           4.6         3.1          1.5         0.2      Iris-setosa   F4   \n",
       "4           5.0         3.6          1.4         0.2      Iris-setosa   F5   \n",
       "5           5.4         3.9          1.7         0.4      Iris-setosa   F6   \n",
       "6           4.6         3.4          1.4         0.3      Iris-setosa   F7   \n",
       "7           5.0         3.4          1.5         0.2      Iris-setosa   F8   \n",
       "8           7.0         3.2          4.7         1.4  Iris-versicolor   F9   \n",
       "9           6.4         3.2          4.5         1.5  Iris-versicolor  F10   \n",
       "10          6.9         3.1          4.9         1.5  Iris-versicolor  F11   \n",
       "11          5.5         2.3          4.0         1.3  Iris-versicolor  F12   \n",
       "12          6.5         2.8          4.6         1.5  Iris-versicolor  F13   \n",
       "13          5.7         2.8          4.5         1.3  Iris-versicolor  F14   \n",
       "14          6.3         3.3          4.7         1.6  Iris-versicolor  F15   \n",
       "15          4.9         2.4          3.3         1.0  Iris-versicolor  F16   \n",
       "16          6.3         3.3          6.0         2.5   Iris-virginica  F17   \n",
       "17          5.8         2.7          5.1         1.9   Iris-virginica  F18   \n",
       "18          7.1         3.0          5.9         2.1   Iris-virginica  F19   \n",
       "19          6.3         2.9          5.6         1.8   Iris-virginica  F20   \n",
       "20          6.5         3.0          5.8         2.2   Iris-virginica  F21   \n",
       "21          7.6         3.0          6.6         2.1   Iris-virginica  F22   \n",
       "22          4.9         2.5          4.5         NaN   Iris-virginica  F23   \n",
       "23          7.3         2.9          6.3         1.8   Iris-virginica  F24   \n",
       "24          7.3         2.9          6.3         1.8   Iris-virginica  F24   \n",
       "\n",
       "    Score   Color  \n",
       "0    12.0     Red  \n",
       "1     NaN    Blue  \n",
       "2    18.0  Orange  \n",
       "3    14.0  Purple  \n",
       "4    22.0     Red  \n",
       "5    27.0    Blue  \n",
       "6    24.0  Orange  \n",
       "7    23.0  Purple  \n",
       "8    16.0     Red  \n",
       "9    19.0    Blue  \n",
       "10   21.0  Orange  \n",
       "11   25.0  Purple  \n",
       "12   28.0     Red  \n",
       "13   29.0    Blue  \n",
       "14   11.0  Orange  \n",
       "15   30.0  Purple  \n",
       "16   12.0     Red  \n",
       "17   24.0    Blue  \n",
       "18   17.0  Orange  \n",
       "19   15.0  Purple  \n",
       "20   22.0     Red  \n",
       "21   27.0    Blue  \n",
       "22   25.0  Orange  \n",
       "23   21.0  Purple  \n",
       "24   21.0  Purple  "
      ]
     },
     "execution_count": 1,
     "metadata": {},
     "output_type": "execute_result"
    }
   ],
   "source": [
    "import pandas as pd\n",
    "\n",
    "df = pd.read_csv('iris_EDA.csv')\n",
    "df"
   ]
  },
  {
   "cell_type": "markdown",
   "id": "3ee65414-4454-4520-b43a-3210c8247314",
   "metadata": {},
   "source": [
    "Q1: Remove the irrelevant column 'Color' and display top 5 rows (use inplace=True)"
   ]
  },
  {
   "cell_type": "code",
   "execution_count": 2,
   "id": "36804c3e-94c1-47b2-98c3-bc74e87c4afb",
   "metadata": {},
   "outputs": [
    {
     "name": "stdout",
     "output_type": "stream",
     "text": [
      "1128\n",
      "Column dropped from dataframe permanently.\n"
     ]
    }
   ],
   "source": [
    "print(1128)\n",
    "\n",
    "df.drop('Color',axis=1,inplace=True)\n",
    "print('Column dropped from dataframe permanently.')"
   ]
  },
  {
   "cell_type": "code",
   "execution_count": 3,
   "id": "40f7618f-c1f6-4022-8a73-5d7893ca2a64",
   "metadata": {},
   "outputs": [
    {
     "name": "stdout",
     "output_type": "stream",
     "text": [
      "1128\n"
     ]
    },
    {
     "data": {
      "text/plain": [
       "(25, 7)"
      ]
     },
     "execution_count": 3,
     "metadata": {},
     "output_type": "execute_result"
    }
   ],
   "source": [
    "print(1128)\n",
    "df.shape"
   ]
  },
  {
   "cell_type": "markdown",
   "id": "89d8b0d6-341f-4925-879b-264562202535",
   "metadata": {},
   "source": [
    "Q2: Remove the duplicate rows and display the shape of the dataframe(use inplace=True)."
   ]
  },
  {
   "cell_type": "code",
   "execution_count": 4,
   "id": "74d9270a-40c0-4fd6-8713-fb3fbd0eba62",
   "metadata": {},
   "outputs": [
    {
     "name": "stdout",
     "output_type": "stream",
     "text": [
      "1128\n",
      "Dropped the duplicate rows.\n"
     ]
    },
    {
     "data": {
      "text/plain": [
       "(24, 7)"
      ]
     },
     "execution_count": 4,
     "metadata": {},
     "output_type": "execute_result"
    }
   ],
   "source": [
    "print(1128)\n",
    "\n",
    "df.drop_duplicates(keep='first',inplace=True)  #use 'subset' attribute for dropping duplicates in individual columns\n",
    "print('Dropped the duplicate rows.')\n",
    "df.shape"
   ]
  },
  {
   "cell_type": "markdown",
   "id": "0d142e38-5d38-4349-a6a4-3a841831bec7",
   "metadata": {},
   "source": [
    "Q3: Rename the column 'class' to 'Category' and display top 5 rows (use inplace=True)."
   ]
  },
  {
   "cell_type": "code",
   "execution_count": 5,
   "id": "69f9aa5f-5ab0-4378-b105-5b97a6da7bfa",
   "metadata": {},
   "outputs": [
    {
     "name": "stdout",
     "output_type": "stream",
     "text": [
      "1128\n",
      "Changed the column name 'class' to 'category' in the dataframe.\n"
     ]
    },
    {
     "data": {
      "text/html": [
       "<div>\n",
       "<style scoped>\n",
       "    .dataframe tbody tr th:only-of-type {\n",
       "        vertical-align: middle;\n",
       "    }\n",
       "\n",
       "    .dataframe tbody tr th {\n",
       "        vertical-align: top;\n",
       "    }\n",
       "\n",
       "    .dataframe thead th {\n",
       "        text-align: right;\n",
       "    }\n",
       "</style>\n",
       "<table border=\"1\" class=\"dataframe\">\n",
       "  <thead>\n",
       "    <tr style=\"text-align: right;\">\n",
       "      <th></th>\n",
       "      <th>sepallength</th>\n",
       "      <th>sepalwidth</th>\n",
       "      <th>petallength</th>\n",
       "      <th>petalwidth</th>\n",
       "      <th>Category</th>\n",
       "      <th>Name</th>\n",
       "      <th>Score</th>\n",
       "    </tr>\n",
       "  </thead>\n",
       "  <tbody>\n",
       "    <tr>\n",
       "      <th>0</th>\n",
       "      <td>5.1</td>\n",
       "      <td>3.5</td>\n",
       "      <td>1.4</td>\n",
       "      <td>0.2</td>\n",
       "      <td>Iris-setosa</td>\n",
       "      <td>F1</td>\n",
       "      <td>12.0</td>\n",
       "    </tr>\n",
       "    <tr>\n",
       "      <th>1</th>\n",
       "      <td>4.9</td>\n",
       "      <td>3.0</td>\n",
       "      <td>1.4</td>\n",
       "      <td>0.2</td>\n",
       "      <td>Iris-setosa</td>\n",
       "      <td>F2</td>\n",
       "      <td>NaN</td>\n",
       "    </tr>\n",
       "    <tr>\n",
       "      <th>2</th>\n",
       "      <td>4.7</td>\n",
       "      <td>3.2</td>\n",
       "      <td>1.3</td>\n",
       "      <td>0.2</td>\n",
       "      <td>Iris-setosa</td>\n",
       "      <td>F3</td>\n",
       "      <td>18.0</td>\n",
       "    </tr>\n",
       "    <tr>\n",
       "      <th>3</th>\n",
       "      <td>4.6</td>\n",
       "      <td>3.1</td>\n",
       "      <td>1.5</td>\n",
       "      <td>0.2</td>\n",
       "      <td>Iris-setosa</td>\n",
       "      <td>F4</td>\n",
       "      <td>14.0</td>\n",
       "    </tr>\n",
       "    <tr>\n",
       "      <th>4</th>\n",
       "      <td>5.0</td>\n",
       "      <td>3.6</td>\n",
       "      <td>1.4</td>\n",
       "      <td>0.2</td>\n",
       "      <td>Iris-setosa</td>\n",
       "      <td>F5</td>\n",
       "      <td>22.0</td>\n",
       "    </tr>\n",
       "  </tbody>\n",
       "</table>\n",
       "</div>"
      ],
      "text/plain": [
       "   sepallength  sepalwidth  petallength  petalwidth     Category Name  Score\n",
       "0          5.1         3.5          1.4         0.2  Iris-setosa   F1   12.0\n",
       "1          4.9         3.0          1.4         0.2  Iris-setosa   F2    NaN\n",
       "2          4.7         3.2          1.3         0.2  Iris-setosa   F3   18.0\n",
       "3          4.6         3.1          1.5         0.2  Iris-setosa   F4   14.0\n",
       "4          5.0         3.6          1.4         0.2  Iris-setosa   F5   22.0"
      ]
     },
     "execution_count": 5,
     "metadata": {},
     "output_type": "execute_result"
    }
   ],
   "source": [
    "print(1128)\n",
    "df.rename(columns={'class':'Category'},inplace=True)\n",
    "print(\"Changed the column name 'class' to 'category' in the dataframe.\")\n",
    "df.head()"
   ]
  },
  {
   "cell_type": "markdown",
   "id": "e0d00d59-b19a-41c2-9647-118e42b1c857",
   "metadata": {},
   "source": [
    "Q4:Drop the missing value row-wise and display the shape of dataframe (use inplace=False)."
   ]
  },
  {
   "cell_type": "code",
   "execution_count": 6,
   "id": "b3de211f-5b36-485e-98c3-6e59a4cb4def",
   "metadata": {},
   "outputs": [
    {
     "name": "stdout",
     "output_type": "stream",
     "text": [
      "1128\n",
      "Dropped the rows with null/missing values in the dataframe.\n"
     ]
    },
    {
     "data": {
      "text/plain": [
       "(22, 7)"
      ]
     },
     "execution_count": 6,
     "metadata": {},
     "output_type": "execute_result"
    }
   ],
   "source": [
    "print(1128)\n",
    "df.dropna(axis=0,inplace=True)\n",
    "print('Dropped the rows with null/missing values in the dataframe.')\n",
    "df.shape"
   ]
  },
  {
   "cell_type": "markdown",
   "id": "7c421f73-9f45-45fa-a388-111e6b33eb9d",
   "metadata": {},
   "source": [
    "Q5:Calculate the central tendency measures for 'Score' and display the same."
   ]
  },
  {
   "cell_type": "code",
   "execution_count": 7,
   "id": "5ddfe648-fc81-4d99-8cc0-9674eedc9ce5",
   "metadata": {},
   "outputs": [
    {
     "name": "stdout",
     "output_type": "stream",
     "text": [
      "1128\n",
      "Mean:  20.772727272727273\n",
      "Median:  21.5\n",
      "Mode:  0    12.0\n",
      "1    21.0\n",
      "2    22.0\n",
      "3    24.0\n",
      "4    27.0\n",
      "Name: Score, dtype: float64\n"
     ]
    }
   ],
   "source": [
    "print(1128)\n",
    "\n",
    "print('Mean: ', df['Score'].mean())\n",
    "print('Median: ', df['Score'].median())\n",
    "print('Mode: ', df['Score'].mode())"
   ]
  },
  {
   "cell_type": "markdown",
   "id": "eebad391-dccd-41a8-8971-6f49bcf697b4",
   "metadata": {},
   "source": [
    "Q6.Calculate the variability measures for 'Score' and display the same."
   ]
  },
  {
   "cell_type": "code",
   "execution_count": 8,
   "id": "546a69ba-a708-4eb1-bba3-c5dd3ff22452",
   "metadata": {},
   "outputs": [
    {
     "name": "stdout",
     "output_type": "stream",
     "text": [
      "1128\n",
      "Variability Measures for the column-Score: \n",
      "Max:  30.0\n",
      "Min:  11.0\n",
      "Range: 19.0\n",
      "Standard Deviation:  5.797633492430693\n",
      "Variance:  33.612554112554115\n"
     ]
    }
   ],
   "source": [
    "print(1128)\n",
    "x = df['Score'].min()\n",
    "y = df['Score'].max()\n",
    "print('Variability Measures for the column-Score: ')\n",
    "print('Max: ',y)\n",
    "print('Min: ',x)\n",
    "print('Range:',(y-x))\n",
    "print('Standard Deviation: ',df['Score'].std())\n",
    "print('Variance: ',df['Score'].var())\n"
   ]
  },
  {
   "cell_type": "markdown",
   "id": "beef36d6-f777-4981-9f54-29d1db694730",
   "metadata": {},
   "source": [
    "Q7.Calculate the IQR using quantile for 'Score' and display the same."
   ]
  },
  {
   "cell_type": "code",
   "execution_count": 9,
   "id": "3713a6bc-6a55-4049-8dc1-6e9e9fbad778",
   "metadata": {},
   "outputs": [
    {
     "name": "stdout",
     "output_type": "stream",
     "text": [
      "1128\n",
      "IQR:  8.5\n"
     ]
    }
   ],
   "source": [
    "print(1128)\n",
    "Q1 = df['Score'].quantile(.25)\n",
    "Q3 = df['Score'].quantile(.75)\n",
    "print('IQR: ',(Q3-Q1))  #IQR formula=Q3-Q1"
   ]
  },
  {
   "cell_type": "markdown",
   "id": "85116e09-cbba-4c91-8806-b4491568a78e",
   "metadata": {},
   "source": [
    "Q8. Calculate the z-score for 'Score' and display the same."
   ]
  },
  {
   "cell_type": "code",
   "execution_count": 10,
   "id": "da3baeb2-655e-4ff1-a11d-d516cfbe3227",
   "metadata": {},
   "outputs": [
    {
     "name": "stdout",
     "output_type": "stream",
     "text": [
      "1128\n",
      "Z-score: 0    -1.548765\n",
      "2    -0.489506\n",
      "3    -1.195679\n",
      "4     0.216667\n",
      "5     1.099383\n",
      "6     0.569753\n",
      "7     0.393210\n",
      "8    -0.842592\n",
      "9    -0.312963\n",
      "10    0.040123\n",
      "11    0.746296\n",
      "12    1.275926\n",
      "13    1.452469\n",
      "14   -1.725308\n",
      "15    1.629012\n",
      "16   -1.548765\n",
      "17    0.569753\n",
      "18   -0.666049\n",
      "19   -1.019136\n",
      "20    0.216667\n",
      "21    1.099383\n",
      "23    0.040123\n",
      "Name: Score, dtype: float64\n"
     ]
    }
   ],
   "source": [
    "print(1128)\n",
    "#z-score = x-mean/SD\n",
    "import  scipy.stats as stats\n",
    "\n",
    "zscore = stats.zscore(df['Score'])\n",
    "print('Z-score:',zscore)\n"
   ]
  },
  {
   "cell_type": "markdown",
   "id": "5b053f0d-4ac5-47fc-bd91-865abca88510",
   "metadata": {},
   "source": [
    "Q9: Plot the heatmap using the correlation ('sepallength', 'sepalwidth', 'petallength', 'petalwidth')."
   ]
  },
  {
   "cell_type": "code",
   "execution_count": 11,
   "id": "193ea49b-d24c-447e-9712-e3eb04490756",
   "metadata": {},
   "outputs": [
    {
     "name": "stdout",
     "output_type": "stream",
     "text": [
      "1128\n"
     ]
    },
    {
     "data": {
      "text/plain": [
       "<Axes: >"
      ]
     },
     "execution_count": 11,
     "metadata": {},
     "output_type": "execute_result"
    },
    {
     "data": {
      "image/png": "[encoded data removed]",
      "text/plain": [
       "<Figure size 640x480 with 2 Axes>"
      ]
     },
     "metadata": {},
     "output_type": "display_data"
    }
   ],
   "source": [
    "print(1128)\n",
    "import seaborn as sns\n",
    "\n",
    "t = df[['sepallength', 'sepalwidth', 'petallength', 'petalwidth']]\n",
    "c = t.corr()\n",
    "sns.heatmap(c, xticklabels = c.columns, yticklabels = c.columns, annot = True)"
   ]
  },
  {
   "cell_type": "markdown",
   "id": "d6ef9de0-c866-4cf0-9b28-9800af33f4e8",
   "metadata": {},
   "source": [
    "Q10:Add 2 rows at the end of the dataframe with the given values and display last 5 rows\n",
    "\n",
    "{'sepallength':7.6,'sepalwidth':2.9,'petallength':5.3,'petalwidth':2.1,'Category':'Iris-\n",
    "virginica','Name':'F25','Score':80}\n",
    "\n",
    "df2={'sepallength':4.6,'sepalwidth':1.3,'petallength':0.3,'Category':'Iris-\n",
    "setosa','Name':'F26','Score':85}"
   ]
  },
  {
   "cell_type": "code",
   "execution_count": 19,
   "id": "73acc126-a429-4fee-903c-19505bef875b",
   "metadata": {},
   "outputs": [
    {
     "name": "stdout",
     "output_type": "stream",
     "text": [
      "1128\n"
     ]
    },
    {
     "name": "stderr",
     "output_type": "stream",
     "text": [
      "/tmp/ipykernel_3676372/3128689531.py:7: FutureWarning: The frame.append method is deprecated and will be removed from pandas in a future version. Use pandas.concat instead.\n",
      "  df = df.append(df1,ignore_index=True)\n",
      "/tmp/ipykernel_3676372/3128689531.py:8: FutureWarning: The frame.append method is deprecated and will be removed from pandas in a future version. Use pandas.concat instead.\n",
      "  df = df.append(df2,ignore_index=True)\n"
     ]
    },
    {
     "data": {
      "text/html": [
       "<div>\n",
       "<style scoped>\n",
       "    .dataframe tbody tr th:only-of-type {\n",
       "        vertical-align: middle;\n",
       "    }\n",
       "\n",
       "    .dataframe tbody tr th {\n",
       "        vertical-align: top;\n",
       "    }\n",
       "\n",
       "    .dataframe thead th {\n",
       "        text-align: right;\n",
       "    }\n",
       "</style>\n",
       "<table border=\"1\" class=\"dataframe\">\n",
       "  <thead>\n",
       "    <tr style=\"text-align: right;\">\n",
       "      <th></th>\n",
       "      <th>sepallength</th>\n",
       "      <th>sepalwidth</th>\n",
       "      <th>petallength</th>\n",
       "      <th>petalwidth</th>\n",
       "      <th>Category</th>\n",
       "      <th>Name</th>\n",
       "      <th>Score</th>\n",
       "    </tr>\n",
       "  </thead>\n",
       "  <tbody>\n",
       "    <tr>\n",
       "      <th>23</th>\n",
       "      <td>4.6</td>\n",
       "      <td>1.3</td>\n",
       "      <td>0.3</td>\n",
       "      <td>1.273913</td>\n",
       "      <td>Iris-setosa</td>\n",
       "      <td>F26</td>\n",
       "      <td>85.0</td>\n",
       "    </tr>\n",
       "    <tr>\n",
       "      <th>24</th>\n",
       "      <td>7.6</td>\n",
       "      <td>2.9</td>\n",
       "      <td>5.3</td>\n",
       "      <td>2.100000</td>\n",
       "      <td>Iris-virginica</td>\n",
       "      <td>F25</td>\n",
       "      <td>80.0</td>\n",
       "    </tr>\n",
       "    <tr>\n",
       "      <th>25</th>\n",
       "      <td>4.6</td>\n",
       "      <td>1.3</td>\n",
       "      <td>0.3</td>\n",
       "      <td>NaN</td>\n",
       "      <td>Iris-setosa</td>\n",
       "      <td>F26</td>\n",
       "      <td>85.0</td>\n",
       "    </tr>\n",
       "    <tr>\n",
       "      <th>26</th>\n",
       "      <td>7.6</td>\n",
       "      <td>2.9</td>\n",
       "      <td>5.3</td>\n",
       "      <td>2.100000</td>\n",
       "      <td>Iris-virginica</td>\n",
       "      <td>F25</td>\n",
       "      <td>80.0</td>\n",
       "    </tr>\n",
       "    <tr>\n",
       "      <th>27</th>\n",
       "      <td>4.6</td>\n",
       "      <td>1.3</td>\n",
       "      <td>0.3</td>\n",
       "      <td>NaN</td>\n",
       "      <td>Iris-setosa</td>\n",
       "      <td>F26</td>\n",
       "      <td>85.0</td>\n",
       "    </tr>\n",
       "  </tbody>\n",
       "</table>\n",
       "</div>"
      ],
      "text/plain": [
       "    sepallength  sepalwidth  petallength  petalwidth        Category Name  \\\n",
       "23          4.6         1.3          0.3    1.273913     Iris-setosa  F26   \n",
       "24          7.6         2.9          5.3    2.100000  Iris-virginica  F25   \n",
       "25          4.6         1.3          0.3         NaN     Iris-setosa  F26   \n",
       "26          7.6         2.9          5.3    2.100000  Iris-virginica  F25   \n",
       "27          4.6         1.3          0.3         NaN     Iris-setosa  F26   \n",
       "\n",
       "    Score  \n",
       "23   85.0  \n",
       "24   80.0  \n",
       "25   85.0  \n",
       "26   80.0  \n",
       "27   85.0  "
      ]
     },
     "execution_count": 19,
     "metadata": {},
     "output_type": "execute_result"
    }
   ],
   "source": [
    "print(1128)\n",
    "\n",
    "df1 = {'sepallength':7.6,'sepalwidth':2.9,'petallength':5.3,'petalwidth':2.1,'Category':'Iris-virginica','Name':'F25','Score':80}\n",
    "\n",
    "df2 = {'sepallength':4.6,'sepalwidth':1.3,'petallength':0.3,'Category':'Iris-setosa','Name':'F26','Score':85}\n",
    "     \n",
    "df = df.append(df1,ignore_index=True)\n",
    "df = df.append(df2,ignore_index=True)   \n",
    "df.tail()\n"
   ]
  },
  {
   "cell_type": "markdown",
   "id": "e3cf0115-29d2-4cc5-8336-fc095dcfca7d",
   "metadata": {},
   "source": [
    "Q11: Replace NaN value in 'petalwidth' with mean petalwidth values and display last 5 rows."
   ]
  },
  {
   "cell_type": "code",
   "execution_count": 13,
   "id": "0d362427-f461-41fd-a0ae-e629201212f1",
   "metadata": {},
   "outputs": [
    {
     "name": "stdout",
     "output_type": "stream",
     "text": [
      "1128\n"
     ]
    },
    {
     "data": {
      "text/html": [
       "<div>\n",
       "<style scoped>\n",
       "    .dataframe tbody tr th:only-of-type {\n",
       "        vertical-align: middle;\n",
       "    }\n",
       "\n",
       "    .dataframe tbody tr th {\n",
       "        vertical-align: top;\n",
       "    }\n",
       "\n",
       "    .dataframe thead th {\n",
       "        text-align: right;\n",
       "    }\n",
       "</style>\n",
       "<table border=\"1\" class=\"dataframe\">\n",
       "  <thead>\n",
       "    <tr style=\"text-align: right;\">\n",
       "      <th></th>\n",
       "      <th>sepallength</th>\n",
       "      <th>sepalwidth</th>\n",
       "      <th>petallength</th>\n",
       "      <th>petalwidth</th>\n",
       "      <th>Category</th>\n",
       "      <th>Name</th>\n",
       "      <th>Score</th>\n",
       "    </tr>\n",
       "  </thead>\n",
       "  <tbody>\n",
       "    <tr>\n",
       "      <th>19</th>\n",
       "      <td>6.5</td>\n",
       "      <td>3.0</td>\n",
       "      <td>5.8</td>\n",
       "      <td>2.200000</td>\n",
       "      <td>Iris-virginica</td>\n",
       "      <td>F21</td>\n",
       "      <td>22.0</td>\n",
       "    </tr>\n",
       "    <tr>\n",
       "      <th>20</th>\n",
       "      <td>7.6</td>\n",
       "      <td>3.0</td>\n",
       "      <td>6.6</td>\n",
       "      <td>2.100000</td>\n",
       "      <td>Iris-virginica</td>\n",
       "      <td>F22</td>\n",
       "      <td>27.0</td>\n",
       "    </tr>\n",
       "    <tr>\n",
       "      <th>21</th>\n",
       "      <td>7.3</td>\n",
       "      <td>2.9</td>\n",
       "      <td>6.3</td>\n",
       "      <td>1.800000</td>\n",
       "      <td>Iris-virginica</td>\n",
       "      <td>F24</td>\n",
       "      <td>21.0</td>\n",
       "    </tr>\n",
       "    <tr>\n",
       "      <th>22</th>\n",
       "      <td>7.6</td>\n",
       "      <td>2.9</td>\n",
       "      <td>5.3</td>\n",
       "      <td>2.100000</td>\n",
       "      <td>Iris-virginica</td>\n",
       "      <td>F25</td>\n",
       "      <td>80.0</td>\n",
       "    </tr>\n",
       "    <tr>\n",
       "      <th>23</th>\n",
       "      <td>4.6</td>\n",
       "      <td>1.3</td>\n",
       "      <td>0.3</td>\n",
       "      <td>1.273913</td>\n",
       "      <td>Iris-setosa</td>\n",
       "      <td>F26</td>\n",
       "      <td>85.0</td>\n",
       "    </tr>\n",
       "  </tbody>\n",
       "</table>\n",
       "</div>"
      ],
      "text/plain": [
       "    sepallength  sepalwidth  petallength  petalwidth        Category Name  \\\n",
       "19          6.5         3.0          5.8    2.200000  Iris-virginica  F21   \n",
       "20          7.6         3.0          6.6    2.100000  Iris-virginica  F22   \n",
       "21          7.3         2.9          6.3    1.800000  Iris-virginica  F24   \n",
       "22          7.6         2.9          5.3    2.100000  Iris-virginica  F25   \n",
       "23          4.6         1.3          0.3    1.273913     Iris-setosa  F26   \n",
       "\n",
       "    Score  \n",
       "19   22.0  \n",
       "20   27.0  \n",
       "21   21.0  \n",
       "22   80.0  \n",
       "23   85.0  "
      ]
     },
     "execution_count": 13,
     "metadata": {},
     "output_type": "execute_result"
    }
   ],
   "source": [
    "print(1128)\n",
    "import numpy as np \n",
    "m= df['petalwidth'].mean()\n",
    "df.replace(to_replace=np.nan, value=m, inplace=True)\n",
    "df.tail()"
   ]
  },
  {
   "cell_type": "markdown",
   "id": "28e5b9a5-e091-45f5-aec0-7c45ddfae9cb",
   "metadata": {},
   "source": [
    "Q12:Detect the outliers in 'Score' with boxplot."
   ]
  },
  {
   "cell_type": "code",
   "execution_count": 14,
   "id": "37587788-5497-46d6-9829-4499dcc6e36e",
   "metadata": {},
   "outputs": [
    {
     "name": "stdout",
     "output_type": "stream",
     "text": [
      "1128\n",
      "Mean:  25.916666666666668\n",
      "Standard Deviation:  18.301619473760205\n",
      "Variance:  334.9492753623188\n"
     ]
    },
    {
     "data": {
      "image/png": "[encoded data removed]",
      "text/plain": [
       "<Figure size 500x500 with 1 Axes>"
      ]
     },
     "metadata": {},
     "output_type": "display_data"
    }
   ],
   "source": [
    "print(1128)\n",
    "sns.catplot(x='Score', kind='box', data=df)\n",
    "print('Mean: ', df['Score'].mean())\n",
    "print('Standard Deviation: ',df['Score'].std())\n",
    "print('Variance: ',df['Score'].var())"
   ]
  },
  {
   "cell_type": "markdown",
   "id": "310a76d3-d34a-46fd-93c4-ca59a366e9cf",
   "metadata": {},
   "source": [
    "Q13:Remove the outliers using IQR and recalculate IQR in outlier removed 'Score' column\n",
    "and analyse with boxplot (Use df.copy())."
   ]
  },
  {
   "cell_type": "code",
   "execution_count": 15,
   "id": "676f3083-a8ee-40b6-b345-562ce87baf41",
   "metadata": {},
   "outputs": [
    {
     "name": "stdout",
     "output_type": "stream",
     "text": [
      "1128\n",
      "16.75 27.0\n",
      "IQR:  10.25\n"
     ]
    },
    {
     "data": {
      "text/plain": [
       "<seaborn.axisgrid.FacetGrid at 0x7f89126b5f40>"
      ]
     },
     "execution_count": 15,
     "metadata": {},
     "output_type": "execute_result"
    },
    {
     "data": {
      "image/png": "[encoded data removed]",
      "text/plain": [
       "<Figure size 500x500 with 1 Axes>"
      ]
     },
     "metadata": {},
     "output_type": "display_data"
    }
   ],
   "source": [
    "print(1128)\n",
    "Q1 = df['Score'].quantile(.25)\n",
    "Q3 = df['Score'].quantile(.75)\n",
    "IQR = Q3-Q1\n",
    "print(Q1,Q3)\n",
    "print('IQR: ',(Q3-Q1))\n",
    "l = Q1-1.5*IQR\n",
    "h = Q3+1.5*IQR\n",
    "new_frame = df[(df['Score']>l) & (df['Score']<h)]\n",
    "new_frame.shape\n",
    "new_frame.tail()\n",
    "sns.catplot(x='Score', kind='box', data=new_frame)"
   ]
  },
  {
   "cell_type": "markdown",
   "id": "2fcc85cb-789e-4925-908d-e963b7e28b3b",
   "metadata": {},
   "source": [
    "Q14: Remove the outliers using z-score and recalculate z-score in outlier removed 'Score' and\n",
    "analyse with boxplot (Use df.copy())."
   ]
  },
  {
   "cell_type": "code",
   "execution_count": 16,
   "id": "b9180c20-a344-4351-9ecf-f8e385530704",
   "metadata": {},
   "outputs": [
    {
     "name": "stdout",
     "output_type": "stream",
     "text": [
      "1128\n",
      "Z-score: 0    -0.776761\n",
      "1    -0.441870\n",
      "2    -0.665131\n",
      "3    -0.218609\n",
      "4     0.060466\n",
      "5    -0.106979\n",
      "6    -0.162794\n",
      "7    -0.553500\n",
      "8    -0.386055\n",
      "9    -0.274425\n",
      "10   -0.051164\n",
      "11    0.116282\n",
      "12    0.172097\n",
      "13   -0.832576\n",
      "14    0.227912\n",
      "15   -0.776761\n",
      "16   -0.106979\n",
      "17   -0.497685\n",
      "18   -0.609316\n",
      "19   -0.218609\n",
      "20    0.060466\n",
      "21   -0.274425\n",
      "22    3.018670\n",
      "23    3.297746\n",
      "Name: Score, dtype: float64\n"
     ]
    },
    {
     "data": {
      "text/plain": [
       "<seaborn.axisgrid.FacetGrid at 0x7f89126c7a60>"
      ]
     },
     "execution_count": 16,
     "metadata": {},
     "output_type": "execute_result"
    },
    {
     "data": {
      "image/png": "[encoded data removed]",
      "text/plain": [
       "<Figure size 500x500 with 1 Axes>"
      ]
     },
     "metadata": {},
     "output_type": "display_data"
    }
   ],
   "source": [
    "print(1128)\n",
    "zscore = stats.zscore(df['Score'])\n",
    "print('Z-score:',zscore)\n",
    "\n",
    "filtered = (zscore<3)\n",
    "new_df2 = df[filtered]\n",
    "new_df2.tail()\n",
    "sns.catplot(x='Score', kind='box', data=new_df2)"
   ]
  },
  {
   "cell_type": "markdown",
   "id": "6e42142a-c1d3-4764-82d1-48f67a043877",
   "metadata": {},
   "source": [
    "Q15:Drop the last two rows added in the dataframe."
   ]
  },
  {
   "cell_type": "code",
   "execution_count": 2,
   "id": "55e45729-66da-48a0-ab24-8204967ae32c",
   "metadata": {},
   "outputs": [
    {
     "name": "stdout",
     "output_type": "stream",
     "text": [
      "URK21CS1128\n",
      "    sepallength  sepalwidth  petallength  petalwidth            class Name  Score   Color\n",
      "0           5.1         3.5          1.4         0.2      Iris-setosa   F1   12.0     Red\n",
      "1           4.9         3.0          1.4         0.2      Iris-setosa   F2    NaN    Blue\n",
      "2           4.7         3.2          1.3         0.2      Iris-setosa   F3   18.0  Orange\n",
      "3           4.6         3.1          1.5         0.2      Iris-setosa   F4   14.0  Purple\n",
      "4           5.0         3.6          1.4         0.2      Iris-setosa   F5   22.0     Red\n",
      "5           5.4         3.9          1.7         0.4      Iris-setosa   F6   27.0    Blue\n",
      "6           4.6         3.4          1.4         0.3      Iris-setosa   F7   24.0  Orange\n",
      "7           5.0         3.4          1.5         0.2      Iris-setosa   F8   23.0  Purple\n",
      "8           7.0         3.2          4.7         1.4  Iris-versicolor   F9   16.0     Red\n",
      "9           6.4         3.2          4.5         1.5  Iris-versicolor  F10   19.0    Blue\n",
      "10          6.9         3.1          4.9         1.5  Iris-versicolor  F11   21.0  Orange\n",
      "11          5.5         2.3          4.0         1.3  Iris-versicolor  F12   25.0  Purple\n",
      "12          6.5         2.8          4.6         1.5  Iris-versicolor  F13   28.0     Red\n",
      "13          5.7         2.8          4.5         1.3  Iris-versicolor  F14   29.0    Blue\n",
      "14          6.3         3.3          4.7         1.6  Iris-versicolor  F15   11.0  Orange\n",
      "15          4.9         2.4          3.3         1.0  Iris-versicolor  F16   30.0  Purple\n",
      "16          6.3         3.3          6.0         2.5   Iris-virginica  F17   12.0     Red\n",
      "17          5.8         2.7          5.1         1.9   Iris-virginica  F18   24.0    Blue\n",
      "18          7.1         3.0          5.9         2.1   Iris-virginica  F19   17.0  Orange\n",
      "19          6.3         2.9          5.6         1.8   Iris-virginica  F20   15.0  Purple\n",
      "20          6.5         3.0          5.8         2.2   Iris-virginica  F21   22.0     Red\n",
      "21          7.6         3.0          6.6         2.1   Iris-virginica  F22   27.0    Blue\n",
      "24          7.3         2.9          6.3         1.8   Iris-virginica  F24   21.0  Purple\n"
     ]
    }
   ],
   "source": [
    "#15 Drop the last two rows added in the dataframe\n",
    "print('URK21CS1128')\n",
    "df = df.drop([22,23])\n",
    "df.shape\n",
    "print(df.to_string())"
   ]
  },
  {
   "cell_type": "markdown",
   "id": "a79d8091-fa17-473a-9610-2ff7a53c005f",
   "metadata": {},
   "source": [
    "Result: "
   ]
  },
  {
   "cell_type": "code",
   "execution_count": null,
   "id": "4bfa754c-3902-43c0-a86c-6f08089241dc",
   "metadata": {},
   "outputs": [],
   "source": [
    "The basic functionalities of data visualization using python were executed successfully."
   ]
  },
  {
   "cell_type": "code",
   "execution_count": null,
   "id": "83000f6f-285e-46b2-9580-eb14156055ae",
   "metadata": {},
   "outputs": [],
   "source": []
  },
  {
   "cell_type": "code",
   "execution_count": null,
   "id": "a040a537-77f1-4909-89bf-6af7ec5d2070",
   "metadata": {},
   "outputs": [],
   "source": []
  }
 ],
 "metadata": {
  "kernelspec": {
   "display_name": "Python 3 (ipykernel)",
   "language": "python",
   "name": "python3"
  },
  "language_info": {
   "codemirror_mode": {
    "name": "ipython",
    "version": 3
   },
   "file_extension": ".py",
   "mimetype": "text/x-python",
   "name": "python",
   "nbconvert_exporter": "python",
   "pygments_lexer": "ipython3",
   "version": "3.9.15"
  }
 },
 "nbformat": 4,
 "nbformat_minor": 5
}

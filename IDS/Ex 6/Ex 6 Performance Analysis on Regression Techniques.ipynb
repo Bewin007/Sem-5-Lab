{
 "cells": [
  {
   "cell_type": "code",
   "execution_count": null,
   "id": "393ee35e-97d2-408b-abb2-53c04a015eb8",
   "metadata": {},
   "outputs": [],
   "source": [
    "Exp no: 6\n",
    "Date: 04/09/2023"
   ]
  },
  {
   "cell_type": "code",
   "execution_count": null,
   "id": "67781e85-104f-4215-a3cb-6dcc7008d1d8",
   "metadata": {},
   "outputs": [],
   "source": [
    "Bewin Felix R A\n",
    "URK21CS1128\n"
   ]
  },
  {
   "cell_type": "code",
   "execution_count": null,
   "id": "628e9565-05da-4645-9e90-aea17ee76816",
   "metadata": {},
   "outputs": [],
   "source": [
    "Aim:\n",
    "    To execute the functionalities of Performance Analysis on Regression Techniques using data science."
   ]
  },
  {
   "cell_type": "markdown",
   "id": "ead15702-1b2c-47ff-8b56-a412860f2849",
   "metadata": {},
   "source": [
    "Description:\n",
    "\n",
    "    Machine learning has two types Supervised and Unsupervised learning. Supervised has Classification and Regression and Unsupervised has clustering and association.Regression has many types in that Linear Regression it has two types simple linear regression and multiple linear regression.\n",
    "\n",
    "Regression: It predicts the continuous output variables based on the independent input variable. like the prediction of house prices based on different parameters like house age, distance from the main road, location, area, etc.\n",
    "\n",
    "Linear regression is a type of supervised machine learning algorithm that computes the linear relationship between a dependent variable and one or more independent features. When the number of the independent feature, is 1 then it is known as Univariate Linear regression, and in the case of more than one feature, it is known as multivariate linear regression.\n",
    "\n",
    "Linear regression is one of the most basic types of regression in machine learning. The linear regression model consists of a predictor variable and a dependent variable related linearly to each other. In case the data involves more than one independent variable, then linear regression is called multiple linear regression models.\n",
    "\n",
    "Simple Linear Regression is a type of Regression algorithms that models the relationship between a dependent variable and a single independent variable. The relationship shown by a Simple Linear Regression model is linear or a sloped straight line, hence it is called Simple Linear Regression.\n",
    "\n",
    "The key point in Simple Linear Regression is that the dependent variable must be a continuous/real value. However, the independent variable can be measured on continuous or categorical values.\n",
    "\n",
    "Simple Linear regression algorithm has mainly two objectives:\n",
    "\n",
    "Model the relationship between the two variables. Such as the relationship between Income and expenditure, experience and Salary, etc. Forecasting new observations. Such as Weather forecasting according to temperature, Revenue of a company according to the investments in a year, etc.\n"
   ]
  },
  {
   "cell_type": "code",
   "execution_count": 1,
   "id": "c9008b6d-b1da-4e40-9db3-b0625ad9730f",
   "metadata": {},
   "outputs": [],
   "source": [
    "import matplotlib.pyplot as plt\n",
    "import pandas as pd\n",
    "import numpy as np\n",
    "from sklearn.metrics import mean_absolute_error,mean_squared_error,r2_score\n",
    "from sklearn.linear_model import LinearRegression\n",
    "import math\n",
    "from sklearn.model_selection import train_test_split"
   ]
  },
  {
   "cell_type": "code",
   "execution_count": 2,
   "id": "c8915868-b1da-4edb-b85f-ac62897327ac",
   "metadata": {},
   "outputs": [
    {
     "name": "stdout",
     "output_type": "stream",
     "text": [
      "URK21CS1128\n",
      "Slope:  0.3852249832102082\n",
      "Intercept:  65.1415715245131\n"
     ]
    }
   ],
   "source": [
    "#1 a. Calculate the intercept and regression coefficients in y=b0+xb1\n",
    "print('URK21CS1128')\n",
    "sub=[1,2,3,4,5,6]\n",
    "x=[43,21,25,42,57,59]\n",
    "y=[99,65,79,75,87,81]\n",
    "x=np.array(x)\n",
    "y=np.array(y)\n",
    "m_x=np.mean(x)\n",
    "m_y=np.mean(y)\n",
    "xx=x-m_x\n",
    "yy=y-m_y\n",
    "xy=xx*yy\n",
    "xx2=xx*xx\n",
    "\n",
    "b1=sum(xy)/sum(xx2)\n",
    "b0=m_y-(b1*m_x)\n",
    "print('Slope: ',b1)\n",
    "print('Intercept: ',b0)\n",
    "y_pred=b0+b1*x"
   ]
  },
  {
   "cell_type": "code",
   "execution_count": 3,
   "id": "7b5ca3eb-8120-49f9-adc2-895a5f91bd0b",
   "metadata": {},
   "outputs": [
    {
     "name": "stdout",
     "output_type": "stream",
     "text": [
      "URK21CS1128\n",
      "MAE: 7.173852697559885\n",
      "MSE: 78.64374300425344\n",
      "RMSE: 2.678404879319011\n",
      "R2 score: 0.2806974725220722\n"
     ]
    }
   ],
   "source": [
    "# b. Analyse the various performance metrics (Mean Squared Error, Mean Absolute Error,Root Mean Squared Error, and R-Squared)\n",
    "print('URK21CS1128')\n",
    "print('MAE:',mean_absolute_error(y,y_pred))\n",
    "print('MSE:',mean_squared_error(y,y_pred))\n",
    "print('RMSE:',math.sqrt(mean_absolute_error(y,y_pred)))\n",
    "print('R2 score:',r2_score(y,y_pred))"
   ]
  },
  {
   "cell_type": "code",
   "execution_count": 5,
   "id": "a0242530-0004-4d59-b8f6-5e82c6dd6650",
   "metadata": {},
   "outputs": [],
   "source": [
    "#2 Develop the linear regression model for the prediction of Graduate Admissions from an Indian perspective in-terms of GRE Scores, LOR, CGPA using the scikit-learn\n",
    "df=pd.read_csv('Admission.csv',index_col=0)\n",
    "x1=df['GRE Score']\n",
    "x2=df['LOR ']\n",
    "x3=df['CGPA']\n",
    "y=df['Chance of Admit ']\n",
    "# a. Divide the data into training (75%) and testing set (25%)\n",
    "x1_train,x1_test,y_train,y_test=train_test_split(x1,y,test_size=0.25,random_state=1)\n",
    "x2_train,x2_test,y_train,y_test=train_test_split(x2,y,test_size=0.25,random_state=1)\n",
    "x3_train,x3_test,y_train,y_test=train_test_split(x3,y,test_size=0.25,random_state=1)"
   ]
  },
  {
   "cell_type": "code",
   "execution_count": 6,
   "id": "1763ba06-25f4-489e-b971-a377c6a35002",
   "metadata": {},
   "outputs": [
    {
     "name": "stdout",
     "output_type": "stream",
     "text": [
      "URK21CS1128\n",
      "Impact of GRE Score on Chance of Admit\n",
      "Regression coefficient=  [[0.01004167]]\n",
      "Intercept=  [-2.45230421] \n",
      "\n",
      "Impact of LOR on Chance of Admit\n",
      "Regression coefficient=  [[0.09357372]]\n",
      "Intercept=  [0.39662437] \n",
      "\n",
      "Impact of CGPA on Chance of Admit\n",
      "Regression coefficient=  [[0.20599061]]\n",
      "Intercept=  [-1.04359588]\n"
     ]
    }
   ],
   "source": [
    "# b. Display the intercept and regression coefficients for the following cases\n",
    "#       1. Analyse the impact of GRE scores to the Chance of Admit\n",
    "#       2. Analyse the impact of LOR to the Chance of Admit\n",
    "#       3. Analyse the impact of CGPA to the Chance of Admit\n",
    "print('URK21CS1128')\n",
    "x1_train=np.array(x1_train).reshape(-1,1)\n",
    "y_train=np.array(y_train).reshape(-1,1)\n",
    "model1=LinearRegression()\n",
    "model1.fit(x1_train,y_train)\n",
    "print('Impact of GRE Score on Chance of Admit')\n",
    "print('Regression coefficient= ',model1.coef_)\n",
    "print('Intercept= ',model1.intercept_,'\\n')\n",
    "x2_train=np.array(x2_train).reshape(-1,1)\n",
    "y_train=np.array(y_train).reshape(-1,1)\n",
    "model2=LinearRegression()\n",
    "model2.fit(x2_train,y_train)\n",
    "print('Impact of LOR on Chance of Admit')\n",
    "print('Regression coefficient= ',model2.coef_)\n",
    "print('Intercept= ',model2.intercept_,'\\n')\n",
    "x3_train=np.array(x3_train).reshape(-1,1)\n",
    "y_train=np.array(y_train).reshape(-1,1)\n",
    "model3=LinearRegression()\n",
    "model3.fit(x3_train,y_train)\n",
    "print('Impact of CGPA on Chance of Admit')\n",
    "print('Regression coefficient= ',model3.coef_)\n",
    "print('Intercept= ',model3.intercept_)"
   ]
  },
  {
   "cell_type": "code",
   "execution_count": 7,
   "id": "7ff025d6-aaca-491e-8218-185e116fff17",
   "metadata": {},
   "outputs": [],
   "source": [
    "# c. Predict the y value (y’) for the testing set (x) and analyse the performance metrics with the actual value (y) and predicted values (y’) for the above 3 cases\n",
    "x1_test=np.array(x1_test).reshape(-1,1)\n",
    "x2_test=np.array(x2_test).reshape(-1,1)\n",
    "x3_test=np.array(x3_test).reshape(-1,1)\n",
    "y1_p=model1.predict(x1_test)\n",
    "y2_p=model2.predict(x2_test)\n",
    "y3_p=model3.predict(x3_test)\n",
    "y_test=np.array(y_test).reshape(-1,1)"
   ]
  },
  {
   "cell_type": "code",
   "execution_count": 8,
   "id": "12dabb32-ac2b-4463-a8e2-a9db4b35d2b9",
   "metadata": {},
   "outputs": [
    {
     "name": "stdout",
     "output_type": "stream",
     "text": [
      "URK21CS1128\n",
      "\n",
      "Impact of GRE Score on Chance of Admit\n",
      "MAE: 0.06264911695468035\n",
      "MSE: 0.007625959038845016\n",
      "RMSE: 0.25029805623432305\n",
      "R2 score: 0.6260055317126936 \n",
      "\n",
      "Impact of LOR on Chance of Admit\n",
      "MAE: 0.08129920544256705\n",
      "MSE: 0.010893335796659088\n",
      "RMSE: 0.2851301552669711\n",
      "R2 score: 0.4657659045381354 \n",
      "\n",
      "Impact of CGPA on Chance of Admit\n",
      "MAE: 0.04514566173687265\n",
      "MSE: 0.004336070707235971\n",
      "RMSE: 0.21247508497909268\n",
      "R2 score: 0.7873491779396589\n"
     ]
    }
   ],
   "source": [
    "print('URK21CS1128\\n')\n",
    "print('Impact of GRE Score on Chance of Admit')\n",
    "print('MAE:',mean_absolute_error(y_test,y1_p))\n",
    "print('MSE:',mean_squared_error(y_test,y1_p))\n",
    "print('RMSE:',math.sqrt(mean_absolute_error(y_test,y1_p)))\n",
    "print('R2 score:',r2_score(y_test,y1_p),'\\n')\n",
    "print('Impact of LOR on Chance of Admit')\n",
    "print('MAE:',mean_absolute_error(y_test,y2_p))\n",
    "print('MSE:',mean_squared_error(y_test,y2_p))\n",
    "print('RMSE:',math.sqrt(mean_absolute_error(y_test,y2_p)))\n",
    "print('R2 score:',r2_score(y_test,y2_p),'\\n')\n",
    "print('Impact of CGPA on Chance of Admit')\n",
    "print('MAE:',mean_absolute_error(y_test,y3_p))\n",
    "print('MSE:',mean_squared_error(y_test,y3_p))\n",
    "print('RMSE:',math.sqrt(mean_absolute_error(y_test,y3_p)))\n",
    "print('R2 score:',r2_score(y_test,y3_p))"
   ]
  },
  {
   "cell_type": "code",
   "execution_count": 9,
   "id": "6efc85af-0f12-4048-a82d-e160371bb8dd",
   "metadata": {},
   "outputs": [
    {
     "name": "stdout",
     "output_type": "stream",
     "text": [
      "URK21CS1128\n",
      "CGPA has the highest impact on the prediction of graduate admissions\n"
     ]
    },
    {
     "data": {
      "image/png": "[encoded data removed]",
      "text/plain": [
       "<Figure size 640x480 with 1 Axes>"
      ]
     },
     "metadata": {},
     "output_type": "display_data"
    }
   ],
   "source": [
    "# d. Identify the input parameter that has a greater impact in the prediction of Graduate Admissions from an Indian perspective\n",
    "print('URK21CS1128')\n",
    "print('CGPA has the highest impact on the prediction of graduate admissions')\n",
    "# e. Plot the regression line for the input parameter that has a greater impact in the prediction of prediction of Graduate Admissions from an Indian perspective\n",
    "plt.scatter(x3_test,y_test,marker='o',s=30)\n",
    "plt.plot(x3_test,y3_p,c='red')\n",
    "plt.xlabel('CGPA')\n",
    "plt.ylabel('Chance of Admit')\n",
    "plt.show()"
   ]
  },
  {
   "cell_type": "code",
   "execution_count": null,
   "id": "9b65d8db-2215-4c31-add6-ff9db8c4ec0a",
   "metadata": {},
   "outputs": [],
   "source": [
    "Result:\n",
    "    The functionalities of Performance Analysis on Regression Techniques using data science were executed successfully"
   ]
  }
 ],
 "metadata": {
  "kernelspec": {
   "display_name": "Python 3 (ipykernel)",
   "language": "python",
   "name": "python3"
  },
  "language_info": {
   "codemirror_mode": {
    "name": "ipython",
    "version": 3
   },
   "file_extension": ".py",
   "mimetype": "text/x-python",
   "name": "python",
   "nbconvert_exporter": "python",
   "pygments_lexer": "ipython3",
   "version": "3.9.15"
  }
 },
 "nbformat": 4,
 "nbformat_minor": 5
}

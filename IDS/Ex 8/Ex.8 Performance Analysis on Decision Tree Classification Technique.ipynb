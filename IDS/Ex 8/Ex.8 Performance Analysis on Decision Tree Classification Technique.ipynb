{
 "cells": [
  {
   "cell_type": "code",
   "execution_count": null,
   "id": "7591e726-7cde-4624-a653-bff37f094a82",
   "metadata": {},
   "outputs": [],
   "source": [
    "Bewin Felix R A\n",
    "URK21CS1128"
   ]
  },
  {
   "cell_type": "code",
   "execution_count": null,
   "id": "2b3ea40d-43f0-4328-b48b-bf7b947ce284",
   "metadata": {},
   "outputs": [],
   "source": [
    "AIM:\n",
    "    To analyse the performance of Decision Tree Classification Technique."
   ]
  },
  {
   "cell_type": "code",
   "execution_count": null,
   "id": "2923b604-cb6e-4421-bb74-7ae1cfb96283",
   "metadata": {},
   "outputs": [],
   "source": [
    "DESCRIPTION:\n",
    "    Decision Tree is a Supervised learning technique that can be used for both \n",
    "classification and Regression problems, but mostly it is preferred for solving \n",
    "Classification problems. It is a tree-structured classifier, where internal \n",
    "nodes represent the features of a dataset, branches represent the decision \n",
    "rules and each leaf node␣represents the outcome.\n",
    "In a Decision tree, there are two nodes, which are the Decision Node␣and Leaf\n",
    "Node. Decision nodes are used to make any decision and have multiple branches,\n",
    "whereas Leaf nodes are the output of those decisions and do not contain any\n",
    "further branches.The decisions or the test are performed on the basis of \n",
    "features of the given dataset. It is a graphical representation for getting\n",
    "all the possible solutions to a problem/decision based on given conditions.\n",
    "It is called a decision tree because, similar to a tree, it starts with the\n",
    "root node, which expands on further branches and constructs a tree-like \n",
    "structure. In order to build a tree, we use the CART algorithm, which stands \n",
    "for Classification and Regression Tree algorithm. A decision tree simply asks\n",
    "a question, and based on the answer (Yes/No), it further split the tree into\n",
    "subtrees.\n",
    "Decision Tree Terminologies\n",
    "Root Node: Root node is from where the decision tree starts. It represents the\n",
    "entire dataset, which further gets divided into two or more homogeneous sets.\n",
    "Leaf Node: Leaf nodes are the final output node, and the tree cannot be\n",
    "segregated further after getting a leaf node.\n",
    "Splitting: Splitting is the process of dividing the decision node/root nodE \n",
    "into sub-nodes according to the given conditions.\n",
    "Branch/Sub Tree: A tree formed by splitting the tree.\n",
    "Pruning: Pruning is the process of removing the unwanted branches from␣the tree.\n",
    "Parent/Child node: The root node of the tree is called the parent node, and \n",
    "other nodes are called the child nodes.\n",
    "Algorithm:\n",
    "Step-1: Begin the tree with the root node, says S, which contains the␣complete\n",
    "dataset.\n",
    "Step-2: Find the best attribute in the dataset using Attribute Selection\n",
    "Measure (ASM).\n",
    "Step-3: Divide the S into subsets that contains possible values for the best\n",
    "attributes.\n",
    "Step-4: Generate the decision tree node, which contains the best attribute.\n",
    "Step-5: Recursively make new decision trees using the subsets of the dataset\n",
    "created in step3.\n",
    "Continue this process until a stage is reached where you cannot further \n",
    "classify the nodes and called the final node as a leaf node.\n"
   ]
  },
  {
   "cell_type": "code",
   "execution_count": null,
   "id": "c8fb5e21-90d3-4a92-92e8-c9cde8172d9d",
   "metadata": {},
   "outputs": [],
   "source": [
    "1. Develop a Decision Tree classification model for the Social_Network dataset using the\n",
    "scikit-learn"
   ]
  },
  {
   "cell_type": "code",
   "execution_count": 3,
   "id": "bda0acbe-29cb-4624-bec8-ef2871db6404",
   "metadata": {},
   "outputs": [],
   "source": [
    "import pandas as pd\n",
    "import matplotlib.pyplot as plt\n",
    "from sklearn.model_selection import train_test_split\n",
    "from sklearn.tree import DecisionTreeClassifier, plot_tree\n",
    "from sklearn.metrics import confusion_matrix, accuracy_score, precision_score,f1_score, recall_score\n",
    "from sklearn.metrics import roc_curve\n",
    "from sklearn.metrics import auc\n",
    "from sklearn.metrics import roc_auc_score"
   ]
  },
  {
   "cell_type": "code",
   "execution_count": 4,
   "id": "bc5faf25-fd4b-43f5-b886-8bef5b633044",
   "metadata": {},
   "outputs": [
    {
     "name": "stdout",
     "output_type": "stream",
     "text": [
      "1128\n"
     ]
    },
    {
     "data": {
      "text/html": [
       "<div>\n",
       "<style scoped>\n",
       "    .dataframe tbody tr th:only-of-type {\n",
       "        vertical-align: middle;\n",
       "    }\n",
       "\n",
       "    .dataframe tbody tr th {\n",
       "        vertical-align: top;\n",
       "    }\n",
       "\n",
       "    .dataframe thead th {\n",
       "        text-align: right;\n",
       "    }\n",
       "</style>\n",
       "<table border=\"1\" class=\"dataframe\">\n",
       "  <thead>\n",
       "    <tr style=\"text-align: right;\">\n",
       "      <th></th>\n",
       "      <th>User ID</th>\n",
       "      <th>Gender</th>\n",
       "      <th>Age</th>\n",
       "      <th>EstimatedSalary</th>\n",
       "      <th>Purchased</th>\n",
       "    </tr>\n",
       "  </thead>\n",
       "  <tbody>\n",
       "    <tr>\n",
       "      <th>0</th>\n",
       "      <td>15668575</td>\n",
       "      <td>0</td>\n",
       "      <td>26</td>\n",
       "      <td>43000</td>\n",
       "      <td>No</td>\n",
       "    </tr>\n",
       "    <tr>\n",
       "      <th>1</th>\n",
       "      <td>15603246</td>\n",
       "      <td>0</td>\n",
       "      <td>27</td>\n",
       "      <td>57000</td>\n",
       "      <td>No</td>\n",
       "    </tr>\n",
       "    <tr>\n",
       "      <th>2</th>\n",
       "      <td>15598044</td>\n",
       "      <td>0</td>\n",
       "      <td>27</td>\n",
       "      <td>84000</td>\n",
       "      <td>No</td>\n",
       "    </tr>\n",
       "    <tr>\n",
       "      <th>3</th>\n",
       "      <td>15727311</td>\n",
       "      <td>0</td>\n",
       "      <td>35</td>\n",
       "      <td>65000</td>\n",
       "      <td>No</td>\n",
       "    </tr>\n",
       "    <tr>\n",
       "      <th>4</th>\n",
       "      <td>15570769</td>\n",
       "      <td>0</td>\n",
       "      <td>26</td>\n",
       "      <td>80000</td>\n",
       "      <td>No</td>\n",
       "    </tr>\n",
       "    <tr>\n",
       "      <th>...</th>\n",
       "      <td>...</td>\n",
       "      <td>...</td>\n",
       "      <td>...</td>\n",
       "      <td>...</td>\n",
       "      <td>...</td>\n",
       "    </tr>\n",
       "    <tr>\n",
       "      <th>395</th>\n",
       "      <td>15672330</td>\n",
       "      <td>1</td>\n",
       "      <td>47</td>\n",
       "      <td>34000</td>\n",
       "      <td>Yes</td>\n",
       "    </tr>\n",
       "    <tr>\n",
       "      <th>396</th>\n",
       "      <td>15807837</td>\n",
       "      <td>1</td>\n",
       "      <td>48</td>\n",
       "      <td>33000</td>\n",
       "      <td>Yes</td>\n",
       "    </tr>\n",
       "    <tr>\n",
       "      <th>397</th>\n",
       "      <td>15592570</td>\n",
       "      <td>1</td>\n",
       "      <td>47</td>\n",
       "      <td>23000</td>\n",
       "      <td>Yes</td>\n",
       "    </tr>\n",
       "    <tr>\n",
       "      <th>398</th>\n",
       "      <td>15635893</td>\n",
       "      <td>1</td>\n",
       "      <td>60</td>\n",
       "      <td>42000</td>\n",
       "      <td>Yes</td>\n",
       "    </tr>\n",
       "    <tr>\n",
       "      <th>399</th>\n",
       "      <td>15706071</td>\n",
       "      <td>1</td>\n",
       "      <td>51</td>\n",
       "      <td>23000</td>\n",
       "      <td>Yes</td>\n",
       "    </tr>\n",
       "  </tbody>\n",
       "</table>\n",
       "<p>400 rows × 5 columns</p>\n",
       "</div>"
      ],
      "text/plain": [
       "      User ID  Gender  Age  EstimatedSalary Purchased\n",
       "0    15668575       0   26            43000        No\n",
       "1    15603246       0   27            57000        No\n",
       "2    15598044       0   27            84000        No\n",
       "3    15727311       0   35            65000        No\n",
       "4    15570769       0   26            80000        No\n",
       "..        ...     ...  ...              ...       ...\n",
       "395  15672330       1   47            34000       Yes\n",
       "396  15807837       1   48            33000       Yes\n",
       "397  15592570       1   47            23000       Yes\n",
       "398  15635893       1   60            42000       Yes\n",
       "399  15706071       1   51            23000       Yes\n",
       "\n",
       "[400 rows x 5 columns]"
      ]
     },
     "execution_count": 4,
     "metadata": {},
     "output_type": "execute_result"
    }
   ],
   "source": [
    "print('1128')\n",
    "df = pd.read_csv('Social_Network.csv')\n",
    "df\n"
   ]
  },
  {
   "cell_type": "code",
   "execution_count": 5,
   "id": "714d3974-9a61-440e-98f0-c72a6beeb883",
   "metadata": {},
   "outputs": [
    {
     "name": "stdout",
     "output_type": "stream",
     "text": [
      "1128\n"
     ]
    },
    {
     "data": {
      "text/html": [
       "<div>\n",
       "<style scoped>\n",
       "    .dataframe tbody tr th:only-of-type {\n",
       "        vertical-align: middle;\n",
       "    }\n",
       "\n",
       "    .dataframe tbody tr th {\n",
       "        vertical-align: top;\n",
       "    }\n",
       "\n",
       "    .dataframe thead th {\n",
       "        text-align: right;\n",
       "    }\n",
       "</style>\n",
       "<table border=\"1\" class=\"dataframe\">\n",
       "  <thead>\n",
       "    <tr style=\"text-align: right;\">\n",
       "      <th></th>\n",
       "      <th>Gender</th>\n",
       "      <th>Age</th>\n",
       "      <th>EstimatedSalary</th>\n",
       "    </tr>\n",
       "  </thead>\n",
       "  <tbody>\n",
       "    <tr>\n",
       "      <th>0</th>\n",
       "      <td>0</td>\n",
       "      <td>26</td>\n",
       "      <td>43000</td>\n",
       "    </tr>\n",
       "    <tr>\n",
       "      <th>1</th>\n",
       "      <td>0</td>\n",
       "      <td>27</td>\n",
       "      <td>57000</td>\n",
       "    </tr>\n",
       "    <tr>\n",
       "      <th>2</th>\n",
       "      <td>0</td>\n",
       "      <td>27</td>\n",
       "      <td>84000</td>\n",
       "    </tr>\n",
       "    <tr>\n",
       "      <th>3</th>\n",
       "      <td>0</td>\n",
       "      <td>35</td>\n",
       "      <td>65000</td>\n",
       "    </tr>\n",
       "    <tr>\n",
       "      <th>4</th>\n",
       "      <td>0</td>\n",
       "      <td>26</td>\n",
       "      <td>80000</td>\n",
       "    </tr>\n",
       "    <tr>\n",
       "      <th>...</th>\n",
       "      <td>...</td>\n",
       "      <td>...</td>\n",
       "      <td>...</td>\n",
       "    </tr>\n",
       "    <tr>\n",
       "      <th>395</th>\n",
       "      <td>1</td>\n",
       "      <td>47</td>\n",
       "      <td>34000</td>\n",
       "    </tr>\n",
       "    <tr>\n",
       "      <th>396</th>\n",
       "      <td>1</td>\n",
       "      <td>48</td>\n",
       "      <td>33000</td>\n",
       "    </tr>\n",
       "    <tr>\n",
       "      <th>397</th>\n",
       "      <td>1</td>\n",
       "      <td>47</td>\n",
       "      <td>23000</td>\n",
       "    </tr>\n",
       "    <tr>\n",
       "      <th>398</th>\n",
       "      <td>1</td>\n",
       "      <td>60</td>\n",
       "      <td>42000</td>\n",
       "    </tr>\n",
       "    <tr>\n",
       "      <th>399</th>\n",
       "      <td>1</td>\n",
       "      <td>51</td>\n",
       "      <td>23000</td>\n",
       "    </tr>\n",
       "  </tbody>\n",
       "</table>\n",
       "<p>400 rows × 3 columns</p>\n",
       "</div>"
      ],
      "text/plain": [
       "     Gender  Age  EstimatedSalary\n",
       "0         0   26            43000\n",
       "1         0   27            57000\n",
       "2         0   27            84000\n",
       "3         0   35            65000\n",
       "4         0   26            80000\n",
       "..      ...  ...              ...\n",
       "395       1   47            34000\n",
       "396       1   48            33000\n",
       "397       1   47            23000\n",
       "398       1   60            42000\n",
       "399       1   51            23000\n",
       "\n",
       "[400 rows x 3 columns]"
      ]
     },
     "execution_count": 5,
     "metadata": {},
     "output_type": "execute_result"
    }
   ],
   "source": [
    "#a. Use the columns: 'Gender', 'Age', 'EstimatedSalary' as the independent variables\n",
    "print(1128)\n",
    "x=df[['Gender', 'Age', 'EstimatedSalary']]\n",
    "x"
   ]
  },
  {
   "cell_type": "code",
   "execution_count": 6,
   "id": "85bc4b87-fc53-424c-860a-a12b1b264bd7",
   "metadata": {},
   "outputs": [
    {
     "name": "stdout",
     "output_type": "stream",
     "text": [
      "1128\n"
     ]
    },
    {
     "data": {
      "text/plain": [
       "0       No\n",
       "1       No\n",
       "2       No\n",
       "3       No\n",
       "4       No\n",
       "      ... \n",
       "395    Yes\n",
       "396    Yes\n",
       "397    Yes\n",
       "398    Yes\n",
       "399    Yes\n",
       "Name: Purchased, Length: 400, dtype: object"
      ]
     },
     "execution_count": 6,
     "metadata": {},
     "output_type": "execute_result"
    }
   ],
   "source": [
    "# b. Use the target variable as 'Purchased' (Yes-Y, No-N).\n",
    "print(1128)\n",
    "y = df['Purchased']\n",
    "y"
   ]
  },
  {
   "cell_type": "code",
   "execution_count": 7,
   "id": "ee68fd5a-cc15-46e6-8298-322952124a8e",
   "metadata": {},
   "outputs": [
    {
     "name": "stdout",
     "output_type": "stream",
     "text": [
      "1128\n"
     ]
    },
    {
     "data": {
      "text/plain": [
       "0      0\n",
       "1      0\n",
       "2      0\n",
       "3      0\n",
       "4      0\n",
       "      ..\n",
       "395    1\n",
       "396    1\n",
       "397    1\n",
       "398    1\n",
       "399    1\n",
       "Name: Purchased, Length: 400, dtype: int64"
      ]
     },
     "execution_count": 7,
     "metadata": {},
     "output_type": "execute_result"
    }
   ],
   "source": [
    "# c. Encode the categorical value of the target column to numerical value.\n",
    "print(1128)\n",
    "y.replace('Yes',1 ,inplace=True)\n",
    "y.replace('No',0,inplace=True)\n",
    "y"
   ]
  },
  {
   "cell_type": "code",
   "execution_count": 8,
   "id": "e6be926d-f78b-44f5-ba1d-80c1f85f4a9b",
   "metadata": {},
   "outputs": [
    {
     "name": "stdout",
     "output_type": "stream",
     "text": [
      "1128\n"
     ]
    }
   ],
   "source": [
    "#d. Divide the data into training (75%) and testing set (25%).\n",
    "print(1128)\n",
    "x_train,x_test,y_train,y_test=train_test_split(x,y,test_size=0.25,random_state=1)"
   ]
  },
  {
   "cell_type": "code",
   "execution_count": 9,
   "id": "f71035ee-c4c4-4b32-b151-68814ce90eec",
   "metadata": {},
   "outputs": [
    {
     "name": "stdout",
     "output_type": "stream",
     "text": [
      "1128\n"
     ]
    }
   ],
   "source": [
    "# e. Perform the classification with entropy and information gain as decision criteria in\n",
    "#decision tree\n",
    "print(1128)\n",
    "tree_entropy = DecisionTreeClassifier(criterion='entropy')\n",
    "tree_entropy.fit(x_train,y_train)\n",
    "y_pred = tree_entropy.predict(x_test)\n",
    "tree_ig = DecisionTreeClassifier(criterion='gini')\n",
    "tree_ig.fit(x_train,y_train)\n",
    "y_pred_ig = tree_ig.predict(x_test)\n"
   ]
  },
  {
   "cell_type": "code",
   "execution_count": 10,
   "id": "98f79efc-8a76-4369-ab12-07d2fe378048",
   "metadata": {},
   "outputs": [
    {
     "name": "stdout",
     "output_type": "stream",
     "text": [
      "1128\n",
      "Accuracy using Entropy :  0.8\n",
      "Accuracy using ig :  0.84\n",
      "Recall using Entropy :  0.6744186046511628\n",
      "Recall using ig :  0.7209302325581395\n",
      "Precision using Entropy :  0.8285714285714286\n",
      "Precision using ig :  0.8857142857142857\n",
      "Specificity using Entropy :  0.8947368421052632\n",
      "Specificity using ig :  0.9298245614035088\n",
      "F1_score using Entropy :  0.7435897435897435\n",
      "F1_score using ig :  0.7948717948717948\n",
      "AUC score using Entropy :  0.7845777233782129\n",
      "AUC score using ig :  0.8253773969808241\n"
     ]
    },
    {
     "data": {
      "text/plain": [
       "[<matplotlib.lines.Line2D at 0x7f56e214f730>]"
      ]
     },
     "execution_count": 10,
     "metadata": {},
     "output_type": "execute_result"
    },
    {
     "data": {
      "image/png": "[encoded data removed]",
      "text/plain": [
       "<Figure size 640x480 with 1 Axes>"
      ]
     },
     "metadata": {},
     "output_type": "display_data"
    }
   ],
   "source": [
    "# f. Analyse the performance of the classifier with various performance measures such as\n",
    "#confusion matrix, accuracy, recall, precision, specificity, f-score, Receiver operating\n",
    "#characteristic (ROC) curve and Area Under Curve (AUC) score\n",
    "print(1128)\n",
    "print('Accuracy using Entropy : ',accuracy_score(y_test,y_pred))\n",
    "print('Accuracy using ig : ',accuracy_score(y_test,y_pred_ig))\n",
    "\n",
    "print('Recall using Entropy : ',recall_score(y_test,y_pred))\n",
    "print('Recall using ig : ',recall_score(y_test,y_pred_ig))\n",
    "\n",
    "print('Precision using Entropy : ',precision_score(y_test,y_pred))\n",
    "print('Precision using ig : ',precision_score(y_test,y_pred_ig))\n",
    "\n",
    "print('Specificity using Entropy : ',recall_score(y_test,y_pred,pos_label=0))\n",
    "print('Specificity using ig : ',recall_score(y_test,y_pred_ig,pos_label=0))\n",
    "\n",
    "print('F1_score using Entropy : ',f1_score(y_test,y_pred))\n",
    "print('F1_score using ig : ',f1_score(y_test,y_pred_ig))\n",
    "\n",
    "print('AUC score using Entropy : ',roc_auc_score(y_test,y_pred))\n",
    "print('AUC score using ig : ',roc_auc_score(y_test,y_pred_ig))\n",
    "\n",
    "# ROC curve entropy\n",
    "fpr, tpr, _ = roc_curve(y_test, y_pred)\n",
    "plt.plot(fpr,tpr)\n",
    "\n",
    "#ROC curve ig\n",
    "fpr, tpr, _ = roc_curve(y_test, y_pred_ig)\n",
    "plt.plot(fpr,tpr)\n"
   ]
  },
  {
   "cell_type": "code",
   "execution_count": 11,
   "id": "76874a44-28b7-4391-8704-213c2cdae725",
   "metadata": {},
   "outputs": [
    {
     "name": "stdout",
     "output_type": "stream",
     "text": [
      "1128\n"
     ]
    },
    {
     "data": {
      "text/plain": [
       "[Text(0.41785714285714287, 0.9545454545454546, 'x[1] <= 42.5\\nentropy = 0.918\\nsamples = 300\\nvalue = [200, 100]'),\n",
       " Text(0.21428571428571427, 0.8636363636363636, 'x[2] <= 89500.0\\nentropy = 0.603\\nsamples = 217\\nvalue = [185, 32]'),\n",
       " Text(0.05714285714285714, 0.7727272727272727, 'x[1] <= 36.5\\nentropy = 0.121\\nsamples = 182\\nvalue = [179, 3]'),\n",
       " Text(0.02857142857142857, 0.6818181818181818, 'entropy = 0.0\\nsamples = 129\\nvalue = [129, 0]'),\n",
       " Text(0.08571428571428572, 0.6818181818181818, 'x[2] <= 67500.0\\nentropy = 0.314\\nsamples = 53\\nvalue = [50, 3]'),\n",
       " Text(0.05714285714285714, 0.5909090909090909, 'entropy = 0.0\\nsamples = 25\\nvalue = [25, 0]'),\n",
       " Text(0.11428571428571428, 0.5909090909090909, 'x[2] <= 70500.0\\nentropy = 0.491\\nsamples = 28\\nvalue = [25, 3]'),\n",
       " Text(0.05714285714285714, 0.5, 'x[0] <= 0.5\\nentropy = 1.0\\nsamples = 2\\nvalue = [1, 1]'),\n",
       " Text(0.02857142857142857, 0.4090909090909091, 'entropy = 0.0\\nsamples = 1\\nvalue = [1, 0]'),\n",
       " Text(0.08571428571428572, 0.4090909090909091, 'entropy = 0.0\\nsamples = 1\\nvalue = [0, 1]'),\n",
       " Text(0.17142857142857143, 0.5, 'x[2] <= 72500.0\\nentropy = 0.391\\nsamples = 26\\nvalue = [24, 2]'),\n",
       " Text(0.14285714285714285, 0.4090909090909091, 'entropy = 0.0\\nsamples = 11\\nvalue = [11, 0]'),\n",
       " Text(0.2, 0.4090909090909091, 'x[2] <= 73500.0\\nentropy = 0.567\\nsamples = 15\\nvalue = [13, 2]'),\n",
       " Text(0.17142857142857143, 0.3181818181818182, 'entropy = 0.0\\nsamples = 1\\nvalue = [0, 1]'),\n",
       " Text(0.22857142857142856, 0.3181818181818182, 'x[2] <= 76000.0\\nentropy = 0.371\\nsamples = 14\\nvalue = [13, 1]'),\n",
       " Text(0.2, 0.22727272727272727, 'x[1] <= 39.5\\nentropy = 0.65\\nsamples = 6\\nvalue = [5, 1]'),\n",
       " Text(0.17142857142857143, 0.13636363636363635, 'x[1] <= 38.0\\nentropy = 0.918\\nsamples = 3\\nvalue = [2, 1]'),\n",
       " Text(0.14285714285714285, 0.045454545454545456, 'entropy = 0.0\\nsamples = 2\\nvalue = [2, 0]'),\n",
       " Text(0.2, 0.045454545454545456, 'entropy = 0.0\\nsamples = 1\\nvalue = [0, 1]'),\n",
       " Text(0.22857142857142856, 0.13636363636363635, 'entropy = 0.0\\nsamples = 3\\nvalue = [3, 0]'),\n",
       " Text(0.2571428571428571, 0.22727272727272727, 'entropy = 0.0\\nsamples = 8\\nvalue = [8, 0]'),\n",
       " Text(0.37142857142857144, 0.7727272727272727, 'x[2] <= 119000.0\\nentropy = 0.661\\nsamples = 35\\nvalue = [6, 29]'),\n",
       " Text(0.34285714285714286, 0.6818181818181818, 'x[1] <= 35.5\\nentropy = 0.9\\nsamples = 19\\nvalue = [6, 13]'),\n",
       " Text(0.3142857142857143, 0.5909090909090909, 'x[1] <= 26.5\\nentropy = 0.996\\nsamples = 13\\nvalue = [6, 7]'),\n",
       " Text(0.2857142857142857, 0.5, 'entropy = 0.0\\nsamples = 2\\nvalue = [2, 0]'),\n",
       " Text(0.34285714285714286, 0.5, 'x[2] <= 107500.0\\nentropy = 0.946\\nsamples = 11\\nvalue = [4, 7]'),\n",
       " Text(0.3142857142857143, 0.4090909090909091, 'entropy = 0.0\\nsamples = 4\\nvalue = [0, 4]'),\n",
       " Text(0.37142857142857144, 0.4090909090909091, 'x[2] <= 116500.0\\nentropy = 0.985\\nsamples = 7\\nvalue = [4, 3]'),\n",
       " Text(0.34285714285714286, 0.3181818181818182, 'x[2] <= 112500.0\\nentropy = 0.722\\nsamples = 5\\nvalue = [4, 1]'),\n",
       " Text(0.3142857142857143, 0.22727272727272727, 'x[2] <= 110000.0\\nentropy = 1.0\\nsamples = 2\\nvalue = [1, 1]'),\n",
       " Text(0.2857142857142857, 0.13636363636363635, 'entropy = 0.0\\nsamples = 1\\nvalue = [1, 0]'),\n",
       " Text(0.34285714285714286, 0.13636363636363635, 'entropy = 0.0\\nsamples = 1\\nvalue = [0, 1]'),\n",
       " Text(0.37142857142857144, 0.22727272727272727, 'entropy = 0.0\\nsamples = 3\\nvalue = [3, 0]'),\n",
       " Text(0.4, 0.3181818181818182, 'entropy = 0.0\\nsamples = 2\\nvalue = [0, 2]'),\n",
       " Text(0.37142857142857144, 0.5909090909090909, 'entropy = 0.0\\nsamples = 6\\nvalue = [0, 6]'),\n",
       " Text(0.4, 0.6818181818181818, 'entropy = 0.0\\nsamples = 16\\nvalue = [0, 16]'),\n",
       " Text(0.6214285714285714, 0.8636363636363636, 'x[2] <= 38500.0\\nentropy = 0.682\\nsamples = 83\\nvalue = [15, 68]'),\n",
       " Text(0.5142857142857142, 0.7727272727272727, 'x[2] <= 22500.0\\nentropy = 0.222\\nsamples = 28\\nvalue = [1, 27]'),\n",
       " Text(0.4857142857142857, 0.6818181818181818, 'x[0] <= 0.5\\nentropy = 0.811\\nsamples = 4\\nvalue = [1, 3]'),\n",
       " Text(0.45714285714285713, 0.5909090909090909, 'x[2] <= 21000.0\\nentropy = 1.0\\nsamples = 2\\nvalue = [1, 1]'),\n",
       " Text(0.42857142857142855, 0.5, 'entropy = 0.0\\nsamples = 1\\nvalue = [0, 1]'),\n",
       " Text(0.4857142857142857, 0.5, 'entropy = 0.0\\nsamples = 1\\nvalue = [1, 0]'),\n",
       " Text(0.5142857142857142, 0.5909090909090909, 'entropy = 0.0\\nsamples = 2\\nvalue = [0, 2]'),\n",
       " Text(0.5428571428571428, 0.6818181818181818, 'entropy = 0.0\\nsamples = 24\\nvalue = [0, 24]'),\n",
       " Text(0.7285714285714285, 0.7727272727272727, 'x[2] <= 84500.0\\nentropy = 0.818\\nsamples = 55\\nvalue = [14, 41]'),\n",
       " Text(0.6285714285714286, 0.6818181818181818, 'x[1] <= 51.5\\nentropy = 0.985\\nsamples = 21\\nvalue = [9, 12]'),\n",
       " Text(0.5714285714285714, 0.5909090909090909, 'x[1] <= 48.0\\nentropy = 0.98\\nsamples = 12\\nvalue = [7, 5]'),\n",
       " Text(0.5428571428571428, 0.5, 'x[2] <= 54500.0\\nentropy = 1.0\\nsamples = 10\\nvalue = [5, 5]'),\n",
       " Text(0.4857142857142857, 0.4090909090909091, 'x[2] <= 44000.0\\nentropy = 0.918\\nsamples = 6\\nvalue = [2, 4]'),\n",
       " Text(0.45714285714285713, 0.3181818181818182, 'x[1] <= 45.0\\nentropy = 0.918\\nsamples = 3\\nvalue = [2, 1]'),\n",
       " Text(0.42857142857142855, 0.22727272727272727, 'entropy = 0.0\\nsamples = 1\\nvalue = [1, 0]'),\n",
       " Text(0.4857142857142857, 0.22727272727272727, 'x[2] <= 42000.0\\nentropy = 1.0\\nsamples = 2\\nvalue = [1, 1]'),\n",
       " Text(0.45714285714285713, 0.13636363636363635, 'entropy = 0.0\\nsamples = 1\\nvalue = [0, 1]'),\n",
       " Text(0.5142857142857142, 0.13636363636363635, 'entropy = 0.0\\nsamples = 1\\nvalue = [1, 0]'),\n",
       " Text(0.5142857142857142, 0.3181818181818182, 'entropy = 0.0\\nsamples = 3\\nvalue = [0, 3]'),\n",
       " Text(0.6, 0.4090909090909091, 'x[2] <= 76500.0\\nentropy = 0.811\\nsamples = 4\\nvalue = [3, 1]'),\n",
       " Text(0.5714285714285714, 0.3181818181818182, 'entropy = 0.0\\nsamples = 2\\nvalue = [2, 0]'),\n",
       " Text(0.6285714285714286, 0.3181818181818182, 'x[1] <= 45.5\\nentropy = 1.0\\nsamples = 2\\nvalue = [1, 1]'),\n",
       " Text(0.6, 0.22727272727272727, 'entropy = 0.0\\nsamples = 1\\nvalue = [1, 0]'),\n",
       " Text(0.6571428571428571, 0.22727272727272727, 'entropy = 0.0\\nsamples = 1\\nvalue = [0, 1]'),\n",
       " Text(0.6, 0.5, 'entropy = 0.0\\nsamples = 2\\nvalue = [2, 0]'),\n",
       " Text(0.6857142857142857, 0.5909090909090909, 'x[1] <= 58.0\\nentropy = 0.764\\nsamples = 9\\nvalue = [2, 7]'),\n",
       " Text(0.6571428571428571, 0.5, 'entropy = 0.0\\nsamples = 6\\nvalue = [0, 6]'),\n",
       " Text(0.7142857142857143, 0.5, 'x[1] <= 59.5\\nentropy = 0.918\\nsamples = 3\\nvalue = [2, 1]'),\n",
       " Text(0.6857142857142857, 0.4090909090909091, 'entropy = 0.0\\nsamples = 2\\nvalue = [2, 0]'),\n",
       " Text(0.7428571428571429, 0.4090909090909091, 'entropy = 0.0\\nsamples = 1\\nvalue = [0, 1]'),\n",
       " Text(0.8285714285714286, 0.6818181818181818, 'x[1] <= 52.5\\nentropy = 0.602\\nsamples = 34\\nvalue = [5, 29]'),\n",
       " Text(0.8, 0.5909090909090909, 'x[2] <= 93000.0\\nentropy = 0.773\\nsamples = 22\\nvalue = [5, 17]'),\n",
       " Text(0.7714285714285715, 0.5, 'entropy = 0.0\\nsamples = 5\\nvalue = [0, 5]'),\n",
       " Text(0.8285714285714286, 0.5, 'x[2] <= 100500.0\\nentropy = 0.874\\nsamples = 17\\nvalue = [5, 12]'),\n",
       " Text(0.8, 0.4090909090909091, 'entropy = 0.0\\nsamples = 1\\nvalue = [1, 0]'),\n",
       " Text(0.8571428571428571, 0.4090909090909091, 'x[1] <= 47.5\\nentropy = 0.811\\nsamples = 16\\nvalue = [4, 12]'),\n",
       " Text(0.8, 0.3181818181818182, 'x[1] <= 43.5\\nentropy = 0.503\\nsamples = 9\\nvalue = [1, 8]'),\n",
       " Text(0.7714285714285715, 0.22727272727272727, 'x[0] <= 0.5\\nentropy = 1.0\\nsamples = 2\\nvalue = [1, 1]'),\n",
       " Text(0.7428571428571429, 0.13636363636363635, 'entropy = 0.0\\nsamples = 1\\nvalue = [1, 0]'),\n",
       " Text(0.8, 0.13636363636363635, 'entropy = 0.0\\nsamples = 1\\nvalue = [0, 1]'),\n",
       " Text(0.8285714285714286, 0.22727272727272727, 'entropy = 0.0\\nsamples = 7\\nvalue = [0, 7]'),\n",
       " Text(0.9142857142857143, 0.3181818181818182, 'x[2] <= 136000.0\\nentropy = 0.985\\nsamples = 7\\nvalue = [3, 4]'),\n",
       " Text(0.8857142857142857, 0.22727272727272727, 'entropy = 0.0\\nsamples = 2\\nvalue = [2, 0]'),\n",
       " Text(0.9428571428571428, 0.22727272727272727, 'x[1] <= 48.5\\nentropy = 0.722\\nsamples = 5\\nvalue = [1, 4]'),\n",
       " Text(0.9142857142857143, 0.13636363636363635, 'x[0] <= 0.5\\nentropy = 1.0\\nsamples = 2\\nvalue = [1, 1]'),\n",
       " Text(0.8857142857142857, 0.045454545454545456, 'entropy = 0.0\\nsamples = 1\\nvalue = [0, 1]'),\n",
       " Text(0.9428571428571428, 0.045454545454545456, 'entropy = 0.0\\nsamples = 1\\nvalue = [1, 0]'),\n",
       " Text(0.9714285714285714, 0.13636363636363635, 'entropy = 0.0\\nsamples = 3\\nvalue = [0, 3]'),\n",
       " Text(0.8571428571428571, 0.5909090909090909, 'entropy = 0.0\\nsamples = 12\\nvalue = [0, 12]')]"
      ]
     },
     "execution_count": 11,
     "metadata": {},
     "output_type": "execute_result"
    },
    {
     "data": {
      "image/png": "[encoded data removed]",
      "text/plain": [
       "<Figure size 640x480 with 1 Axes>"
      ]
     },
     "metadata": {},
     "output_type": "display_data"
    }
   ],
   "source": [
    " # g. Display the constructed decision tree sklearn.tree.plot_tree method.\n",
    "print(1128)\n",
    "plot_tree(tree_entropy)"
   ]
  },
  {
   "cell_type": "code",
   "execution_count": 12,
   "id": "89370eb1-3634-4828-91cd-9db74c415afc",
   "metadata": {},
   "outputs": [
    {
     "name": "stdout",
     "output_type": "stream",
     "text": [
      "1128\n"
     ]
    },
    {
     "data": {
      "text/plain": [
       "[Text(0.3704268292682927, 0.9583333333333334, 'x[1] <= 42.5\\ngini = 0.444\\nsamples = 300\\nvalue = [200, 100]'),\n",
       " Text(0.18902439024390244, 0.875, 'x[2] <= 89500.0\\ngini = 0.251\\nsamples = 217\\nvalue = [185, 32]'),\n",
       " Text(0.06097560975609756, 0.7916666666666666, 'x[1] <= 36.5\\ngini = 0.032\\nsamples = 182\\nvalue = [179, 3]'),\n",
       " Text(0.036585365853658534, 0.7083333333333334, 'gini = 0.0\\nsamples = 129\\nvalue = [129, 0]'),\n",
       " Text(0.08536585365853659, 0.7083333333333334, 'x[2] <= 67500.0\\ngini = 0.107\\nsamples = 53\\nvalue = [50, 3]'),\n",
       " Text(0.06097560975609756, 0.625, 'gini = 0.0\\nsamples = 25\\nvalue = [25, 0]'),\n",
       " Text(0.10975609756097561, 0.625, 'x[2] <= 70500.0\\ngini = 0.191\\nsamples = 28\\nvalue = [25, 3]'),\n",
       " Text(0.04878048780487805, 0.5416666666666666, 'x[0] <= 0.5\\ngini = 0.5\\nsamples = 2\\nvalue = [1, 1]'),\n",
       " Text(0.024390243902439025, 0.4583333333333333, 'gini = 0.0\\nsamples = 1\\nvalue = [1, 0]'),\n",
       " Text(0.07317073170731707, 0.4583333333333333, 'gini = 0.0\\nsamples = 1\\nvalue = [0, 1]'),\n",
       " Text(0.17073170731707318, 0.5416666666666666, 'x[1] <= 41.5\\ngini = 0.142\\nsamples = 26\\nvalue = [24, 2]'),\n",
       " Text(0.12195121951219512, 0.4583333333333333, 'x[2] <= 74500.0\\ngini = 0.083\\nsamples = 23\\nvalue = [22, 1]'),\n",
       " Text(0.0975609756097561, 0.375, 'gini = 0.0\\nsamples = 12\\nvalue = [12, 0]'),\n",
       " Text(0.14634146341463414, 0.375, 'x[2] <= 76000.0\\ngini = 0.165\\nsamples = 11\\nvalue = [10, 1]'),\n",
       " Text(0.12195121951219512, 0.2916666666666667, 'x[0] <= 0.5\\ngini = 0.375\\nsamples = 4\\nvalue = [3, 1]'),\n",
       " Text(0.0975609756097561, 0.20833333333333334, 'x[1] <= 39.5\\ngini = 0.5\\nsamples = 2\\nvalue = [1, 1]'),\n",
       " Text(0.07317073170731707, 0.125, 'gini = 0.0\\nsamples = 1\\nvalue = [0, 1]'),\n",
       " Text(0.12195121951219512, 0.125, 'gini = 0.0\\nsamples = 1\\nvalue = [1, 0]'),\n",
       " Text(0.14634146341463414, 0.20833333333333334, 'gini = 0.0\\nsamples = 2\\nvalue = [2, 0]'),\n",
       " Text(0.17073170731707318, 0.2916666666666667, 'gini = 0.0\\nsamples = 7\\nvalue = [7, 0]'),\n",
       " Text(0.21951219512195122, 0.4583333333333333, 'x[2] <= 74000.0\\ngini = 0.444\\nsamples = 3\\nvalue = [2, 1]'),\n",
       " Text(0.1951219512195122, 0.375, 'gini = 0.0\\nsamples = 1\\nvalue = [0, 1]'),\n",
       " Text(0.24390243902439024, 0.375, 'gini = 0.0\\nsamples = 2\\nvalue = [2, 0]'),\n",
       " Text(0.3170731707317073, 0.7916666666666666, 'x[1] <= 26.5\\ngini = 0.284\\nsamples = 35\\nvalue = [6, 29]'),\n",
       " Text(0.2926829268292683, 0.7083333333333334, 'gini = 0.0\\nsamples = 2\\nvalue = [2, 0]'),\n",
       " Text(0.34146341463414637, 0.7083333333333334, 'x[2] <= 116500.0\\ngini = 0.213\\nsamples = 33\\nvalue = [4, 29]'),\n",
       " Text(0.3170731707317073, 0.625, 'x[2] <= 107500.0\\ngini = 0.408\\nsamples = 14\\nvalue = [4, 10]'),\n",
       " Text(0.2926829268292683, 0.5416666666666666, 'gini = 0.0\\nsamples = 8\\nvalue = [0, 8]'),\n",
       " Text(0.34146341463414637, 0.5416666666666666, 'x[1] <= 36.5\\ngini = 0.444\\nsamples = 6\\nvalue = [4, 2]'),\n",
       " Text(0.3170731707317073, 0.4583333333333333, 'x[2] <= 112500.0\\ngini = 0.32\\nsamples = 5\\nvalue = [4, 1]'),\n",
       " Text(0.2926829268292683, 0.375, 'x[2] <= 110000.0\\ngini = 0.5\\nsamples = 2\\nvalue = [1, 1]'),\n",
       " Text(0.2682926829268293, 0.2916666666666667, 'gini = 0.0\\nsamples = 1\\nvalue = [1, 0]'),\n",
       " Text(0.3170731707317073, 0.2916666666666667, 'gini = 0.0\\nsamples = 1\\nvalue = [0, 1]'),\n",
       " Text(0.34146341463414637, 0.375, 'gini = 0.0\\nsamples = 3\\nvalue = [3, 0]'),\n",
       " Text(0.36585365853658536, 0.4583333333333333, 'gini = 0.0\\nsamples = 1\\nvalue = [0, 1]'),\n",
       " Text(0.36585365853658536, 0.625, 'gini = 0.0\\nsamples = 19\\nvalue = [0, 19]'),\n",
       " Text(0.551829268292683, 0.875, 'x[2] <= 38500.0\\ngini = 0.296\\nsamples = 83\\nvalue = [15, 68]'),\n",
       " Text(0.4634146341463415, 0.7916666666666666, 'x[2] <= 22500.0\\ngini = 0.069\\nsamples = 28\\nvalue = [1, 27]'),\n",
       " Text(0.43902439024390244, 0.7083333333333334, 'x[1] <= 46.5\\ngini = 0.375\\nsamples = 4\\nvalue = [1, 3]'),\n",
       " Text(0.4146341463414634, 0.625, 'x[1] <= 45.5\\ngini = 0.5\\nsamples = 2\\nvalue = [1, 1]'),\n",
       " Text(0.3902439024390244, 0.5416666666666666, 'gini = 0.0\\nsamples = 1\\nvalue = [0, 1]'),\n",
       " Text(0.43902439024390244, 0.5416666666666666, 'gini = 0.0\\nsamples = 1\\nvalue = [1, 0]'),\n",
       " Text(0.4634146341463415, 0.625, 'gini = 0.0\\nsamples = 2\\nvalue = [0, 2]'),\n",
       " Text(0.4878048780487805, 0.7083333333333334, 'gini = 0.0\\nsamples = 24\\nvalue = [0, 24]'),\n",
       " Text(0.6402439024390244, 0.7916666666666666, 'x[2] <= 44500.0\\ngini = 0.38\\nsamples = 55\\nvalue = [14, 41]'),\n",
       " Text(0.5365853658536586, 0.7083333333333334, 'x[2] <= 41500.0\\ngini = 0.444\\nsamples = 6\\nvalue = [4, 2]'),\n",
       " Text(0.5121951219512195, 0.625, 'x[1] <= 45.0\\ngini = 0.444\\nsamples = 3\\nvalue = [1, 2]'),\n",
       " Text(0.4878048780487805, 0.5416666666666666, 'gini = 0.0\\nsamples = 1\\nvalue = [1, 0]'),\n",
       " Text(0.5365853658536586, 0.5416666666666666, 'gini = 0.0\\nsamples = 2\\nvalue = [0, 2]'),\n",
       " Text(0.5609756097560976, 0.625, 'gini = 0.0\\nsamples = 3\\nvalue = [3, 0]'),\n",
       " Text(0.7439024390243902, 0.7083333333333334, 'x[1] <= 46.5\\ngini = 0.325\\nsamples = 49\\nvalue = [10, 39]'),\n",
       " Text(0.6341463414634146, 0.625, 'x[2] <= 106500.0\\ngini = 0.486\\nsamples = 12\\nvalue = [5, 7]'),\n",
       " Text(0.5853658536585366, 0.5416666666666666, 'x[2] <= 52000.0\\ngini = 0.49\\nsamples = 7\\nvalue = [4, 3]'),\n",
       " Text(0.5609756097560976, 0.4583333333333333, 'gini = 0.0\\nsamples = 1\\nvalue = [0, 1]'),\n",
       " Text(0.6097560975609756, 0.4583333333333333, 'x[0] <= 0.5\\ngini = 0.444\\nsamples = 6\\nvalue = [4, 2]'),\n",
       " Text(0.5853658536585366, 0.375, 'gini = 0.0\\nsamples = 2\\nvalue = [2, 0]'),\n",
       " Text(0.6341463414634146, 0.375, 'x[2] <= 69000.0\\ngini = 0.5\\nsamples = 4\\nvalue = [2, 2]'),\n",
       " Text(0.6097560975609756, 0.2916666666666667, 'gini = 0.0\\nsamples = 1\\nvalue = [1, 0]'),\n",
       " Text(0.6585365853658537, 0.2916666666666667, 'x[1] <= 45.5\\ngini = 0.444\\nsamples = 3\\nvalue = [1, 2]'),\n",
       " Text(0.6341463414634146, 0.20833333333333334, 'gini = 0.0\\nsamples = 1\\nvalue = [1, 0]'),\n",
       " Text(0.6829268292682927, 0.20833333333333334, 'gini = 0.0\\nsamples = 2\\nvalue = [0, 2]'),\n",
       " Text(0.6829268292682927, 0.5416666666666666, 'x[2] <= 132000.0\\ngini = 0.32\\nsamples = 5\\nvalue = [1, 4]'),\n",
       " Text(0.6585365853658537, 0.4583333333333333, 'gini = 0.0\\nsamples = 3\\nvalue = [0, 3]'),\n",
       " Text(0.7073170731707317, 0.4583333333333333, 'x[1] <= 43.5\\ngini = 0.5\\nsamples = 2\\nvalue = [1, 1]'),\n",
       " Text(0.6829268292682927, 0.375, 'gini = 0.0\\nsamples = 1\\nvalue = [1, 0]'),\n",
       " Text(0.7317073170731707, 0.375, 'gini = 0.0\\nsamples = 1\\nvalue = [0, 1]'),\n",
       " Text(0.8536585365853658, 0.625, 'x[1] <= 52.5\\ngini = 0.234\\nsamples = 37\\nvalue = [5, 32]'),\n",
       " Text(0.7804878048780488, 0.5416666666666666, 'x[1] <= 47.5\\ngini = 0.346\\nsamples = 18\\nvalue = [4, 14]'),\n",
       " Text(0.7560975609756098, 0.4583333333333333, 'gini = 0.0\\nsamples = 6\\nvalue = [0, 6]'),\n",
       " Text(0.8048780487804879, 0.4583333333333333, 'x[2] <= 75500.0\\ngini = 0.444\\nsamples = 12\\nvalue = [4, 8]'),\n",
       " Text(0.7804878048780488, 0.375, 'gini = 0.0\\nsamples = 1\\nvalue = [1, 0]'),\n",
       " Text(0.8292682926829268, 0.375, 'x[2] <= 102000.0\\ngini = 0.397\\nsamples = 11\\nvalue = [3, 8]'),\n",
       " Text(0.8048780487804879, 0.2916666666666667, 'gini = 0.0\\nsamples = 4\\nvalue = [0, 4]'),\n",
       " Text(0.8536585365853658, 0.2916666666666667, 'x[2] <= 136000.0\\ngini = 0.49\\nsamples = 7\\nvalue = [3, 4]'),\n",
       " Text(0.8292682926829268, 0.20833333333333334, 'gini = 0.0\\nsamples = 2\\nvalue = [2, 0]'),\n",
       " Text(0.8780487804878049, 0.20833333333333334, 'x[0] <= 0.5\\ngini = 0.32\\nsamples = 5\\nvalue = [1, 4]'),\n",
       " Text(0.8536585365853658, 0.125, 'gini = 0.0\\nsamples = 3\\nvalue = [0, 3]'),\n",
       " Text(0.9024390243902439, 0.125, 'x[1] <= 50.0\\ngini = 0.5\\nsamples = 2\\nvalue = [1, 1]'),\n",
       " Text(0.8780487804878049, 0.041666666666666664, 'gini = 0.0\\nsamples = 1\\nvalue = [1, 0]'),\n",
       " Text(0.926829268292683, 0.041666666666666664, 'gini = 0.0\\nsamples = 1\\nvalue = [0, 1]'),\n",
       " Text(0.926829268292683, 0.5416666666666666, 'x[1] <= 58.5\\ngini = 0.1\\nsamples = 19\\nvalue = [1, 18]'),\n",
       " Text(0.9024390243902439, 0.4583333333333333, 'gini = 0.0\\nsamples = 13\\nvalue = [0, 13]'),\n",
       " Text(0.9512195121951219, 0.4583333333333333, 'x[2] <= 85500.0\\ngini = 0.278\\nsamples = 6\\nvalue = [1, 5]'),\n",
       " Text(0.926829268292683, 0.375, 'x[1] <= 59.5\\ngini = 0.5\\nsamples = 2\\nvalue = [1, 1]'),\n",
       " Text(0.9024390243902439, 0.2916666666666667, 'gini = 0.0\\nsamples = 1\\nvalue = [1, 0]'),\n",
       " Text(0.9512195121951219, 0.2916666666666667, 'gini = 0.0\\nsamples = 1\\nvalue = [0, 1]'),\n",
       " Text(0.975609756097561, 0.375, 'gini = 0.0\\nsamples = 4\\nvalue = [0, 4]')]"
      ]
     },
     "execution_count": 12,
     "metadata": {},
     "output_type": "execute_result"
    },
    {
     "data": {
      "image/png": "[encoded data removed]",
      "text/plain": [
       "<Figure size 640x480 with 1 Axes>"
      ]
     },
     "metadata": {},
     "output_type": "display_data"
    }
   ],
   "source": [
    "print(1128)\n",
    "plot_tree(tree_ig)\n"
   ]
  },
  {
   "cell_type": "code",
   "execution_count": 13,
   "id": "cfde9efa-045b-4571-9f43-2bb9adea014a",
   "metadata": {},
   "outputs": [
    {
     "name": "stdout",
     "output_type": "stream",
     "text": [
      "1128\n",
      "Accuracy using Entropy :  0.89\n",
      "Accuracy using ig :  0.85\n",
      "F1_score using Entropy :  0.8735632183908046\n",
      "F1_score using ig :  0.8192771084337349\n",
      "AUC score using Entropy :  0.8892288861689106\n",
      "AUC score using ig :  0.8427172582619339\n",
      "TP for entropy :  38\n",
      "TP for ig :  34\n",
      "TN for entropy :  51\n",
      "TN for ig :  51\n",
      "Accuracy using Entropy :  0.83\n",
      "Accuracy using ig :  0.88\n",
      "F1_score using Entropy :  0.7733333333333334\n",
      "F1_score using ig :  0.8536585365853658\n",
      "AUC score using Entropy :  0.8108935128518971\n",
      "AUC score using ig :  0.871889024887801\n",
      "TP for entropy :  29\n",
      "TP for ig :  35\n",
      "TN for entropy :  54\n",
      "TN for ig :  53\n",
      "Accuracy using Entropy :  0.84\n",
      "Accuracy using ig :  0.84\n",
      "F1_score using Entropy :  0.8048780487804877\n",
      "F1_score using ig :  0.8\n",
      "AUC score using Entropy :  0.8310893512851898\n",
      "AUC score using ig :  0.8282333741330069\n",
      "TP for entropy :  33\n",
      "TP for ig :  32\n",
      "TN for entropy :  51\n",
      "TN for ig :  52\n"
     ]
    }
   ],
   "source": [
    "#h. Prune the tree with maximum depth as 3,5,7 and tabulate the various TP, TN, accuracy,\n",
    "#f-score and AUC score obtained.\n",
    "print(1128)\n",
    "\n",
    "for i in [3,5,7]:\n",
    "    tree_entropy = DecisionTreeClassifier(criterion='entropy', max_depth=i)\n",
    "    tree_entropy.fit(x_train,y_train)\n",
    "    y_pred = tree_entropy.predict(x_test)\n",
    "    tree_ig = DecisionTreeClassifier(criterion='gini',max_depth=i)\n",
    "    tree_ig.fit(x_train,y_train)\n",
    "    y_pred_ig = tree_ig.predict(x_test)\n",
    "    #Accuracy\n",
    "    print('Accuracy using Entropy : ',accuracy_score(y_test,y_pred))\n",
    "    print('Accuracy using ig : ',accuracy_score(y_test,y_pred_ig))\n",
    "    #f1_score\n",
    "    print('F1_score using Entropy : ',f1_score(y_test,y_pred))\n",
    "    print('F1_score using ig : ',f1_score(y_test,y_pred_ig))\n",
    "\t#AUC score\n",
    "    print('AUC score using Entropy : ',roc_auc_score(y_test,y_pred))\n",
    "    print('AUC score using ig : ',roc_auc_score(y_test,y_pred_ig))\n",
    "    conf_matrix=confusion_matrix(y_test,y_pred)\n",
    "    conf_matrix1=confusion_matrix(y_test,y_pred_ig)\n",
    "\t#tp\n",
    "    print('TP for entropy : ',conf_matrix[1][1])\n",
    "    print('TP for ig : ',conf_matrix1[1][1])\n",
    "\t#tn\n",
    "    print('TN for entropy : ',conf_matrix[0][0])\n",
    "    print('TN for ig : ',conf_matrix1[0][0])\n",
    "\n"
   ]
  },
  {
   "cell_type": "code",
   "execution_count": null,
   "id": "71f93cbd-ddbf-469a-b4e7-4e9850051172",
   "metadata": {},
   "outputs": [],
   "source": [
    "RESULT:\n",
    "    Thus the performance analysis for decision tree classification technique is done successfully."
   ]
  }
 ],
 "metadata": {
  "kernelspec": {
   "display_name": "Python 3 (ipykernel)",
   "language": "python",
   "name": "python3"
  },
  "language_info": {
   "codemirror_mode": {
    "name": "ipython",
    "version": 3
   },
   "file_extension": ".py",
   "mimetype": "text/x-python",
   "name": "python",
   "nbconvert_exporter": "python",
   "pygments_lexer": "ipython3",
   "version": "3.9.15"
  }
 },
 "nbformat": 4,
 "nbformat_minor": 5
}

{
 "cells": [
  {
   "cell_type": "markdown",
   "id": "ad248793-d9a5-440a-a323-71b8a5d2f0a1",
   "metadata": {},
   "source": [
    "URK21CS1128  "
   ]
  },
  {
   "cell_type": "markdown",
   "id": "3479282b-7e0b-40e7-a473-469fe51202f7",
   "metadata": {},
   "source": [
    "AIM:\n",
    "    To demonstrate performance analysis on KNN classification technique"
   ]
  },
  {
   "cell_type": "markdown",
   "id": "b154b283-0fc6-47e7-9f21-3fa21ae44990",
   "metadata": {},
   "source": [
    "DESCRIPTION:\n",
    "    K-nearest neighbors (KNN) algorithm is a type of supervised ML algorithm which can be used for both classification as well as regression predictive problems.\n",
    "However, it is mainly used for classification predictive problems in industry.\n",
    "The following two properties would define KNN well\n",
    "\n",
    "K-nearest neighbors (KNN) algorithm uses feature similarity to predict the values of new datapoints \n",
    "which further means that the new data point will be assigned a value based on how closely it matches the points in the training set.\n",
    "We can understand its working with the help of following steps:\n",
    "    \n",
    "Step1: For implementing any algorithm, we need dataset. So, during the first step of KNN, load the training as well as test data.\n",
    "Step2: Choose the value of K i.e. the nearest data points. K can be any integer.\n",
    "Step3: For each point in the test data do the following:\n",
    "    \n",
    "3.1: Calculate the distance between test data and each row of training data with the help of any of the method namely: Euclidean, Manhattan or Hamming distance. The most commonly used method to calculate distance is Euclidean.\n",
    "3.2: Now, based on the distance value, sort them in ascending order.\n",
    "3.3: Next, it will choose the top K rows from the sorted array.\n",
    "3.4: Now, it will assign a class to the test point based on most frequent class of these rows.\n",
    "Step4: End\n",
    "Specificity, in contrast to recall, may be defined as the number of negatives returned by the classification model.\n",
    "\n",
    "Support may be defined as the number of samples of the true response that lies in each class of target values.\n",
    "F1 Score This score will give us the harmonic mean of precision and recall.\n",
    "\n",
    "Mathematically, F1 score is the weighted average of the precision and recall.\n",
    "The best value of F1 would be 1 and worst would be 0. F1 score will be calculated with the help of following formula: F1 = 2 ∗ (precision ∗ recall) / (precision + recall) F1 score is having equal relative contribution of precision and recall.\n",
    "classification_report function of sklearn.metrics is used to get the classification report of classification model.\n",
    "AUC (Area Under Curve)-ROC (Receiver Operating Characteristic) is a performance metric, based on varying threshold values, for classification problems.\n",
    "As name suggests, ROC is a prob- ability curve and AUC measure the separability.\n",
    "In simple words, AUC-ROC metric will tell us about the capability of model in distinguishing the classes.\n",
    "Higher the AUC, better the model. Mathematically, it can be created by plotting TPR (True Positive Rate) i.e. Sensitivity or recall vs FPR (False Positive Rate) i.e. 1-Specificity, at various threshold values.\n",
    "roc_auc_score function of sklearn.metrics is used to compute AUC-ROC."
   ]
  },
  {
   "cell_type": "code",
   "execution_count": 3,
   "id": "46bee2ef-3e55-4382-92c0-201a98cbc82f",
   "metadata": {},
   "outputs": [],
   "source": [
    "import pandas as pd\n",
    "import numpy as np\n",
    "from sklearn.model_selection import train_test_split\n",
    "from sklearn.neighbors import KNeighborsClassifier\n",
    "from sklearn.metrics import confusion_matrix, accuracy_score,classification_report, roc_auc_score"
   ]
  },
  {
   "cell_type": "markdown",
   "id": "5a96ae0f-ef84-46e4-bad3-f19dbc1b2641",
   "metadata": {},
   "source": [
    "1. Develop a KNN classification model for the wine dataset using the scikit-learn\n",
    "a. Read the data"
   ]
  },
  {
   "cell_type": "code",
   "execution_count": 4,
   "id": "e60afa70-811c-438f-b270-5be792ba1dc9",
   "metadata": {},
   "outputs": [
    {
     "name": "stdout",
     "output_type": "stream",
     "text": [
      "URK21CS1128\n"
     ]
    },
    {
     "data": {
      "text/html": [
       "<div>\n",
       "<style scoped>\n",
       "    .dataframe tbody tr th:only-of-type {\n",
       "        vertical-align: middle;\n",
       "    }\n",
       "\n",
       "    .dataframe tbody tr th {\n",
       "        vertical-align: top;\n",
       "    }\n",
       "\n",
       "    .dataframe thead th {\n",
       "        text-align: right;\n",
       "    }\n",
       "</style>\n",
       "<table border=\"1\" class=\"dataframe\">\n",
       "  <thead>\n",
       "    <tr style=\"text-align: right;\">\n",
       "      <th></th>\n",
       "      <th>fixed acidity</th>\n",
       "      <th>volatile acidity</th>\n",
       "      <th>citric acid</th>\n",
       "      <th>residual sugar</th>\n",
       "      <th>chlorides</th>\n",
       "      <th>free sulfur dioxide</th>\n",
       "      <th>total sulfur dioxide</th>\n",
       "      <th>density</th>\n",
       "      <th>pH</th>\n",
       "      <th>sulphates</th>\n",
       "      <th>alcohol</th>\n",
       "      <th>quality</th>\n",
       "    </tr>\n",
       "  </thead>\n",
       "  <tbody>\n",
       "    <tr>\n",
       "      <th>0</th>\n",
       "      <td>7.4</td>\n",
       "      <td>0.70</td>\n",
       "      <td>0.0</td>\n",
       "      <td>1.9</td>\n",
       "      <td>0.076</td>\n",
       "      <td>11.0</td>\n",
       "      <td>34</td>\n",
       "      <td>0.9978</td>\n",
       "      <td>3.51</td>\n",
       "      <td>0.56</td>\n",
       "      <td>9.4</td>\n",
       "      <td>bad</td>\n",
       "    </tr>\n",
       "    <tr>\n",
       "      <th>1</th>\n",
       "      <td>7.8</td>\n",
       "      <td>0.88</td>\n",
       "      <td>0.0</td>\n",
       "      <td>2.6</td>\n",
       "      <td>0.098</td>\n",
       "      <td>25.0</td>\n",
       "      <td>67</td>\n",
       "      <td>0.9968</td>\n",
       "      <td>3.20</td>\n",
       "      <td>0.68</td>\n",
       "      <td>9.8</td>\n",
       "      <td>bad</td>\n",
       "    </tr>\n",
       "  </tbody>\n",
       "</table>\n",
       "</div>"
      ],
      "text/plain": [
       "   fixed acidity  volatile acidity  citric acid  residual sugar  chlorides  \\\n",
       "0            7.4              0.70          0.0             1.9      0.076   \n",
       "1            7.8              0.88          0.0             2.6      0.098   \n",
       "\n",
       "   free sulfur dioxide  total sulfur dioxide  density    pH  sulphates  \\\n",
       "0                 11.0                    34   0.9978  3.51       0.56   \n",
       "1                 25.0                    67   0.9968  3.20       0.68   \n",
       "\n",
       "   alcohol quality  \n",
       "0      9.4     bad  \n",
       "1      9.8     bad  "
      ]
     },
     "execution_count": 4,
     "metadata": {},
     "output_type": "execute_result"
    }
   ],
   "source": [
    "print(\"URK21CS1128\")\n",
    "data = pd.read_csv('wine.csv')\n",
    "data.head(2)"
   ]
  },
  {
   "cell_type": "markdown",
   "id": "9a861f1f-0a02-48d8-89a8-99f46344e909",
   "metadata": {},
   "source": [
    " b. Data Cleaning\n",
    "    a. Replace 0 in ['chlorides', 'density', 'pH', 'sulphates'] column with NaNvalue\n",
    "b. Identify the columns with null value\n",
    "c. Filling the null values by imputing the mean values in the corresponding column"
   ]
  },
  {
   "cell_type": "code",
   "execution_count": 7,
   "id": "b2d0a00d-8958-420e-8ac7-3eba80123a22",
   "metadata": {},
   "outputs": [
    {
     "data": {
      "text/html": [
       "<div>\n",
       "<style scoped>\n",
       "    .dataframe tbody tr th:only-of-type {\n",
       "        vertical-align: middle;\n",
       "    }\n",
       "\n",
       "    .dataframe tbody tr th {\n",
       "        vertical-align: top;\n",
       "    }\n",
       "\n",
       "    .dataframe thead th {\n",
       "        text-align: right;\n",
       "    }\n",
       "</style>\n",
       "<table border=\"1\" class=\"dataframe\">\n",
       "  <thead>\n",
       "    <tr style=\"text-align: right;\">\n",
       "      <th></th>\n",
       "      <th>fixed acidity</th>\n",
       "      <th>volatile acidity</th>\n",
       "      <th>citric acid</th>\n",
       "      <th>residual sugar</th>\n",
       "      <th>chlorides</th>\n",
       "      <th>free sulfur dioxide</th>\n",
       "      <th>total sulfur dioxide</th>\n",
       "      <th>density</th>\n",
       "      <th>pH</th>\n",
       "      <th>sulphates</th>\n",
       "      <th>alcohol</th>\n",
       "      <th>quality</th>\n",
       "    </tr>\n",
       "  </thead>\n",
       "  <tbody>\n",
       "    <tr>\n",
       "      <th>0</th>\n",
       "      <td>7.4</td>\n",
       "      <td>0.70</td>\n",
       "      <td>0.00</td>\n",
       "      <td>1.9</td>\n",
       "      <td>0.076</td>\n",
       "      <td>11.0</td>\n",
       "      <td>34</td>\n",
       "      <td>0.9978</td>\n",
       "      <td>3.510000</td>\n",
       "      <td>0.56</td>\n",
       "      <td>9.4</td>\n",
       "      <td>bad</td>\n",
       "    </tr>\n",
       "    <tr>\n",
       "      <th>1</th>\n",
       "      <td>7.8</td>\n",
       "      <td>0.88</td>\n",
       "      <td>0.00</td>\n",
       "      <td>2.6</td>\n",
       "      <td>0.098</td>\n",
       "      <td>25.0</td>\n",
       "      <td>67</td>\n",
       "      <td>0.9968</td>\n",
       "      <td>3.200000</td>\n",
       "      <td>0.68</td>\n",
       "      <td>9.8</td>\n",
       "      <td>bad</td>\n",
       "    </tr>\n",
       "    <tr>\n",
       "      <th>2</th>\n",
       "      <td>7.8</td>\n",
       "      <td>0.76</td>\n",
       "      <td>0.04</td>\n",
       "      <td>2.3</td>\n",
       "      <td>0.092</td>\n",
       "      <td>15.0</td>\n",
       "      <td>54</td>\n",
       "      <td>0.9970</td>\n",
       "      <td>3.260000</td>\n",
       "      <td>0.65</td>\n",
       "      <td>9.8</td>\n",
       "      <td>bad</td>\n",
       "    </tr>\n",
       "    <tr>\n",
       "      <th>3</th>\n",
       "      <td>11.2</td>\n",
       "      <td>0.28</td>\n",
       "      <td>0.56</td>\n",
       "      <td>1.9</td>\n",
       "      <td>0.075</td>\n",
       "      <td>17.0</td>\n",
       "      <td>60</td>\n",
       "      <td>0.9980</td>\n",
       "      <td>3.160000</td>\n",
       "      <td>0.58</td>\n",
       "      <td>9.8</td>\n",
       "      <td>good</td>\n",
       "    </tr>\n",
       "    <tr>\n",
       "      <th>4</th>\n",
       "      <td>7.4</td>\n",
       "      <td>0.70</td>\n",
       "      <td>0.00</td>\n",
       "      <td>1.9</td>\n",
       "      <td>0.076</td>\n",
       "      <td>11.0</td>\n",
       "      <td>34</td>\n",
       "      <td>0.9978</td>\n",
       "      <td>3.510000</td>\n",
       "      <td>0.56</td>\n",
       "      <td>9.4</td>\n",
       "      <td>bad</td>\n",
       "    </tr>\n",
       "    <tr>\n",
       "      <th>5</th>\n",
       "      <td>7.4</td>\n",
       "      <td>0.66</td>\n",
       "      <td>0.00</td>\n",
       "      <td>1.8</td>\n",
       "      <td>0.075</td>\n",
       "      <td>13.0</td>\n",
       "      <td>40</td>\n",
       "      <td>0.9978</td>\n",
       "      <td>3.510000</td>\n",
       "      <td>0.56</td>\n",
       "      <td>9.4</td>\n",
       "      <td>bad</td>\n",
       "    </tr>\n",
       "    <tr>\n",
       "      <th>6</th>\n",
       "      <td>7.9</td>\n",
       "      <td>0.60</td>\n",
       "      <td>0.06</td>\n",
       "      <td>1.6</td>\n",
       "      <td>0.069</td>\n",
       "      <td>15.0</td>\n",
       "      <td>59</td>\n",
       "      <td>0.9964</td>\n",
       "      <td>3.299488</td>\n",
       "      <td>0.46</td>\n",
       "      <td>9.4</td>\n",
       "      <td>bad</td>\n",
       "    </tr>\n",
       "    <tr>\n",
       "      <th>7</th>\n",
       "      <td>7.3</td>\n",
       "      <td>0.65</td>\n",
       "      <td>0.00</td>\n",
       "      <td>1.2</td>\n",
       "      <td>0.065</td>\n",
       "      <td>15.0</td>\n",
       "      <td>21</td>\n",
       "      <td>0.9946</td>\n",
       "      <td>3.390000</td>\n",
       "      <td>0.47</td>\n",
       "      <td>10.0</td>\n",
       "      <td>good</td>\n",
       "    </tr>\n",
       "    <tr>\n",
       "      <th>8</th>\n",
       "      <td>7.8</td>\n",
       "      <td>0.58</td>\n",
       "      <td>0.02</td>\n",
       "      <td>2.0</td>\n",
       "      <td>0.073</td>\n",
       "      <td>9.0</td>\n",
       "      <td>18</td>\n",
       "      <td>0.9968</td>\n",
       "      <td>3.360000</td>\n",
       "      <td>0.57</td>\n",
       "      <td>9.5</td>\n",
       "      <td>good</td>\n",
       "    </tr>\n",
       "    <tr>\n",
       "      <th>9</th>\n",
       "      <td>7.5</td>\n",
       "      <td>0.50</td>\n",
       "      <td>0.36</td>\n",
       "      <td>6.1</td>\n",
       "      <td>0.071</td>\n",
       "      <td>17.0</td>\n",
       "      <td>102</td>\n",
       "      <td>0.9978</td>\n",
       "      <td>3.350000</td>\n",
       "      <td>0.80</td>\n",
       "      <td>10.5</td>\n",
       "      <td>bad</td>\n",
       "    </tr>\n",
       "  </tbody>\n",
       "</table>\n",
       "</div>"
      ],
      "text/plain": [
       "   fixed acidity  volatile acidity  citric acid  residual sugar  chlorides  \\\n",
       "0            7.4              0.70         0.00             1.9      0.076   \n",
       "1            7.8              0.88         0.00             2.6      0.098   \n",
       "2            7.8              0.76         0.04             2.3      0.092   \n",
       "3           11.2              0.28         0.56             1.9      0.075   \n",
       "4            7.4              0.70         0.00             1.9      0.076   \n",
       "5            7.4              0.66         0.00             1.8      0.075   \n",
       "6            7.9              0.60         0.06             1.6      0.069   \n",
       "7            7.3              0.65         0.00             1.2      0.065   \n",
       "8            7.8              0.58         0.02             2.0      0.073   \n",
       "9            7.5              0.50         0.36             6.1      0.071   \n",
       "\n",
       "   free sulfur dioxide  total sulfur dioxide  density        pH  sulphates  \\\n",
       "0                 11.0                    34   0.9978  3.510000       0.56   \n",
       "1                 25.0                    67   0.9968  3.200000       0.68   \n",
       "2                 15.0                    54   0.9970  3.260000       0.65   \n",
       "3                 17.0                    60   0.9980  3.160000       0.58   \n",
       "4                 11.0                    34   0.9978  3.510000       0.56   \n",
       "5                 13.0                    40   0.9978  3.510000       0.56   \n",
       "6                 15.0                    59   0.9964  3.299488       0.46   \n",
       "7                 15.0                    21   0.9946  3.390000       0.47   \n",
       "8                  9.0                    18   0.9968  3.360000       0.57   \n",
       "9                 17.0                   102   0.9978  3.350000       0.80   \n",
       "\n",
       "   alcohol quality  \n",
       "0      9.4     bad  \n",
       "1      9.8     bad  \n",
       "2      9.8     bad  \n",
       "3      9.8    good  \n",
       "4      9.4     bad  \n",
       "5      9.4     bad  \n",
       "6      9.4     bad  \n",
       "7     10.0    good  \n",
       "8      9.5    good  \n",
       "9     10.5     bad  "
      ]
     },
     "execution_count": 7,
     "metadata": {},
     "output_type": "execute_result"
    }
   ],
   "source": [
    "\n",
    "cols_to_replace_zero = ['chlorides', 'density', 'pH', 'sulphates']\n",
    "data[cols_to_replace_zero] = data[cols_to_replace_zero].replace(0, float('nan'))\n",
    "columns_with_null = data.columns[data.isnull().any()].tolist()\n",
    "data[columns_with_null] = data[columns_with_null].fillna(data.mean(numeric_only=True))\n",
    "data.head(10)\n"
   ]
  },
  {
   "cell_type": "markdown",
   "id": "3d62fd65-918d-4612-98e1-6288d3856231",
   "metadata": {},
   "source": [
    "c. Use the columns: [‘fixed acidity’, ‘volatile acidity’, ‘citric acid’, ‘residual sugar’,\n",
    "‘chlorides’, ‘free sulfur dioxide’] as the independent variables"
   ]
  },
  {
   "cell_type": "code",
   "execution_count": 8,
   "id": "06e088c3-6ab5-44de-b14a-f1bd7d5f30d2",
   "metadata": {},
   "outputs": [
    {
     "name": "stdout",
     "output_type": "stream",
     "text": [
      "URK21CS1128\n"
     ]
    },
    {
     "data": {
      "text/html": [
       "<div>\n",
       "<style scoped>\n",
       "    .dataframe tbody tr th:only-of-type {\n",
       "        vertical-align: middle;\n",
       "    }\n",
       "\n",
       "    .dataframe tbody tr th {\n",
       "        vertical-align: top;\n",
       "    }\n",
       "\n",
       "    .dataframe thead th {\n",
       "        text-align: right;\n",
       "    }\n",
       "</style>\n",
       "<table border=\"1\" class=\"dataframe\">\n",
       "  <thead>\n",
       "    <tr style=\"text-align: right;\">\n",
       "      <th></th>\n",
       "      <th>fixed acidity</th>\n",
       "      <th>volatile acidity</th>\n",
       "      <th>citric acid</th>\n",
       "      <th>residual sugar</th>\n",
       "      <th>chlorides</th>\n",
       "      <th>free sulfur dioxide</th>\n",
       "    </tr>\n",
       "  </thead>\n",
       "  <tbody>\n",
       "    <tr>\n",
       "      <th>0</th>\n",
       "      <td>7.4</td>\n",
       "      <td>0.70</td>\n",
       "      <td>0.0</td>\n",
       "      <td>1.9</td>\n",
       "      <td>0.076</td>\n",
       "      <td>11.0</td>\n",
       "    </tr>\n",
       "    <tr>\n",
       "      <th>1</th>\n",
       "      <td>7.8</td>\n",
       "      <td>0.88</td>\n",
       "      <td>0.0</td>\n",
       "      <td>2.6</td>\n",
       "      <td>0.098</td>\n",
       "      <td>25.0</td>\n",
       "    </tr>\n",
       "  </tbody>\n",
       "</table>\n",
       "</div>"
      ],
      "text/plain": [
       "   fixed acidity  volatile acidity  citric acid  residual sugar  chlorides  \\\n",
       "0            7.4              0.70          0.0             1.9      0.076   \n",
       "1            7.8              0.88          0.0             2.6      0.098   \n",
       "\n",
       "   free sulfur dioxide  \n",
       "0                 11.0  \n",
       "1                 25.0  "
      ]
     },
     "execution_count": 8,
     "metadata": {},
     "output_type": "execute_result"
    }
   ],
   "source": [
    "print(\"URK21CS1128\")\n",
    "X = data[['fixed acidity', 'volatile acidity', 'citric acid', 'residual sugar','chlorides', 'free sulfur dioxide']]\n",
    "X.head(2)"
   ]
  },
  {
   "cell_type": "markdown",
   "id": "91b795cf-cccb-43c6-94ea-d5727827e6d8",
   "metadata": {},
   "source": [
    "d. Use the target variable as 'quality' ('good' and 'bad' based on score >5 and <5)"
   ]
  },
  {
   "cell_type": "code",
   "execution_count": 9,
   "id": "06ec524b-2723-41e4-9233-59caea426d04",
   "metadata": {},
   "outputs": [
    {
     "name": "stdout",
     "output_type": "stream",
     "text": [
      "URK21CS1128\n"
     ]
    },
    {
     "data": {
      "text/plain": [
       "0     bad\n",
       "1     bad\n",
       "2     bad\n",
       "3    good\n",
       "Name: quality, dtype: object"
      ]
     },
     "execution_count": 9,
     "metadata": {},
     "output_type": "execute_result"
    }
   ],
   "source": [
    "print(\"URK21CS1128\")\n",
    "y = data['quality']\n",
    "y.head(4)\n"
   ]
  },
  {
   "cell_type": "markdown",
   "id": "0e71332a-c026-4d58-bf2a-465ab20d1661",
   "metadata": {},
   "source": [
    "e. Encode the categorical value of the target column to numerical value"
   ]
  },
  {
   "cell_type": "code",
   "execution_count": 10,
   "id": "0bf85a3b-4334-40de-97bd-84fbbad02543",
   "metadata": {},
   "outputs": [
    {
     "name": "stdout",
     "output_type": "stream",
     "text": [
      "URK21CS1128\n"
     ]
    },
    {
     "data": {
      "text/plain": [
       "0    1\n",
       "1    1\n",
       "2    1\n",
       "3    0\n",
       "Name: quality, dtype: int64"
      ]
     },
     "execution_count": 10,
     "metadata": {},
     "output_type": "execute_result"
    }
   ],
   "source": [
    "print(\"URK21CS1128\")\n",
    "y = y.replace({'good':0, 'bad':1})\n",
    "y.head(4)\n"
   ]
  },
  {
   "cell_type": "markdown",
   "id": "8116027b-2391-4b69-bded-0aaf38c72244",
   "metadata": {},
   "source": [
    " f. Divide the data into training (75%) and testing set (25%)"
   ]
  },
  {
   "cell_type": "code",
   "execution_count": 11,
   "id": "3dbf3fd9-54ea-4263-afad-9b717df3dae6",
   "metadata": {},
   "outputs": [],
   "source": [
    "X_train, X_test, y_train, y_test = train_test_split(X, y, test_size=0.25,random_state=42)\n"
   ]
  },
  {
   "cell_type": "markdown",
   "id": "e76e60c4-055c-470e-a65c-482114c6d4d3",
   "metadata": {},
   "source": [
    " g. Perform the classification with K=3"
   ]
  },
  {
   "cell_type": "code",
   "execution_count": 12,
   "id": "1e08d30a-4a77-4aa5-ba5a-4e8566010ed9",
   "metadata": {},
   "outputs": [
    {
     "name": "stdout",
     "output_type": "stream",
     "text": [
      "URK21CS1128\n"
     ]
    },
    {
     "data": {
      "text/html": [
       "<style>#sk-container-id-1 {color: black;background-color: white;}#sk-container-id-1 pre{padding: 0;}#sk-container-id-1 div.sk-toggleable {background-color: white;}#sk-container-id-1 label.sk-toggleable__label {cursor: pointer;display: block;width: 100%;margin-bottom: 0;padding: 0.3em;box-sizing: border-box;text-align: center;}#sk-container-id-1 label.sk-toggleable__label-arrow:before {content: \"▸\";float: left;margin-right: 0.25em;color: #696969;}#sk-container-id-1 label.sk-toggleable__label-arrow:hover:before {color: black;}#sk-container-id-1 div.sk-estimator:hover label.sk-toggleable__label-arrow:before {color: black;}#sk-container-id-1 div.sk-toggleable__content {max-height: 0;max-width: 0;overflow: hidden;text-align: left;background-color: #f0f8ff;}#sk-container-id-1 div.sk-toggleable__content pre {margin: 0.2em;color: black;border-radius: 0.25em;background-color: #f0f8ff;}#sk-container-id-1 input.sk-toggleable__control:checked~div.sk-toggleable__content {max-height: 200px;max-width: 100%;overflow: auto;}#sk-container-id-1 input.sk-toggleable__control:checked~label.sk-toggleable__label-arrow:before {content: \"▾\";}#sk-container-id-1 div.sk-estimator input.sk-toggleable__control:checked~label.sk-toggleable__label {background-color: #d4ebff;}#sk-container-id-1 div.sk-label input.sk-toggleable__control:checked~label.sk-toggleable__label {background-color: #d4ebff;}#sk-container-id-1 input.sk-hidden--visually {border: 0;clip: rect(1px 1px 1px 1px);clip: rect(1px, 1px, 1px, 1px);height: 1px;margin: -1px;overflow: hidden;padding: 0;position: absolute;width: 1px;}#sk-container-id-1 div.sk-estimator {font-family: monospace;background-color: #f0f8ff;border: 1px dotted black;border-radius: 0.25em;box-sizing: border-box;margin-bottom: 0.5em;}#sk-container-id-1 div.sk-estimator:hover {background-color: #d4ebff;}#sk-container-id-1 div.sk-parallel-item::after {content: \"\";width: 100%;border-bottom: 1px solid gray;flex-grow: 1;}#sk-container-id-1 div.sk-label:hover label.sk-toggleable__label {background-color: #d4ebff;}#sk-container-id-1 div.sk-serial::before {content: \"\";position: absolute;border-left: 1px solid gray;box-sizing: border-box;top: 0;bottom: 0;left: 50%;z-index: 0;}#sk-container-id-1 div.sk-serial {display: flex;flex-direction: column;align-items: center;background-color: white;padding-right: 0.2em;padding-left: 0.2em;position: relative;}#sk-container-id-1 div.sk-item {position: relative;z-index: 1;}#sk-container-id-1 div.sk-parallel {display: flex;align-items: stretch;justify-content: center;background-color: white;position: relative;}#sk-container-id-1 div.sk-item::before, #sk-container-id-1 div.sk-parallel-item::before {content: \"\";position: absolute;border-left: 1px solid gray;box-sizing: border-box;top: 0;bottom: 0;left: 50%;z-index: -1;}#sk-container-id-1 div.sk-parallel-item {display: flex;flex-direction: column;z-index: 1;position: relative;background-color: white;}#sk-container-id-1 div.sk-parallel-item:first-child::after {align-self: flex-end;width: 50%;}#sk-container-id-1 div.sk-parallel-item:last-child::after {align-self: flex-start;width: 50%;}#sk-container-id-1 div.sk-parallel-item:only-child::after {width: 0;}#sk-container-id-1 div.sk-dashed-wrapped {border: 1px dashed gray;margin: 0 0.4em 0.5em 0.4em;box-sizing: border-box;padding-bottom: 0.4em;background-color: white;}#sk-container-id-1 div.sk-label label {font-family: monospace;font-weight: bold;display: inline-block;line-height: 1.2em;}#sk-container-id-1 div.sk-label-container {text-align: center;}#sk-container-id-1 div.sk-container {/* jupyter's `normalize.less` sets `[hidden] { display: none; }` but bootstrap.min.css set `[hidden] { display: none !important; }` so we also need the `!important` here to be able to override the default hidden behavior on the sphinx rendered scikit-learn.org. See: https://github.com/scikit-learn/scikit-learn/issues/21755 */display: inline-block !important;position: relative;}#sk-container-id-1 div.sk-text-repr-fallback {display: none;}</style><div id=\"sk-container-id-1\" class=\"sk-top-container\"><div class=\"sk-text-repr-fallback\"><pre>KNeighborsClassifier(n_neighbors=3)</pre><b>In a Jupyter environment, please rerun this cell to show the HTML representation or trust the notebook. <br />On GitHub, the HTML representation is unable to render, please try loading this page with nbviewer.org.</b></div><div class=\"sk-container\" hidden><div class=\"sk-item\"><div class=\"sk-estimator sk-toggleable\"><input class=\"sk-toggleable__control sk-hidden--visually\" id=\"sk-estimator-id-1\" type=\"checkbox\" checked><label for=\"sk-estimator-id-1\" class=\"sk-toggleable__label sk-toggleable__label-arrow\">KNeighborsClassifier</label><div class=\"sk-toggleable__content\"><pre>KNeighborsClassifier(n_neighbors=3)</pre></div></div></div></div></div>"
      ],
      "text/plain": [
       "KNeighborsClassifier(n_neighbors=3)"
      ]
     },
     "execution_count": 12,
     "metadata": {},
     "output_type": "execute_result"
    }
   ],
   "source": [
    "print(\"URK21CS1128\")\n",
    "knn = KNeighborsClassifier(n_neighbors=3)\n",
    "knn.fit(X_train, y_train)"
   ]
  },
  {
   "cell_type": "markdown",
   "id": "da8e0d0f-b1f1-4757-b484-b79c31ece89e",
   "metadata": {},
   "source": [
    "h. Analyse the performance of the classifier with various performance measures␣and display such as confusion matrix, accuracy, \n",
    "recall, precision,␣specificity, f-score, Receiver operating characteristic (ROC) curve and Area␣Under Curve (AUC) score"
   ]
  },
  {
   "cell_type": "code",
   "execution_count": 13,
   "id": "c7704ec3-e483-433c-9304-9b519afdd863",
   "metadata": {},
   "outputs": [
    {
     "name": "stdout",
     "output_type": "stream",
     "text": [
      "URK21CS1128\n",
      "Confusion Matrix:\n",
      " [[73 61]\n",
      " [37 79]]\n",
      "Accuracy: 0.608\n",
      "Classification Report:\n",
      "               precision    recall  f1-score   support\n",
      "\n",
      "           0       0.66      0.54      0.60       134\n",
      "           1       0.56      0.68      0.62       116\n",
      "\n",
      "    accuracy                           0.61       250\n",
      "   macro avg       0.61      0.61      0.61       250\n",
      "weighted avg       0.62      0.61      0.61       250\n",
      "\n",
      "AUC Score: 0.6129053010808028\n"
     ]
    }
   ],
   "source": [
    "print(\"URK21CS1128\")\n",
    "y_pred = knn.predict(X_test)\n",
    "print(\"Confusion Matrix:\\n\", confusion_matrix(y_test, y_pred))\n",
    "print(\"Accuracy:\", accuracy_score(y_test, y_pred))\n",
    "print(\"Classification Report:\\n\", classification_report(y_test, y_pred))\n",
    "print(\"AUC Score:\", roc_auc_score(y_test, y_pred))"
   ]
  },
  {
   "cell_type": "markdown",
   "id": "b9b893d0-7551-467f-a79f-27da8f38f99e",
   "metadata": {},
   "source": [
    " i. Change the value of K in KNN with 5,7,9,11 and tabulate the various TP, TN,␣\n",
    "↪accuracy, f-score and AUC score obtained"
   ]
  },
  {
   "cell_type": "code",
   "execution_count": 14,
   "id": "ab435996-fc41-4258-830f-c1cd2eb817c9",
   "metadata": {},
   "outputs": [
    {
     "name": "stdout",
     "output_type": "stream",
     "text": [
      "URK21CS1128\n",
      "Confusion Matrix:\n",
      " [[68 66]\n",
      " [46 70]]\n",
      "Accuracy: 0.552\n",
      "Classification Report:\n",
      "               precision    recall  f1-score   support\n",
      "\n",
      "           0       0.60      0.51      0.55       134\n",
      "           1       0.51      0.60      0.56       116\n",
      "\n",
      "    accuracy                           0.55       250\n",
      "   macro avg       0.56      0.56      0.55       250\n",
      "weighted avg       0.56      0.55      0.55       250\n",
      "\n",
      "AUC Score: 0.5554554812146166\n",
      "Confusion Matrix:\n",
      " [[64 70]\n",
      " [43 73]]\n",
      "Accuracy: 0.548\n",
      "Classification Report:\n",
      "               precision    recall  f1-score   support\n",
      "\n",
      "           0       0.60      0.48      0.53       134\n",
      "           1       0.51      0.63      0.56       116\n",
      "\n",
      "    accuracy                           0.55       250\n",
      "   macro avg       0.55      0.55      0.55       250\n",
      "weighted avg       0.56      0.55      0.55       250\n",
      "\n",
      "AUC Score: 0.5534611425630469\n",
      "Confusion Matrix:\n",
      " [[68 66]\n",
      " [42 74]]\n",
      "Accuracy: 0.568\n",
      "Classification Report:\n",
      "               precision    recall  f1-score   support\n",
      "\n",
      "           0       0.62      0.51      0.56       134\n",
      "           1       0.53      0.64      0.58       116\n",
      "\n",
      "    accuracy                           0.57       250\n",
      "   macro avg       0.57      0.57      0.57       250\n",
      "weighted avg       0.58      0.57      0.57       250\n",
      "\n",
      "AUC Score: 0.5726968605249615\n",
      "Confusion Matrix:\n",
      " [[73 61]\n",
      " [47 69]]\n",
      "Accuracy: 0.568\n",
      "Classification Report:\n",
      "               precision    recall  f1-score   support\n",
      "\n",
      "           0       0.61      0.54      0.57       134\n",
      "           1       0.53      0.59      0.56       116\n",
      "\n",
      "    accuracy                           0.57       250\n",
      "   macro avg       0.57      0.57      0.57       250\n",
      "weighted avg       0.57      0.57      0.57       250\n",
      "\n",
      "AUC Score: 0.5698018528049409\n"
     ]
    }
   ],
   "source": [
    "print(\"URK21CS1128\")\n",
    "for i in [5,7,9,11]:\n",
    "    knn = KNeighborsClassifier(n_neighbors=i)\n",
    "    knn.fit(X_train, y_train)\n",
    "    y_pred = knn.predict(X_test)\n",
    "    print(\"Confusion Matrix:\\n\", confusion_matrix(y_test, y_pred))\n",
    "    print(\"Accuracy:\", accuracy_score(y_test, y_pred))\n",
    "    print(\"Classification Report:\\n\", classification_report(y_test, y_pred))\n",
    "    print(\"AUC Score:\", roc_auc_score(y_test, y_pred))\n"
   ]
  },
  {
   "cell_type": "markdown",
   "id": "573e5e20-34ce-464a-88c9-0a6219b45275",
   "metadata": {},
   "source": [
    "## j. Analyse and infer for which K value, the classification algorithm provides␣\n",
    "↪better performance."
   ]
  },
  {
   "cell_type": "markdown",
   "id": "4fc26305-ea94-488d-b027-37d8609126bc",
   "metadata": {},
   "source": [
    "K = 5 provides the highest accuracy and highest AUC score. K = 7 provides the second-highest\n",
    "accuracy and the second-highest AUC score. K = 9 provides the third-highest accuracy and the third-highest AUC score. \n",
    "K = 11 provides the lowest accuracy and but the lowest AUC score. K = 5 provides performance \n",
    "for this classification task. Therefore, K = 5 is considered the preferred choice for this specific problem.Therefore, we can infer that K = 5 \n",
    "provides better performance for this particular dataset ,classification problem.\n"
   ]
  },
  {
   "cell_type": "code",
   "execution_count": null,
   "id": "5dd7cfd5-8147-4832-ad95-cdd87dcf968e",
   "metadata": {},
   "outputs": [],
   "source": [
    "Result : Thus the program has been executed and the output has been verified successfully"
   ]
  }
 ],
 "metadata": {
  "kernelspec": {
   "display_name": "Python 3 (ipykernel)",
   "language": "python",
   "name": "python3"
  },
  "language_info": {
   "codemirror_mode": {
    "name": "ipython",
    "version": 3
   },
   "file_extension": ".py",
   "mimetype": "text/x-python",
   "name": "python",
   "nbconvert_exporter": "python",
   "pygments_lexer": "ipython3",
   "version": "3.9.15"
  }
 },
 "nbformat": 4,
 "nbformat_minor": 5
}

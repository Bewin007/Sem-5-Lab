{
 "cells": [
  {
   "cell_type": "markdown",
   "id": "a7c23d43-0760-4e32-a679-bcde26f1dd05",
   "metadata": {},
   "source": []
  },
  {
   "cell_type": "markdown",
   "id": "dee5b8df-371f-40ee-8dda-3bd72e28f42e",
   "metadata": {},
   "source": [
    "AIM: \n",
    " This course aims to teach learners how to work with Python data structures in data science, \n",
    "covering concepts, manipulation, and visualization."
   ]
  },
  {
   "cell_type": "markdown",
   "id": "81549199-7dac-4ad9-9707-60b651e3049b",
   "metadata": {},
   "source": [
    "DESCRIPTION:\n",
    "   The course covers Python data structures like lists, tuples, dictionaries, sets, and arrays, \n",
    "along with NumPy and Pandas for data analysis. Participants will learn to visualize data and apply \n",
    "structures to real-world data science problems."
   ]
  },
  {
   "cell_type": "markdown",
   "id": "d90c744f-f60d-4bc7-b793-90bf3bc5eaaa",
   "metadata": {},
   "source": [
    "1. Create an empty dictionary. Fill the dictionary with prod_code and prod_name as pair\n",
    "by user input (Use prod_code as a key). Take one prod_code as input from the user and\n",
    "traverse through dictionary to find the corresponding prod_name and display the same."
   ]
  },
  {
   "cell_type": "code",
   "execution_count": 1,
   "id": "2046adfd-a57e-4666-83d1-81d8c21e1d45",
   "metadata": {},
   "outputs": [
    {
     "name": "stdin",
     "output_type": "stream",
     "text": [
      "Enter the number of product pairs you want to add:  2\n",
      "Enter the product code:  project\n",
      "Enter the product name:  book\n",
      "Enter the product code:  session\n",
      "Enter the product name:  guide\n",
      "Enter the product code to find the corresponding product name:  session\n"
     ]
    },
    {
     "name": "stdout",
     "output_type": "stream",
     "text": [
      "Corresponding product name: guide\n"
     ]
    }
   ],
   "source": [
    "#1128\n",
    "empty_dict = {}\n",
    "\n",
    "n = int(input(\"Enter the number of product pairs you want to add: \"))\n",
    "for _ in range(n):\n",
    "    prod_code = input(\"Enter the product code: \")\n",
    "    prod_name = input(\"Enter the product name: \")\n",
    "    empty_dict[prod_code] = prod_name\n",
    "\n",
    "user_input_code = input(\"Enter the product code to find the corresponding product name: \")\n",
    "if user_input_code in empty_dict:\n",
    "    print(\"Corresponding product name:\", empty_dict[user_input_code])\n",
    "else:\n",
    "    print(\"Product code not found in the dictionary.\")"
   ]
  },
  {
   "cell_type": "markdown",
   "id": "841bb2ed-080b-4b65-a5b2-a4d52cac989b",
   "metadata": {},
   "source": [
    "2. Create an empty list. Fill the list with strings by getting user input. Find the list of words\n",
    "that are longer than n from a given list of words.\n",
    "Sample List : [‘the’,’quick’,’brown’,’fox’]\n",
    "n : 3"
   ]
  },
  {
   "cell_type": "code",
   "execution_count": 2,
   "id": "80e4bdb5-d2c8-4613-bee8-edae25de1906",
   "metadata": {},
   "outputs": [
    {
     "name": "stdin",
     "output_type": "stream",
     "text": [
      "Enter the number of words you want to add to the list:  3\n",
      "Enter a word:  is\n",
      "Enter a word:  was\n",
      "Enter a word:  the\n",
      "Enter the minimum word length to filter the words:  2\n"
     ]
    },
    {
     "name": "stdout",
     "output_type": "stream",
     "text": [
      "Words longer than 2 : ['was', 'the']\n"
     ]
    }
   ],
   "source": [
    "#1128\n",
    "empty_list = []\n",
    "\n",
    "n = int(input(\"Enter the number of words you want to add to the list: \"))\n",
    "for _ in range(n):\n",
    "    word = input(\"Enter a word: \")\n",
    "    empty_list.append(word)\n",
    "\n",
    "min_length = int(input(\"Enter the minimum word length to filter the words: \"))\n",
    "result_list = [word for word in empty_list if len(word) > min_length]\n",
    "print(\"Words longer than\", min_length, \":\", result_list)"
   ]
  },
  {
   "cell_type": "markdown",
   "id": "4f63d1e7-0c07-485d-99be-3ccddc5264bf",
   "metadata": {},
   "source": [
    "3. Create an empty set. Fill the set with values by getting user input. Check if a given\n",
    "value is present in a set or not."
   ]
  },
  {
   "cell_type": "code",
   "execution_count": 3,
   "id": "c431bcfa-2e78-4fa1-8e50-26fe573d86ca",
   "metadata": {},
   "outputs": [
    {
     "name": "stdin",
     "output_type": "stream",
     "text": [
      "Enter the number of values you want to add to the set:  3\n",
      "Enter a value:  2\n",
      "Enter a value:  3\n",
      "Enter a value:  1\n",
      "Enter the value to check if it's present in the set:  2\n"
     ]
    },
    {
     "name": "stdout",
     "output_type": "stream",
     "text": [
      "2 is present in the set.\n"
     ]
    }
   ],
   "source": [
    "#1128\n",
    "empty_set = set()\n",
    "\n",
    "n = int(input(\"Enter the number of values you want to add to the set: \"))\n",
    "for _ in range(n):\n",
    "    value = input(\"Enter a value: \")\n",
    "    empty_set.add(value)\n",
    "\n",
    "search_value = input(\"Enter the value to check if it's present in the set: \")\n",
    "if search_value in empty_set:\n",
    "    print(search_value, \"is present in the set.\")\n",
    "else:\n",
    "    print(search_value, \"is not present in the set.\")"
   ]
  },
  {
   "cell_type": "markdown",
   "id": "4fd8b3c6-9197-4e12-9c93-a8192d5eb340",
   "metadata": {},
   "source": [
    "4. Create an empty tuple. Populate the tuple with values by getting user input. Count the\n",
    "occurrence of a given input number in the tuple.\n",
    "Sample : (50, 10, 60, 70, 50)\n",
    "n : 50"
   ]
  },
  {
   "cell_type": "code",
   "execution_count": 4,
   "id": "b476ae3b-eb52-4a4d-89f3-0452168cc8bd",
   "metadata": {},
   "outputs": [
    {
     "name": "stdin",
     "output_type": "stream",
     "text": [
      "Enter the number of elements you want to add to the tuple:  3\n",
      "Enter a number:  1\n",
      "Enter a number:  2\n",
      "Enter a number:  3\n",
      "Enter the number to count its occurrences in the tuple:  1\n"
     ]
    },
    {
     "name": "stdout",
     "output_type": "stream",
     "text": [
      "Occurrences of 1 in the tuple: 1\n"
     ]
    }
   ],
   "source": [
    "#1128\n",
    "empty_tuple = ()\n",
    "\n",
    "n = int(input(\"Enter the number of elements you want to add to the tuple: \"))\n",
    "for _ in range(n):\n",
    "    value = int(input(\"Enter a number: \"))\n",
    "    empty_tuple += (value,)\n",
    "\n",
    "search_number = int(input(\"Enter the number to count its occurrences in the tuple: \"))\n",
    "count = empty_tuple.count(search_number)\n",
    "print(\"Occurrences of\", search_number, \"in the tuple:\", count)"
   ]
  },
  {
   "cell_type": "markdown",
   "id": "b2109f45-74ad-4a1d-bd57-a22a9752ca79",
   "metadata": {},
   "source": [
    "5. Create a 2D array and perform matrix subtraction using numpy."
   ]
  },
  {
   "cell_type": "code",
   "execution_count": 8,
   "id": "67fbf4d5-ef17-40bc-9014-ba5d1171b8cc",
   "metadata": {},
   "outputs": [
    {
     "name": "stdout",
     "output_type": "stream",
     "text": [
      "Result of matrix subtraction:\n",
      "[[-1  1]\n",
      " [-1  1]]\n"
     ]
    }
   ],
   "source": [
    "#1128\n",
    "import numpy as np\n",
    "array1 = np.array([[1, 2], [3, 4]])\n",
    "array2 = np.array([[2, 1], [4, 3]])\n",
    "\n",
    "result_array = array1 - array2\n",
    "print(\"Result of matrix subtraction:\")\n",
    "print(result_array)"
   ]
  },
  {
   "cell_type": "markdown",
   "id": "d09e91dd-280f-4513-963f-334f91ffc6b5",
   "metadata": {},
   "source": [
    "6. Create a 2D array using numpy and find the maximum element in the matrix."
   ]
  },
  {
   "cell_type": "code",
   "execution_count": 9,
   "id": "da60531e-95f9-42d0-9531-ab3099f52f66",
   "metadata": {},
   "outputs": [
    {
     "name": "stdout",
     "output_type": "stream",
     "text": [
      "Maximum element in the matrix: 45\n"
     ]
    }
   ],
   "source": [
    "#1128\n",
    "import numpy as np\n",
    "matrix = np.array([[5, 10, 15], [20, 25, 30], [35, 40, 45]])\n",
    "\n",
    "max_element = np.max(matrix)\n",
    "print(\"Maximum element in the matrix:\", max_element)"
   ]
  },
  {
   "cell_type": "markdown",
   "id": "fb4f54b0-f0ff-41f6-8fd6-91de6345f3fd",
   "metadata": {},
   "source": [
    "7. Download the dataset from https://www.kaggle.com/datasets/varshamannem/toyato.\n",
    "Read the Toyota.csv file and display the basic details.\n",
    "a. Display the top 10 rows\n",
    "b. Display the last 5 rows\n",
    "c. Display row and column details\n",
    "d. Display size, shape, dimension and information summary"
   ]
  },
  {
   "cell_type": "code",
   "execution_count": 6,
   "id": "6c280937-e6bb-4d0e-9f5a-42f20aa88a4f",
   "metadata": {},
   "outputs": [
    {
     "name": "stdout",
     "output_type": "stream",
     "text": [
      "Top 10 rows:\n",
      "   Unnamed: 0  Price   Age     KM FuelType    HP  MetColor  Automatic    CC  \\\n",
      "0           0  13500  23.0  46986   Diesel    90       1.0          0  2000   \n",
      "1           1  13750  23.0  72937   Diesel    90       1.0          0  2000   \n",
      "2           2  13950  24.0  41711   Diesel    90       NaN          0  2000   \n",
      "3           3  14950  26.0  48000   Diesel    90       0.0          0  2000   \n",
      "4           4  13750  30.0  38500   Diesel    90       0.0          0  2000   \n",
      "5           5  12950  32.0  61000   Diesel    90       0.0          0  2000   \n",
      "6           6  16900  27.0     ??   Diesel  ????       NaN          0  2000   \n",
      "7           7  18600  30.0  75889      NaN    90       1.0          0  2000   \n",
      "8           8  21500  27.0  19700   Petrol   192       0.0          0  1800   \n",
      "9           9  12950  23.0  71138   Diesel  ????       NaN          0  1900   \n",
      "\n",
      "   Doors  Weight  \n",
      "0  three    1165  \n",
      "1      3    1165  \n",
      "2      3    1165  \n",
      "3      3    1165  \n",
      "4      3    1170  \n",
      "5      3    1170  \n",
      "6      3    1245  \n",
      "7      3    1245  \n",
      "8      3    1185  \n",
      "9      3    1105  \n",
      "\n",
      "Last 5 rows:\n",
      "      Unnamed: 0  Price   Age     KM FuelType   HP  MetColor  Automatic    CC  \\\n",
      "1431        1431   7500   NaN  20544   Petrol   86       1.0          0  1300   \n",
      "1432        1432  10845  72.0     ??   Petrol   86       0.0          0  1300   \n",
      "1433        1433   8500   NaN  17016   Petrol   86       0.0          0  1300   \n",
      "1434        1434   7250  70.0     ??      NaN   86       1.0          0  1300   \n",
      "1435        1435   6950  76.0      1   Petrol  110       0.0          0  1600   \n",
      "\n",
      "     Doors  Weight  \n",
      "1431     3    1025  \n",
      "1432     3    1015  \n",
      "1433     3    1015  \n",
      "1434     3    1015  \n",
      "1435     5    1114  \n",
      "\n",
      "Row and Column details:\n",
      "Number of rows: RangeIndex(start=0, stop=1436, step=1)\n",
      "Number of columns: Index(['Unnamed: 0', 'Price', 'Age', 'KM', 'FuelType', 'HP', 'MetColor',\n",
      "       'Automatic', 'CC', 'Doors', 'Weight'],\n",
      "      dtype='object')\n",
      "\n",
      "Size of the DataFrame: 15796\n",
      "Shape of the DataFrame: (1436, 11)\n",
      "Number of dimensions: 2\n",
      "\n",
      "Information summary:\n",
      "<class 'pandas.core.frame.DataFrame'>\n",
      "RangeIndex: 1436 entries, 0 to 1435\n",
      "Data columns (total 11 columns):\n",
      " #   Column      Non-Null Count  Dtype  \n",
      "---  ------      --------------  -----  \n",
      " 0   Unnamed: 0  1436 non-null   int64  \n",
      " 1   Price       1436 non-null   int64  \n",
      " 2   Age         1336 non-null   float64\n",
      " 3   KM          1436 non-null   object \n",
      " 4   FuelType    1336 non-null   object \n",
      " 5   HP          1436 non-null   object \n",
      " 6   MetColor    1286 non-null   float64\n",
      " 7   Automatic   1436 non-null   int64  \n",
      " 8   CC          1436 non-null   int64  \n",
      " 9   Doors       1436 non-null   object \n",
      " 10  Weight      1436 non-null   int64  \n",
      "dtypes: float64(2), int64(5), object(4)\n",
      "memory usage: 123.5+ KB\n",
      "None\n"
     ]
    }
   ],
   "source": [
    "#1128\n",
    "import pandas as pd\n",
    "\n",
    "# Assuming you have already downloaded and placed the Toyota.csv file in the current directory\n",
    "file_path = \"Toyota.csv\"\n",
    "\n",
    "# Read the CSV file into a DataFrame\n",
    "df = pd.read_csv(file_path)\n",
    "\n",
    "# a. Display the top 10 rows\n",
    "print(\"Top 10 rows:\")\n",
    "print(df.head(10))\n",
    "\n",
    "# b. Display the last 5 rows\n",
    "print(\"\\nLast 5 rows:\")\n",
    "print(df.tail())\n",
    "\n",
    "# c. Display row and column details\n",
    "print(\"\\nRow and Column details:\")\n",
    "print(\"Number of rows:\", df.index)\n",
    "print(\"Number of columns:\", df.columns)\n",
    "\n",
    "# d. Display size, shape, dimension, and information summary\n",
    "print(\"\\nSize of the DataFrame:\", df.size)\n",
    "print(\"Shape of the DataFrame:\", df.shape)\n",
    "print(\"Number of dimensions:\", df.ndim)\n",
    "\n",
    "# Information summary\n",
    "print(\"\\nInformation summary:\")\n",
    "print(df.info())\n"
   ]
  },
  {
   "cell_type": "markdown",
   "id": "18d4787c-22bc-4b08-b2d4-2a362512440b",
   "metadata": {},
   "source": [
    "Result: The basic functionalities of data visualization using python were executed successfully."
   ]
  }
 ],
 "metadata": {
  "kernelspec": {
   "display_name": "Python 3 (ipykernel)",
   "language": "python",
   "name": "python3"
  },
  "language_info": {
   "codemirror_mode": {
    "name": "ipython",
    "version": 3
   },
   "file_extension": ".py",
   "mimetype": "text/x-python",
   "name": "python",
   "nbconvert_exporter": "python",
   "pygments_lexer": "ipython3",
   "version": "3.9.15"
  }
 },
 "nbformat": 4,
 "nbformat_minor": 5
}

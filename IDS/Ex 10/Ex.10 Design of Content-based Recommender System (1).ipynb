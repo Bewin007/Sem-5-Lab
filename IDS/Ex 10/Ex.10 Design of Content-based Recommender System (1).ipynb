{
 "cells": [
  {
   "cell_type": "code",
   "execution_count": null,
   "id": "6cdab0b7-85a9-42d1-b2c4-dd8a7a74c7bb",
   "metadata": {},
   "outputs": [],
   "source": [
    "Bewin Felix R A\n",
    "URK21CS1128"
   ]
  },
  {
   "cell_type": "code",
   "execution_count": null,
   "id": "de5a205d-d475-4a25-bfe7-62a00efea08c",
   "metadata": {},
   "outputs": [],
   "source": [
    "AIM:\n",
    "    To Develop an E-commerce item recommender system with content-based recommendation system\n",
    "using the Term-Frequency Inverse Document Frequency (TF IDF) and cosine similarity."
   ]
  },
  {
   "cell_type": "code",
   "execution_count": null,
   "id": "c701c08f-a109-40ee-8afc-c36622f69a6b",
   "metadata": {},
   "outputs": [],
   "source": [
    "DESCRIPTION:\n",
    "\n",
    "A recommendation system, often referred to as a recommender system, is a type of \n",
    "software or algorithm that provides personalized suggestions to users. These \n",
    "suggestions can be for products, services, content, or items of interest based on \n",
    "a user's past behavior, preferences, or the behavior of similar users. \n",
    "Recommendation systems are widely used in various domains, including e-commerce,\n",
    "content streaming, social media, and more, to enhance user experience and engagement.\n",
    "\n",
    "A search engine is a software application or online service that helps users find \n",
    "information on the internet or within a specific dataset. It works by indexing and \n",
    "cataloging vast amounts of web content and providing users with a way to search for \n",
    "and access relevant information quickly.\n",
    "    \n",
    "Term Frequency-Inverse Document Frequency, commonly abbreviated as TF-IDF, is a\n",
    "numerical statistic used in information retrieval and text mining to evaluate \n",
    "the importance of a word in a document relative to a collection of documents \n",
    "(corpus). TF-IDF is a technique that combines two key components:\n",
    "\n",
    "Term Frequency (TF):\n",
    "\n",
    "Term Frequency measures how frequently a term (word or phrase) appears in a \n",
    "document. It is calculated as the number of times a term occurs in a document \n",
    "divided by the total number of terms in the document. The idea is to give higher\n",
    "weight to terms that appear more frequently within a document.\n",
    "\n",
    "Inverse Document Frequency (IDF):\n",
    "\n",
    "Inverse Document Frequency calculates the importance of a term across a collection\n",
    "of documents. It is used to downweight common terms that appear in many documents \n",
    "and give higher weight to rare terms.\n",
    "\n",
    "The TF-IDF score for a term in a document combines both the TF and IDF components \n",
    "to determine how important the term is in that particular document within the \n",
    "context of the entire corpus. It is calculated as follows:\n",
    "\n",
    "TF-IDF(t, d, corpus) = TF(t, d) * IDF(t, corpus)\n",
    "\n",
    "# from sklearn.feature_extraction.text import TfidfVectorizer\n",
    "# tfidf = TfidfVectorizer(stop_words='english')\n",
    "# tfidf_matrix = tfidf.fit_transform(content)\n",
    "\n",
    "Cosine similarity\n",
    "Cosine similarity measures the similarity between two vectors. Since TF-IDF returns\n",
    "vectors showing the score a document gets versus the corpus, we can use cosine \n",
    "similarity to identify the closest matches after we’ve used TF-IDF to generate the \n",
    "vectors.\n",
    "# from sklearn.metrics.pairwise import cosine_similarity\n",
    "# from sklearn.metrics.pairwise import linear_kernel\n"
   ]
  },
  {
   "cell_type": "code",
   "execution_count": null,
   "id": "ea95b378-d638-4a2d-943b-707c28a7bc03",
   "metadata": {},
   "outputs": [],
   "source": [
    "2. Develop an E-commerce item recommender system with content-based recommendation\n",
    "using the scikit-learn\n",
    "a. Use the column: 'product'."
   ]
  },
  {
   "cell_type": "code",
   "execution_count": 1,
   "id": "dfecb4bc-b676-4180-b898-24c18341d721",
   "metadata": {},
   "outputs": [],
   "source": [
    "import pandas as pd\n",
    "import numpy as np\n",
    "from sklearn.feature_extraction.text import TfidfVectorizer\n",
    "from sklearn.metrics.pairwise import cosine_similarity\n",
    "from sklearn.metrics.pairwise import linear_kernel"
   ]
  },
  {
   "cell_type": "code",
   "execution_count": 3,
   "id": "e6106b94-8f45-4ddf-b8bc-3644f3f1d193",
   "metadata": {},
   "outputs": [
    {
     "name": "stdout",
     "output_type": "stream",
     "text": [
      "1128\n"
     ]
    },
    {
     "data": {
      "text/html": [
       "<div>\n",
       "<style scoped>\n",
       "    .dataframe tbody tr th:only-of-type {\n",
       "        vertical-align: middle;\n",
       "    }\n",
       "\n",
       "    .dataframe tbody tr th {\n",
       "        vertical-align: top;\n",
       "    }\n",
       "\n",
       "    .dataframe thead th {\n",
       "        text-align: right;\n",
       "    }\n",
       "</style>\n",
       "<table border=\"1\" class=\"dataframe\">\n",
       "  <thead>\n",
       "    <tr style=\"text-align: right;\">\n",
       "      <th></th>\n",
       "      <th>id</th>\n",
       "      <th>product</th>\n",
       "      <th>description</th>\n",
       "    </tr>\n",
       "  </thead>\n",
       "  <tbody>\n",
       "    <tr>\n",
       "      <th>0</th>\n",
       "      <td>1.0</td>\n",
       "      <td>Active classic boxers</td>\n",
       "      <td>There's a reason why our boxers are a cult fav...</td>\n",
       "    </tr>\n",
       "    <tr>\n",
       "      <th>1</th>\n",
       "      <td>2.0</td>\n",
       "      <td>Active sport boxer briefs</td>\n",
       "      <td>Skinning up Glory requires enough movement wit...</td>\n",
       "    </tr>\n",
       "    <tr>\n",
       "      <th>2</th>\n",
       "      <td>3.0</td>\n",
       "      <td>Active sport briefs</td>\n",
       "      <td>These superbreathable no-fly briefs are the mi...</td>\n",
       "    </tr>\n",
       "    <tr>\n",
       "      <th>3</th>\n",
       "      <td>4.0</td>\n",
       "      <td>Alpine guide pants</td>\n",
       "      <td>Skin in, climb ice, switch to rock, traverse a...</td>\n",
       "    </tr>\n",
       "    <tr>\n",
       "      <th>4</th>\n",
       "      <td>5.0</td>\n",
       "      <td>Alpine wind jkt</td>\n",
       "      <td>On high ridges, steep ice and anything alpine,...</td>\n",
       "    </tr>\n",
       "    <tr>\n",
       "      <th>...</th>\n",
       "      <td>...</td>\n",
       "      <td>...</td>\n",
       "      <td>...</td>\n",
       "    </tr>\n",
       "    <tr>\n",
       "      <th>2182</th>\n",
       "      <td>NaN</td>\n",
       "      <td>NaN</td>\n",
       "      <td>NaN</td>\n",
       "    </tr>\n",
       "    <tr>\n",
       "      <th>2183</th>\n",
       "      <td>NaN</td>\n",
       "      <td>NaN</td>\n",
       "      <td>NaN</td>\n",
       "    </tr>\n",
       "    <tr>\n",
       "      <th>2184</th>\n",
       "      <td>NaN</td>\n",
       "      <td>NaN</td>\n",
       "      <td>NaN</td>\n",
       "    </tr>\n",
       "    <tr>\n",
       "      <th>2185</th>\n",
       "      <td>NaN</td>\n",
       "      <td>NaN</td>\n",
       "      <td>NaN</td>\n",
       "    </tr>\n",
       "    <tr>\n",
       "      <th>2186</th>\n",
       "      <td>NaN</td>\n",
       "      <td>NaN</td>\n",
       "      <td>NaN</td>\n",
       "    </tr>\n",
       "  </tbody>\n",
       "</table>\n",
       "<p>2187 rows × 3 columns</p>\n",
       "</div>"
      ],
      "text/plain": [
       "       id                    product  \\\n",
       "0     1.0      Active classic boxers   \n",
       "1     2.0  Active sport boxer briefs   \n",
       "2     3.0        Active sport briefs   \n",
       "3     4.0         Alpine guide pants   \n",
       "4     5.0            Alpine wind jkt   \n",
       "...   ...                        ...   \n",
       "2182  NaN                        NaN   \n",
       "2183  NaN                        NaN   \n",
       "2184  NaN                        NaN   \n",
       "2185  NaN                        NaN   \n",
       "2186  NaN                        NaN   \n",
       "\n",
       "                                            description  \n",
       "0     There's a reason why our boxers are a cult fav...  \n",
       "1     Skinning up Glory requires enough movement wit...  \n",
       "2     These superbreathable no-fly briefs are the mi...  \n",
       "3     Skin in, climb ice, switch to rock, traverse a...  \n",
       "4     On high ridges, steep ice and anything alpine,...  \n",
       "...                                                 ...  \n",
       "2182                                                NaN  \n",
       "2183                                                NaN  \n",
       "2184                                                NaN  \n",
       "2185                                                NaN  \n",
       "2186                                                NaN  \n",
       "\n",
       "[2187 rows x 3 columns]"
      ]
     },
     "execution_count": 3,
     "metadata": {},
     "output_type": "execute_result"
    }
   ],
   "source": [
    "print(1128)\n",
    "df = pd.read_csv(\"shop_details.csv\")\n",
    "df"
   ]
  },
  {
   "cell_type": "code",
   "execution_count": 4,
   "id": "65c2df13-8913-4033-bd27-d6e033b27c9f",
   "metadata": {},
   "outputs": [
    {
     "name": "stdout",
     "output_type": "stream",
     "text": [
      "1128\n"
     ]
    },
    {
     "data": {
      "text/plain": [
       "0           Active classic boxers\n",
       "1       Active sport boxer briefs\n",
       "2             Active sport briefs\n",
       "3              Alpine guide pants\n",
       "4                 Alpine wind jkt\n",
       "                  ...            \n",
       "2182                          NaN\n",
       "2183                          NaN\n",
       "2184                          NaN\n",
       "2185                          NaN\n",
       "2186                          NaN\n",
       "Name: product, Length: 2187, dtype: object"
      ]
     },
     "execution_count": 4,
     "metadata": {},
     "output_type": "execute_result"
    }
   ],
   "source": [
    "#b. Remove the leading and trailing whitespaces in that column.\n",
    "print(1128)\n",
    "df[\"product\"].str.strip()\n",
    "df[\"product\"]"
   ]
  },
  {
   "cell_type": "code",
   "execution_count": 5,
   "id": "8c7101e2-5699-4b3f-bc4b-a35d8bb7d9c9",
   "metadata": {},
   "outputs": [
    {
     "name": "stdout",
     "output_type": "stream",
     "text": [
      "1128\n"
     ]
    },
    {
     "data": {
      "text/html": [
       "<div>\n",
       "<style scoped>\n",
       "    .dataframe tbody tr th:only-of-type {\n",
       "        vertical-align: middle;\n",
       "    }\n",
       "\n",
       "    .dataframe tbody tr th {\n",
       "        vertical-align: top;\n",
       "    }\n",
       "\n",
       "    .dataframe thead th {\n",
       "        text-align: right;\n",
       "    }\n",
       "</style>\n",
       "<table border=\"1\" class=\"dataframe\">\n",
       "  <thead>\n",
       "    <tr style=\"text-align: right;\">\n",
       "      <th></th>\n",
       "      <th>id</th>\n",
       "      <th>product</th>\n",
       "      <th>description</th>\n",
       "    </tr>\n",
       "  </thead>\n",
       "  <tbody>\n",
       "    <tr>\n",
       "      <th>0</th>\n",
       "      <td>1.0</td>\n",
       "      <td>Active classic boxers</td>\n",
       "      <td>There's a reason why our boxers are a cult fav...</td>\n",
       "    </tr>\n",
       "    <tr>\n",
       "      <th>1</th>\n",
       "      <td>2.0</td>\n",
       "      <td>Active sport boxer briefs</td>\n",
       "      <td>Skinning up Glory requires enough movement wit...</td>\n",
       "    </tr>\n",
       "    <tr>\n",
       "      <th>2</th>\n",
       "      <td>3.0</td>\n",
       "      <td>Active sport briefs</td>\n",
       "      <td>These superbreathable no-fly briefs are the mi...</td>\n",
       "    </tr>\n",
       "    <tr>\n",
       "      <th>3</th>\n",
       "      <td>4.0</td>\n",
       "      <td>Alpine guide pants</td>\n",
       "      <td>Skin in, climb ice, switch to rock, traverse a...</td>\n",
       "    </tr>\n",
       "    <tr>\n",
       "      <th>4</th>\n",
       "      <td>5.0</td>\n",
       "      <td>Alpine wind jkt</td>\n",
       "      <td>On high ridges, steep ice and anything alpine,...</td>\n",
       "    </tr>\n",
       "    <tr>\n",
       "      <th>...</th>\n",
       "      <td>...</td>\n",
       "      <td>...</td>\n",
       "      <td>...</td>\n",
       "    </tr>\n",
       "    <tr>\n",
       "      <th>495</th>\n",
       "      <td>496.0</td>\n",
       "      <td>Cap 2 bottoms</td>\n",
       "      <td>Cut loose from the maddening crowds and search...</td>\n",
       "    </tr>\n",
       "    <tr>\n",
       "      <th>496</th>\n",
       "      <td>497.0</td>\n",
       "      <td>Cap 2 crew</td>\n",
       "      <td>This crew takes the edge off fickle weather. I...</td>\n",
       "    </tr>\n",
       "    <tr>\n",
       "      <th>497</th>\n",
       "      <td>498.0</td>\n",
       "      <td>All-time shell</td>\n",
       "      <td>No need to use that morning Times as an umbrel...</td>\n",
       "    </tr>\n",
       "    <tr>\n",
       "      <th>498</th>\n",
       "      <td>499.0</td>\n",
       "      <td>All-wear cargo shorts</td>\n",
       "      <td>All-Wear Cargo Shorts bask in the glory of swe...</td>\n",
       "    </tr>\n",
       "    <tr>\n",
       "      <th>499</th>\n",
       "      <td>500.0</td>\n",
       "      <td>All-wear shorts</td>\n",
       "      <td>Time to simplify? Our All-Wear shorts prove th...</td>\n",
       "    </tr>\n",
       "  </tbody>\n",
       "</table>\n",
       "<p>500 rows × 3 columns</p>\n",
       "</div>"
      ],
      "text/plain": [
       "        id                    product  \\\n",
       "0      1.0      Active classic boxers   \n",
       "1      2.0  Active sport boxer briefs   \n",
       "2      3.0        Active sport briefs   \n",
       "3      4.0         Alpine guide pants   \n",
       "4      5.0            Alpine wind jkt   \n",
       "..     ...                        ...   \n",
       "495  496.0              Cap 2 bottoms   \n",
       "496  497.0                 Cap 2 crew   \n",
       "497  498.0             All-time shell   \n",
       "498  499.0      All-wear cargo shorts   \n",
       "499  500.0            All-wear shorts   \n",
       "\n",
       "                                           description  \n",
       "0    There's a reason why our boxers are a cult fav...  \n",
       "1    Skinning up Glory requires enough movement wit...  \n",
       "2    These superbreathable no-fly briefs are the mi...  \n",
       "3    Skin in, climb ice, switch to rock, traverse a...  \n",
       "4    On high ridges, steep ice and anything alpine,...  \n",
       "..                                                 ...  \n",
       "495  Cut loose from the maddening crowds and search...  \n",
       "496  This crew takes the edge off fickle weather. I...  \n",
       "497  No need to use that morning Times as an umbrel...  \n",
       "498  All-Wear Cargo Shorts bask in the glory of swe...  \n",
       "499  Time to simplify? Our All-Wear shorts prove th...  \n",
       "\n",
       "[500 rows x 3 columns]"
      ]
     },
     "execution_count": 5,
     "metadata": {},
     "output_type": "execute_result"
    }
   ],
   "source": [
    "#removing NaN values from the dataset.\n",
    "print(1128)\n",
    "df.dropna(inplace=True)\n",
    "df"
   ]
  },
  {
   "cell_type": "code",
   "execution_count": 6,
   "id": "f304ba80-8545-4585-9cf6-2e2e62a37fa9",
   "metadata": {},
   "outputs": [
    {
     "data": {
      "text/plain": [
       "Index(['id', 'product', 'description'], dtype='object')"
      ]
     },
     "execution_count": 6,
     "metadata": {},
     "output_type": "execute_result"
    }
   ],
   "source": [
    "df.columns"
   ]
  },
  {
   "cell_type": "code",
   "execution_count": 7,
   "id": "6d8ec749-405b-4a6e-9d83-903d99f50ef8",
   "metadata": {},
   "outputs": [
    {
     "name": "stdout",
     "output_type": "stream",
     "text": [
      "1128\n",
      "TF IDF Matrix:   (0, 2550)\t0.10398386495339977\n",
      "  (0, 294)\t0.16071014411893011\n",
      "  (0, 4478)\t0.026691279623776477\n",
      "  (0, 1804)\t0.08733693134440922\n",
      "  (0, 1057)\t0.09201923404633659\n",
      "  (0, 2741)\t0.08577597087914687\n",
      "  (0, 2665)\t0.08843160800635147\n",
      "  (0, 1836)\t0.09471579837759175\n",
      "  (0, 979)\t0.06091036994464541\n",
      "  (0, 1433)\t0.0734929307585737\n",
      "  (0, 1379)\t0.0644741003780651\n",
      "  (0, 703)\t0.06492701570977669\n",
      "  (0, 4256)\t0.11673739714671233\n",
      "  (0, 1569)\t0.05253687697191237\n",
      "  (0, 793)\t0.08957389399439541\n",
      "  (0, 3570)\t0.10959412306927277\n",
      "  (0, 2356)\t0.2101475078876495\n",
      "  (0, 4251)\t0.05253687697191237\n",
      "  (0, 1266)\t0.026268438485956187\n",
      "  (0, 695)\t0.2101475078876495\n",
      "  (0, 3052)\t0.07093203632068933\n",
      "  (0, 3178)\t0.07093203632068933\n",
      "  (0, 4077)\t0.07093203632068933\n",
      "  (0, 989)\t0.07093203632068933\n",
      "  (0, 3176)\t0.07093203632068933\n",
      "  :\t:\n",
      "  (499, 4315)\t0.10777030548461138\n",
      "  (499, 4099)\t0.09192482716078833\n",
      "  (499, 2979)\t0.2243765958317256\n",
      "  (499, 1391)\t0.1007954104508571\n",
      "  (499, 1672)\t0.07744459615973451\n",
      "  (499, 3690)\t0.0486578839623734\n",
      "  (499, 4478)\t0.027391812019129633\n",
      "  (499, 1804)\t0.08962915376985607\n",
      "  (499, 1569)\t0.026957873102585114\n",
      "  (499, 2356)\t0.3774102234361916\n",
      "  (499, 4251)\t0.05391574620517023\n",
      "  (499, 1266)\t0.026957873102585114\n",
      "  (499, 695)\t0.21566298482068091\n",
      "  (499, 3052)\t0.07279370013042086\n",
      "  (499, 3178)\t0.07279370013042086\n",
      "  (499, 4077)\t0.07279370013042086\n",
      "  (499, 989)\t0.07279370013042086\n",
      "  (499, 3176)\t0.07279370013042086\n",
      "  (499, 3595)\t0.07094338003490643\n",
      "  (499, 2155)\t0.1392038311496402\n",
      "  (499, 3)\t0.0817450340489487\n",
      "  (499, 2811)\t0.05478362403825927\n",
      "  (499, 1714)\t0.07235510954312023\n",
      "  (499, 1655)\t0.05722767997477116\n",
      "  (499, 2370)\t0.05625319291837664\n"
     ]
    }
   ],
   "source": [
    "# c. Perform feature extraction using Term Frequency Inverse Document Frequency (TF-\n",
    "#IDF).\n",
    "print(1128)\n",
    "indices = pd.Series(df.index, index=df['product']).drop_duplicates()\n",
    "content = df['description'].fillna('')\n",
    "\n",
    "tfidf = TfidfVectorizer(stop_words='english')\n",
    "tfidf_matrix = tfidf.fit_transform(content)\n",
    "print(\"TF IDF Matrix:\",tfidf_matrix)"
   ]
  },
  {
   "cell_type": "code",
   "execution_count": 8,
   "id": "c62e115a-8a96-4083-9127-0fb6c405894a",
   "metadata": {},
   "outputs": [
    {
     "name": "stdout",
     "output_type": "stream",
     "text": [
      "1128\n",
      "[[1.         0.279554   0.19517104 ... 0.15671646 0.18352571 0.21493076]\n",
      " [0.279554   1.         0.54659561 ... 0.12053582 0.22053005 0.19737709]\n",
      " [0.19517104 0.54659561 1.         ... 0.1051828  0.12856782 0.15275201]\n",
      " ...\n",
      " [0.15671646 0.12053582 0.1051828  ... 1.         0.11754784 0.14264239]\n",
      " [0.18352571 0.22053005 0.12856782 ... 0.11754784 1.         0.57147933]\n",
      " [0.21493076 0.19737709 0.15275201 ... 0.14264239 0.57147933 1.        ]]\n"
     ]
    }
   ],
   "source": [
    "# d. Compute the cosine similarity.\n",
    "print(1128)\n",
    "cosine_similarities = linear_kernel(tfidf_matrix, tfidf_matrix)\n",
    "print(cosine_similarities)"
   ]
  },
  {
   "cell_type": "code",
   "execution_count": 9,
   "id": "a55ef180-9fe3-4901-b1f8-a6c60b5baf3c",
   "metadata": {},
   "outputs": [
    {
     "name": "stdout",
     "output_type": "stream",
     "text": [
      "1128\n"
     ]
    },
    {
     "name": "stdin",
     "output_type": "stream",
     "text": [
      "Enter the no.of suggetions: 2\n"
     ]
    }
   ],
   "source": [
    "# e. Display the top 'n' suggestions with the similarity score for the given user input.\n",
    "print(1128)\n",
    "def get_recommendations(df, column, value, cosine_similarities, n):\n",
    "\n",
    "    \n",
    "    # Return indices for the target dataframe column and drop any duplicates\n",
    "    indices = pd.Series(df.index, index=df[column]).drop_duplicates()\n",
    "\n",
    "    # Get the index for the target value\n",
    "    target_index = indices[value]\n",
    "\n",
    "    # Get the cosine similarity scores for the target value\n",
    "    cosine_similarity_scores = list(enumerate(cosine_similarities[target_index]))\n",
    "\n",
    "    # Sort the cosine similarities in order of closest similarity\n",
    "    cosine_similarity_scores = sorted(cosine_similarity_scores, key=lambda x: x[1], reverse=True)\n",
    "\n",
    "    # Return tuple of the requested closest scores excluding the target item and index\n",
    "    cosine_similarity_scores = cosine_similarity_scores[1:n+1]\n",
    "\n",
    "    # Extract the tuple values\n",
    "    index = (x[0] for x in cosine_similarity_scores)\n",
    "    scores = (x[1] for x in cosine_similarity_scores)    \n",
    "\n",
    "    # Get the indices for the closest items\n",
    "    recommendation_indices = [i[0] for i in cosine_similarity_scores]\n",
    "\n",
    "    # Get the actutal recommendations\n",
    "    recommendations = df[column].iloc[recommendation_indices]\n",
    "\n",
    "    # Return a dataframe\n",
    "    df = pd.DataFrame(list(zip(index, recommendations, scores)), \n",
    "                      columns=['index','recommendation', 'cosine_similarity_score']) \n",
    "\n",
    "    return df\n",
    "\n",
    "n = int(input(\"Enter the no.of suggetions:\"))\n",
    "recommendations = get_recommendations(df, \n",
    "                                      'product', \n",
    "                                      'Flying fish t-shirt', \n",
    "                                      cosine_similarities,n)"
   ]
  },
  {
   "cell_type": "code",
   "execution_count": 10,
   "id": "c09a68ef-9016-4676-be90-b6f6d2fc0e17",
   "metadata": {},
   "outputs": [
    {
     "name": "stdout",
     "output_type": "stream",
     "text": [
      "1128\n"
     ]
    },
    {
     "data": {
      "text/html": [
       "<div>\n",
       "<style scoped>\n",
       "    .dataframe tbody tr th:only-of-type {\n",
       "        vertical-align: middle;\n",
       "    }\n",
       "\n",
       "    .dataframe tbody tr th {\n",
       "        vertical-align: top;\n",
       "    }\n",
       "\n",
       "    .dataframe thead th {\n",
       "        text-align: right;\n",
       "    }\n",
       "</style>\n",
       "<table border=\"1\" class=\"dataframe\">\n",
       "  <thead>\n",
       "    <tr style=\"text-align: right;\">\n",
       "      <th></th>\n",
       "      <th>index</th>\n",
       "      <th>recommendation</th>\n",
       "      <th>cosine_similarity_score</th>\n",
       "    </tr>\n",
       "  </thead>\n",
       "  <tbody>\n",
       "    <tr>\n",
       "      <th>0</th>\n",
       "      <td>57</td>\n",
       "      <td>'73 logo t-shirt</td>\n",
       "      <td>0.911366</td>\n",
       "    </tr>\n",
       "    <tr>\n",
       "      <th>1</th>\n",
       "      <td>63</td>\n",
       "      <td>Gpiw classic t-shirt</td>\n",
       "      <td>0.892282</td>\n",
       "    </tr>\n",
       "  </tbody>\n",
       "</table>\n",
       "</div>"
      ],
      "text/plain": [
       "   index        recommendation  cosine_similarity_score\n",
       "0     57      '73 logo t-shirt                 0.911366\n",
       "1     63  Gpiw classic t-shirt                 0.892282"
      ]
     },
     "execution_count": 10,
     "metadata": {},
     "output_type": "execute_result"
    }
   ],
   "source": [
    "print(1128)\n",
    "recommendations.head(10)"
   ]
  },
  {
   "cell_type": "code",
   "execution_count": null,
   "id": "4ce1ea84-2454-4dc6-8976-891cd65b11bc",
   "metadata": {},
   "outputs": [],
   "source": [
    "RESULT:\n",
    "    The E-commerce item recommender system with content-based recommendation\n",
    "using scikit-learn methods has been developed and the output is displayed successfully."
   ]
  }
 ],
 "metadata": {
  "kernelspec": {
   "display_name": "Python 3 (ipykernel)",
   "language": "python",
   "name": "python3"
  },
  "language_info": {
   "codemirror_mode": {
    "name": "ipython",
    "version": 3
   },
   "file_extension": ".py",
   "mimetype": "text/x-python",
   "name": "python",
   "nbconvert_exporter": "python",
   "pygments_lexer": "ipython3",
   "version": "3.9.15"
  }
 },
 "nbformat": 4,
 "nbformat_minor": 5
}

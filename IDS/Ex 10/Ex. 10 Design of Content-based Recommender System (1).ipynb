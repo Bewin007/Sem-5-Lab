{
 "cells": [
  {
   "cell_type": "code",
   "execution_count": null,
   "id": "5fe41715-1532-48b4-8b7a-771c65a6c6ac",
   "metadata": {},
   "outputs": [],
   "source": [
    "20CS2031L-Introduction to Data Science Lab"
   ]
  },
  {
   "cell_type": "code",
   "execution_count": null,
   "id": "56ff08f8-f560-409a-a74a-40027df7ba84",
   "metadata": {},
   "outputs": [],
   "source": [
    "URK21CS1128"
   ]
  },
  {
   "cell_type": "code",
   "execution_count": null,
   "id": "fd385da4-2b76-4b16-b95d-b0e45b6bc6ac",
   "metadata": {},
   "outputs": [],
   "source": [
    "EXPERIMENT 10- Design of Content-based Recommender System\n",
    "06-11-2023"
   ]
  },
  {
   "cell_type": "code",
   "execution_count": null,
   "id": "b5c5fc03-30c1-4e56-a0d8-eb9474bec319",
   "metadata": {},
   "outputs": [],
   "source": [
    "Aim:\n",
    "    To Develop an E-commerce item recommender system with content-based recommendation \n",
    "    system using the Term-Frequency Inverse Document Frequency (TF IDF) and cosine similarity."
   ]
  },
  {
   "cell_type": "code",
   "execution_count": null,
   "id": "dbb19b8c-83b9-443c-aa39-697239735ae8",
   "metadata": {},
   "outputs": [],
   "source": [
    "Description:\n",
    "    \n",
    "A recommendation system, often referred to as a recommender system, is a type of\n",
    "software or algorithm that provides personalized suggestions to users. These\n",
    "suggestions can be for products, services, content, or items of interest based on\n",
    "a user's past behavior, preferences, or the behavior of similar users.\n",
    "\n",
    "Recommendation systems are widely used in various domains, including e-commerce,\n",
    "content streaming, social media, and more, to enhance user experience and engagement.\n",
    "\n",
    "A search engine is a software application or online service that helps users find\n",
    "information on the internet or within a specific dataset. It works by indexing and\n",
    "cataloging vast amounts of web content and providing users with a way to search for\n",
    "and access relevant information quickly.\n",
    "\n",
    "Term Frequency-Inverse Document Frequency, commonly abbreviated as TF-IDF, is a\n",
    "numerical statistic used in information retrieval and text mining to evaluate\n",
    "the importance of a word in a document relative to a collection of documents\n",
    "(corpus). TF-IDF is a technique that combines two key components:\n",
    "\n",
    "Term Frequency (TF):\n",
    "\n",
    "Term Frequency measures how frequently a term (word or phrase) appears in a\n",
    "document. It is calculated as the number of times a term occurs in a document\n",
    "divided by the total number of terms in the document. The idea is to give higher\n",
    "weight to terms that appear more frequently within a document.\n",
    "\n",
    "Inverse Document Frequency (IDF):\n",
    "\n",
    "Inverse Document Frequency calculates the importance of a term across a collection\n",
    "of documents. It is used to downweight common terms that appear in many documents\n",
    "and give higher weight to rare terms.\n",
    "\n",
    "The TF-IDF score for a term in a document combines both the TF and IDF components\n",
    "to determine how important the term is in that particular document within the\n",
    "context of the entire corpus. It is calculated as follows:\n",
    "TF-IDF(t, d, corpus) = TF(t, d) * IDF(t, corpus)\n",
    "# from sklearn.feature_extraction.text import TfidfVectorizer\n",
    "# tfidf = TfidfVectorizer(stop_words='english')\n",
    "# tfidf_matrix = tfidf.fit_transform(content)\n",
    "\n",
    "Cosine similarity\n",
    "\n",
    "Cosine similarity measures the similarity between two vectors. Since TF-IDF returns\n",
    "vectors showing the score a document gets versus the corpus, we can use cosine\n",
    "similarity to identify the closest matches after we’ve used TF-IDF to generate the\n",
    "vectors.\n",
    "# from sklearn.metrics.pairwise import cosine_similarity\n",
    "# from sklearn.metrics.pairwise import linear_kernel"
   ]
  },
  {
   "cell_type": "markdown",
   "id": "c18229de-bcdd-4d91-9a55-ee970d7b55e9",
   "metadata": {},
   "source": [
    "2. Develop an E-commerce item recommender system with content-based recommendation\n",
    "using the scikit-learn"
   ]
  },
  {
   "cell_type": "code",
   "execution_count": 4,
   "id": "e1e4461a-073c-4101-be27-7e3a01f265d8",
   "metadata": {},
   "outputs": [
    {
     "name": "stdout",
     "output_type": "stream",
     "text": [
      "1128\n"
     ]
    },
    {
     "name": "stdin",
     "output_type": "stream",
     "text": [
      "Enter a product name or exit:  Bucket hat\n"
     ]
    },
    {
     "name": "stdout",
     "output_type": "stream",
     "text": [
      "Recommendation 1: Baby sun bucket hat (Similarity Score: 0.7330\n",
      "Recommendation 2: Beach bucket (Similarity Score: 0.5094\n",
      "Recommendation 3: Logo hat (Similarity Score: 0.4887\n",
      "Recommendation 4: Trucker hat (Similarity Score: 0.4506\n",
      "Recommendation 5: Trucker hat (Similarity Score: 0.4506\n"
     ]
    },
    {
     "name": "stdin",
     "output_type": "stream",
     "text": [
      "Enter a product name or exit:  Cap 1 bottoms\n"
     ]
    },
    {
     "name": "stdout",
     "output_type": "stream",
     "text": [
      "Recommendation 1: Cap 4 bottoms (Similarity Score: 1.0000\n",
      "Recommendation 2: Cap 3 bottoms (Similarity Score: 1.0000\n",
      "Recommendation 3: Cap 1 bottoms (Similarity Score: 1.0000\n",
      "Recommendation 4: Cap 2 bottoms (Similarity Score: 1.0000\n",
      "Recommendation 5: Cap 4 bottoms (Similarity Score: 1.0000\n"
     ]
    },
    {
     "name": "stdin",
     "output_type": "stream",
     "text": [
      "Enter a product name or exit:  exit\n"
     ]
    }
   ],
   "source": [
    "import pandas as pd\n",
    "from sklearn.feature_extraction.text import TfidfVectorizer\n",
    "from sklearn.metrics.pairwise import linear_kernel\n",
    "from sklearn.metrics.pairwise import cosine_similarity\n",
    "\n",
    "#a Loading the dataset\n",
    "data = pd.read_csv('shop_details.csv')\n",
    "\n",
    "#b Remove leading and trailing whitespaces from the 'product' column\n",
    "data['product'] = data['product'].str.strip()\n",
    "\n",
    "# Handle missing values by replacing them with an empty string\n",
    "data['product'].fillna('', inplace=True)\n",
    "\n",
    "# Create a TF-IDF vectorizer\n",
    "tfidf_vectorizer = TfidfVectorizer(stop_words='english')\n",
    "\n",
    "#c Perform feature extraction using Term Frequency Inverse Document Frequency (TF-IDF).\n",
    "tfidf_matrix = tfidf_vectorizer.fit_transform(data['product'])\n",
    "\n",
    "# Compute the cosine similarity.\n",
    "cosine_sim = cosine_similarity(tfidf_matrix, tfidf_matrix)\n",
    "\n",
    "def get_recommendations(product_name, n):\n",
    "    if product_name not in data['product'].values:\n",
    "        return [], []\n",
    "    \n",
    "    idx = data[data['product'] == product_name].index[0]\n",
    "    sim_scores = list(enumerate(cosine_sim[idx]))\n",
    "    sim_scores = sorted(sim_scores, key=lambda x: x[1], reverse=True)\n",
    "    top_n_recommendations = sim_scores[1:n+1]\n",
    "    product_indices = [rec[0] for rec in top_n_recommendations]\n",
    "    similarity_scores = [rec[1] for rec in top_n_recommendations]\n",
    "    recommended_products = data['product'].iloc[product_indices].values\n",
    "    return recommended_products, similarity_scores\n",
    "\n",
    "#e Display the top 'n' suggestions with the similarity score for the given user input.\n",
    "print(1128)\n",
    "while True:\n",
    "    user_input = input(\"Enter a product name or exit: \")\n",
    "    if user_input.lower() == 'exit':\n",
    "        break\n",
    "\n",
    "    num_recommendations = 5\n",
    "\n",
    "    recommendations, scores = get_recommendations(user_input, num_recommendations)\n",
    "\n",
    "    if recommendations.size == 0:  # Check if the array is empty\n",
    "        print(\"Product not found in the dataset.\")\n",
    "    else:\n",
    "        for i in range(len(recommendations)):\n",
    "            print(f\"Recommendation {i + 1}: {recommendations[i]} (Similarity Score: {scores[i]:.4f}\")\n"
   ]
  },
  {
   "cell_type": "code",
   "execution_count": 3,
   "id": "290bd633-f226-4686-b7cc-f9cad17b7f57",
   "metadata": {},
   "outputs": [
    {
     "ename": "SyntaxError",
     "evalue": "invalid syntax (2123018153.py, line 1)",
     "output_type": "error",
     "traceback": [
      "\u001b[0;36m  Cell \u001b[0;32mIn[3], line 1\u001b[0;36m\u001b[0m\n\u001b[0;31m    Result:\u001b[0m\n\u001b[0m           ^\u001b[0m\n\u001b[0;31mSyntaxError\u001b[0m\u001b[0;31m:\u001b[0m invalid syntax\n"
     ]
    }
   ],
   "source": [
    "Result:\n",
    "    The E-commerce item recommender system with content-based recommendation\n",
    "    using scikit-learn methods has been developed and the output is displayed\n",
    "    successfully."
   ]
  },
  {
   "cell_type": "code",
   "execution_count": null,
   "id": "e614090d-e5a3-4cfb-97f9-8b91c55eb8ca",
   "metadata": {},
   "outputs": [],
   "source": []
  }
 ],
 "metadata": {
  "kernelspec": {
   "display_name": "Python 3 (ipykernel)",
   "language": "python",
   "name": "python3"
  },
  "language_info": {
   "codemirror_mode": {
    "name": "ipython",
    "version": 3
   },
   "file_extension": ".py",
   "mimetype": "text/x-python",
   "name": "python",
   "nbconvert_exporter": "python",
   "pygments_lexer": "ipython3",
   "version": "3.9.15"
  }
 },
 "nbformat": 4,
 "nbformat_minor": 5
}

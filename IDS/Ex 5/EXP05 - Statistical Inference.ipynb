{
 "cells": [
  {
   "cell_type": "markdown",
   "id": "902b2224-bfd6-4974-b06e-26fce0288b89",
   "metadata": {},
   "source": [
    "Exp_No: 05"
   ]
  },
  {
   "cell_type": "markdown",
   "id": "a7044b45-bfbf-427f-bd55-31a78283480a",
   "metadata": {},
   "source": [
    "Reg No.: URK21CS1128"
   ]
  },
  {
   "cell_type": "markdown",
   "id": "723fc5eb-8c3f-4766-8483-3be19a07a98f",
   "metadata": {},
   "source": [
    "Bewin Felix R A"
   ]
  },
  {
   "cell_type": "markdown",
   "id": "30ad7bf3",
   "metadata": {},
   "source": [
    "Aim:"
   ]
  },
  {
   "cell_type": "markdown",
   "id": "de9f9d1e",
   "metadata": {},
   "source": [
    "To demonstrate the statistical interferences used for data science application using\n",
    "python language."
   ]
  },
  {
   "cell_type": "markdown",
   "id": "a3945bf6",
   "metadata": {},
   "source": [
    "Description:"
   ]
  },
  {
   "cell_type": "markdown",
   "id": "6f90c913",
   "metadata": {},
   "source": [
    "Inferential statistics are used to draw inferences from the sample of a huge data set. Random samples of data are taken from a population, which are then used to describe and make inferences and predictions about the population."
   ]
  },
  {
   "cell_type": "markdown",
   "id": "868ef5d6",
   "metadata": {},
   "source": [
    "Sample Mean and Population Mean:"
   ]
  },
  {
   "cell_type": "markdown",
   "id": "d0e1393c",
   "metadata": {},
   "source": [
    "Sample mean is the arithmetic mean of random sample values drawn from the population. Population mean represents the actual mean of the whole population. If the sample is random and sample size is large then the sample mean would be a good estimate of\n",
    "the population mean."
   ]
  },
  {
   "cell_type": "markdown",
   "id": "b8ef40af",
   "metadata": {},
   "source": [
    "Correlation Coefficient:"
   ]
  },
  {
   "cell_type": "markdown",
   "id": "6c394ec7",
   "metadata": {},
   "source": [
    "The correlation coefficient quantifies the relationship between the two variables. There are two methods of calculating the Correlation Coefficient and its matrix – Pearson and Spearman."
   ]
  },
  {
   "cell_type": "markdown",
   "id": "f4dd5286",
   "metadata": {},
   "source": [
    "Covariance Matrix:"
   ]
  },
  {
   "cell_type": "markdown",
   "id": "da4c9d15",
   "metadata": {},
   "source": [
    "It is a square matrix giving the covariance between each pair of elements of a given random\n",
    "vector."
   ]
  },
  {
   "cell_type": "markdown",
   "id": "e023f4d1",
   "metadata": {},
   "source": [
    "Hypothesis Testing using Z Test:"
   ]
  },
  {
   "cell_type": "markdown",
   "id": "c06ba403",
   "metadata": {},
   "source": [
    "Hypothesis testing is a statistical method that is used in making statistical decisions using experimental data. One of the ways to perform hypothesis testing is Z-test, where the Two-sample Z-test is used to test whether the two datasets are similar or not. Also, Z-test is used when the sample size is greater than 30."
   ]
  },
  {
   "cell_type": "markdown",
   "id": "005bc7c2",
   "metadata": {},
   "source": [
    "Confidence Interval:"
   ]
  },
  {
   "cell_type": "markdown",
   "id": "3f7311f3",
   "metadata": {},
   "source": [
    "A confidence interval displays the probability that a parameter will fall between a pair of values around the mean. Confidence intervals measure the degree of uncertainty or certainty in a sampling method. They are most often constructed using confidence levels of 95% or 99%."
   ]
  },
  {
   "cell_type": "code",
   "execution_count": 13,
   "id": "22942075",
   "metadata": {},
   "outputs": [],
   "source": [
    "import pandas as pd\n",
    "import matplotlib.pyplot as plt\n",
    "import numpy as np\n",
    "import scipy.stats as stats\n",
    "import math"
   ]
  },
  {
   "cell_type": "code",
   "execution_count": 34,
   "id": "d5a6a5b2",
   "metadata": {},
   "outputs": [
    {
     "name": "stdout",
     "output_type": "stream",
     "text": [
      "URK21CS1128\n",
      "(3000, 17)\n"
     ]
    }
   ],
   "source": [
    "print('URK21CS1128')\n",
    "path = \"supermarket.csv\"\n",
    "df = pd.read_csv(path) #read the csv file\n",
    "print(df.shape) #3000 - population"
   ]
  },
  {
   "cell_type": "code",
   "execution_count": 15,
   "id": "4f1e97b8-b783-4f22-b9c4-96f053517d1d",
   "metadata": {},
   "outputs": [],
   "source": [
    "# Lets take seed so that everytime the random values come out to be constant\n",
    "np.random.seed(6)"
   ]
  },
  {
   "cell_type": "code",
   "execution_count": 16,
   "id": "7de9d7b8",
   "metadata": {},
   "outputs": [
    {
     "name": "stdout",
     "output_type": "stream",
     "text": [
      "URK21CS1128\n",
      "The Mean of the sample data of Unit price for 500 : 55.11994\n"
     ]
    }
   ],
   "source": [
    "#1. Calculate the sample mean for ‘Unit price’ column with n=500 and observe\n",
    "print('URK21CS1128')\n",
    "s1 = 500\n",
    "sample_1 = np.random.choice(a = df['Unit price'] , size = s1)\n",
    "m_sample_1 = sample_1.mean();\n",
    "print(\"The Mean of the sample data of Unit price for 500 :\", m_sample_1)"
   ]
  },
  {
   "cell_type": "code",
   "execution_count": 17,
   "id": "ec7d1c5a",
   "metadata": {},
   "outputs": [
    {
     "name": "stdout",
     "output_type": "stream",
     "text": [
      "URK21CS1128\n",
      "The Mean of the sample data of Unit price for 1000 : 56.03247999999999\n"
     ]
    }
   ],
   "source": [
    "#2. Calculate the sample mean for ‘Unit price’ column with n=1000 and observe\n",
    "print('URK21CS1128')\n",
    "s2 = 1000\n",
    "\n",
    "sample_2 = np.random.choice(a = df['Unit price'] , size = s2)\n",
    "m_sample_2 = sample_2.mean();\n",
    "print(\"The Mean of the sample data of Unit price for 1000 :\", m_sample_2 )"
   ]
  },
  {
   "cell_type": "code",
   "execution_count": 18,
   "id": "bfa817a8",
   "metadata": {},
   "outputs": [
    {
     "name": "stdout",
     "output_type": "stream",
     "text": [
      "URK21CS1128\n",
      "The Mean of the population data of Unit price : 55.67213\n"
     ]
    }
   ],
   "source": [
    "#3. Calculate the population mean for ‘Unit price’ column\n",
    "print('URK21CS1128')\n",
    "pm = df['Unit price'].mean()\n",
    "print(\"The Mean of the population data of Unit price :\", pm)"
   ]
  },
  {
   "cell_type": "code",
   "execution_count": 19,
   "id": "9a134dc9",
   "metadata": {},
   "outputs": [
    {
     "name": "stdout",
     "output_type": "stream",
     "text": [
      "URK21CS1128\n",
      "Sample mean of 500 samples: 55.11994\n",
      "Sample SD of 500 samples: 26.150292078605926\n",
      "Z-score: 1.96\n",
      "Confidence Level 52.827765835805906 57.412114164194094\n",
      "[ 52.827765835805906 55.67213 57.412114164194094 ]\n"
     ]
    }
   ],
   "source": [
    "#4. Calculate the confidence interval (CI) with sample mean for ‘Unit price’ column of n=500 and confidence level of 95%. Observe whether the population mean lies in CI.\n",
    "print('URK21CS1128')\n",
    "print( \"Sample mean of 500 samples:\", m_sample_1)\n",
    "\n",
    "SD = sample_1.std()\n",
    "print(\"Sample SD of 500 samples:\", SD)\n",
    "\n",
    "CL=0.95\n",
    "alpha=(1-CL)/2\n",
    "z_critical = round(stats.norm.ppf(1-alpha),2)\n",
    "print(\"Z-score:\", z_critical)\n",
    "\n",
    "er=z_critical*(SD/math.sqrt(s1))\n",
    "L=m_sample_1-er\n",
    "H=m_sample_1+er\n",
    "\n",
    "print(\"Confidence Level\", L, H)\n",
    "print(\"[\",L,pm,H,\"]\")"
   ]
  },
  {
   "cell_type": "code",
   "execution_count": 20,
   "id": "1e846053",
   "metadata": {},
   "outputs": [
    {
     "name": "stdout",
     "output_type": "stream",
     "text": [
      "URK21CS1128\n",
      "Sample mean of 500 samples: 55.11994\n",
      "Sample SD of 500 samples: 26.150292078605926\n",
      "Z-score: 1.64\n",
      "Confidence Level 53.20199835240902 57.03788164759098\n",
      "[ 53.20199835240902 55.67213 57.03788164759098 ]\n"
     ]
    }
   ],
   "source": [
    "#5. Change the confidence level to 99% and observe the confidence interval for the same sample mean for ‘Unit price’ column of n=500.\n",
    "print('URK21CS1128')\n",
    "print( \"Sample mean of 500 samples:\", m_sample_1)\n",
    "\n",
    "SD = sample_1.std()\n",
    "print(\"Sample SD of 500 samples:\", SD)\n",
    "\n",
    "CL=0.9\n",
    "alpha=(1-CL)/2\n",
    "z_critical = round(stats.norm.ppf(1-alpha),2)\n",
    "print(\"Z-score:\", z_critical)\n",
    "\n",
    "er=z_critical*(SD/math.sqrt(s1))\n",
    "L=m_sample_1-er\n",
    "H=m_sample_1+er\n",
    "\n",
    "print(\"Confidence Level\", L, H)\n",
    "print(\"[\",L,pm,H,\"]\")"
   ]
  },
  {
   "cell_type": "code",
   "execution_count": 35,
   "id": "9808996c",
   "metadata": {},
   "outputs": [
    {
     "name": "stdout",
     "output_type": "stream",
     "text": [
      "URK21CS1128\n",
      "[56.262339999999995, 53.840920000000004, 55.37760000000001, 56.20538, 56.338860000000004, 55.26624, 55.78316, 57.87631999999999, 55.531180000000006, 56.09314, 55.38618, 54.94725999999999, 54.79228, 56.21382, 55.398300000000006, 56.891119999999994, 55.113839999999996, 53.622260000000004, 56.902440000000006, 56.5573, 54.9411, 53.122699999999995, 54.938840000000006, 54.75488000000001, 55.110699999999994]\n",
      "55.67213\n",
      "[(54.34959141456559, 58.1750885854344), (51.98789617172606, 55.69394382827395), (53.408255464351384, 57.34694453564863), (54.277625356878865, 58.13313464312113), (54.44579980285873, 58.23192019714128), (53.36075274861317, 57.171727251386834), (53.840521208150435, 57.72579879184957), (55.91333621616036, 59.839303783839625), (53.61959061399828, 57.442769386001736), (54.17653500254634, 58.00974499745366), (53.50070610493708, 57.271653895062926), (53.07762113601136, 56.81689886398863), (52.86297994712205, 56.72158005287795), (54.20915366202474, 58.21848633797526), (53.493806588321355, 57.30279341167866), (54.942762936979804, 58.83947706302018), (53.133054827704086, 57.094625172295906), (51.70899530226765, 55.535524697732356), (54.98836946081282, 58.81651053918719), (54.663622911404616, 58.45097708859538), (53.014528416474825, 56.86767158352517), (51.18324781631504, 55.06215218368495), (53.038358586861584, 56.83932141313843), (52.78397104250662, 56.72578895749339), (53.20330456133676, 57.01809543866323)]\n"
     ]
    },
    {
     "ename": "ValueError",
     "evalue": "'yerr' must not contain negative values",
     "output_type": "error",
     "traceback": [
      "\u001b[0;31m---------------------------------------------------------------------------\u001b[0m",
      "\u001b[0;31mValueError\u001b[0m                                Traceback (most recent call last)",
      "Cell \u001b[0;32mIn[35], line 28\u001b[0m\n\u001b[1;32m     25\u001b[0m \u001b[38;5;28mprint\u001b[39m(pm)\n\u001b[1;32m     26\u001b[0m \u001b[38;5;28mprint\u001b[39m(intervals)\n\u001b[0;32m---> 28\u001b[0m \u001b[43mplt\u001b[49m\u001b[38;5;241;43m.\u001b[39;49m\u001b[43merrorbar\u001b[49m\u001b[43m(\u001b[49m\u001b[43mx\u001b[49m\u001b[43m \u001b[49m\u001b[38;5;241;43m=\u001b[39;49m\u001b[43m \u001b[49m\u001b[43mnp\u001b[49m\u001b[38;5;241;43m.\u001b[39;49m\u001b[43marange\u001b[49m\u001b[43m(\u001b[49m\u001b[38;5;241;43m0.1\u001b[39;49m\u001b[43m,\u001b[49m\u001b[43m \u001b[49m\u001b[38;5;241;43m25\u001b[39;49m\u001b[43m,\u001b[49m\u001b[43m \u001b[49m\u001b[38;5;241;43m1\u001b[39;49m\u001b[43m)\u001b[49m\u001b[43m,\u001b[49m\n\u001b[1;32m     29\u001b[0m \u001b[43m             \u001b[49m\u001b[43my\u001b[49m\u001b[43m \u001b[49m\u001b[38;5;241;43m=\u001b[39;49m\u001b[43m \u001b[49m\u001b[43msample_means\u001b[49m\u001b[43m,\u001b[49m\n\u001b[1;32m     30\u001b[0m \u001b[43m             \u001b[49m\u001b[43myerr\u001b[49m\u001b[43m \u001b[49m\u001b[38;5;241;43m=\u001b[39;49m\u001b[43m \u001b[49m\u001b[43m[\u001b[49m\u001b[43m(\u001b[49m\u001b[43mtop\u001b[49m\u001b[38;5;241;43m-\u001b[39;49m\u001b[43mbot\u001b[49m\u001b[43m)\u001b[49m\u001b[38;5;241;43m/\u001b[39;49m\u001b[38;5;241;43m2\u001b[39;49m\u001b[43m \u001b[49m\u001b[38;5;28;43;01mfor\u001b[39;49;00m\u001b[43m \u001b[49m\u001b[43mtop\u001b[49m\u001b[43m,\u001b[49m\u001b[43mbot\u001b[49m\u001b[43m \u001b[49m\u001b[38;5;129;43;01min\u001b[39;49;00m\u001b[43m \u001b[49m\u001b[43mintervals\u001b[49m\u001b[43m]\u001b[49m\u001b[43m,\u001b[49m\n\u001b[1;32m     31\u001b[0m \u001b[43m             \u001b[49m\u001b[43mfmt\u001b[49m\u001b[43m \u001b[49m\u001b[38;5;241;43m=\u001b[39;49m\u001b[43m \u001b[49m\u001b[38;5;124;43m'\u001b[39;49m\u001b[38;5;124;43mo\u001b[39;49m\u001b[38;5;124;43m'\u001b[39;49m\u001b[43m)\u001b[49m\n\u001b[1;32m     33\u001b[0m plt\u001b[38;5;241m.\u001b[39mhlines(xmin\u001b[38;5;241m=\u001b[39m\u001b[38;5;241m0\u001b[39m, xmax\u001b[38;5;241m=\u001b[39m\u001b[38;5;241m25\u001b[39m,\n\u001b[1;32m     34\u001b[0m            y\u001b[38;5;241m=\u001b[39mpm,\n\u001b[1;32m     35\u001b[0m            linewidth\u001b[38;5;241m=\u001b[39m\u001b[38;5;241m2.0\u001b[39m,\n\u001b[1;32m     36\u001b[0m            color\u001b[38;5;241m=\u001b[39m\u001b[38;5;124m\"\u001b[39m\u001b[38;5;124mred\u001b[39m\u001b[38;5;124m\"\u001b[39m)\n",
      "File \u001b[0;32m/opt/anaconda3/lib/python3.9/site-packages/matplotlib/pyplot.py:2564\u001b[0m, in \u001b[0;36merrorbar\u001b[0;34m(x, y, yerr, xerr, fmt, ecolor, elinewidth, capsize, barsabove, lolims, uplims, xlolims, xuplims, errorevery, capthick, data, **kwargs)\u001b[0m\n\u001b[1;32m   2558\u001b[0m \u001b[38;5;129m@_copy_docstring_and_deprecators\u001b[39m(Axes\u001b[38;5;241m.\u001b[39merrorbar)\n\u001b[1;32m   2559\u001b[0m \u001b[38;5;28;01mdef\u001b[39;00m \u001b[38;5;21merrorbar\u001b[39m(\n\u001b[1;32m   2560\u001b[0m         x, y, yerr\u001b[38;5;241m=\u001b[39m\u001b[38;5;28;01mNone\u001b[39;00m, xerr\u001b[38;5;241m=\u001b[39m\u001b[38;5;28;01mNone\u001b[39;00m, fmt\u001b[38;5;241m=\u001b[39m\u001b[38;5;124m'\u001b[39m\u001b[38;5;124m'\u001b[39m, ecolor\u001b[38;5;241m=\u001b[39m\u001b[38;5;28;01mNone\u001b[39;00m,\n\u001b[1;32m   2561\u001b[0m         elinewidth\u001b[38;5;241m=\u001b[39m\u001b[38;5;28;01mNone\u001b[39;00m, capsize\u001b[38;5;241m=\u001b[39m\u001b[38;5;28;01mNone\u001b[39;00m, barsabove\u001b[38;5;241m=\u001b[39m\u001b[38;5;28;01mFalse\u001b[39;00m, lolims\u001b[38;5;241m=\u001b[39m\u001b[38;5;28;01mFalse\u001b[39;00m,\n\u001b[1;32m   2562\u001b[0m         uplims\u001b[38;5;241m=\u001b[39m\u001b[38;5;28;01mFalse\u001b[39;00m, xlolims\u001b[38;5;241m=\u001b[39m\u001b[38;5;28;01mFalse\u001b[39;00m, xuplims\u001b[38;5;241m=\u001b[39m\u001b[38;5;28;01mFalse\u001b[39;00m, errorevery\u001b[38;5;241m=\u001b[39m\u001b[38;5;241m1\u001b[39m,\n\u001b[1;32m   2563\u001b[0m         capthick\u001b[38;5;241m=\u001b[39m\u001b[38;5;28;01mNone\u001b[39;00m, \u001b[38;5;241m*\u001b[39m, data\u001b[38;5;241m=\u001b[39m\u001b[38;5;28;01mNone\u001b[39;00m, \u001b[38;5;241m*\u001b[39m\u001b[38;5;241m*\u001b[39mkwargs):\n\u001b[0;32m-> 2564\u001b[0m     \u001b[38;5;28;01mreturn\u001b[39;00m \u001b[43mgca\u001b[49m\u001b[43m(\u001b[49m\u001b[43m)\u001b[49m\u001b[38;5;241;43m.\u001b[39;49m\u001b[43merrorbar\u001b[49m\u001b[43m(\u001b[49m\n\u001b[1;32m   2565\u001b[0m \u001b[43m        \u001b[49m\u001b[43mx\u001b[49m\u001b[43m,\u001b[49m\u001b[43m \u001b[49m\u001b[43my\u001b[49m\u001b[43m,\u001b[49m\u001b[43m \u001b[49m\u001b[43myerr\u001b[49m\u001b[38;5;241;43m=\u001b[39;49m\u001b[43myerr\u001b[49m\u001b[43m,\u001b[49m\u001b[43m \u001b[49m\u001b[43mxerr\u001b[49m\u001b[38;5;241;43m=\u001b[39;49m\u001b[43mxerr\u001b[49m\u001b[43m,\u001b[49m\u001b[43m \u001b[49m\u001b[43mfmt\u001b[49m\u001b[38;5;241;43m=\u001b[39;49m\u001b[43mfmt\u001b[49m\u001b[43m,\u001b[49m\u001b[43m \u001b[49m\u001b[43mecolor\u001b[49m\u001b[38;5;241;43m=\u001b[39;49m\u001b[43mecolor\u001b[49m\u001b[43m,\u001b[49m\n\u001b[1;32m   2566\u001b[0m \u001b[43m        \u001b[49m\u001b[43melinewidth\u001b[49m\u001b[38;5;241;43m=\u001b[39;49m\u001b[43melinewidth\u001b[49m\u001b[43m,\u001b[49m\u001b[43m \u001b[49m\u001b[43mcapsize\u001b[49m\u001b[38;5;241;43m=\u001b[39;49m\u001b[43mcapsize\u001b[49m\u001b[43m,\u001b[49m\u001b[43m \u001b[49m\u001b[43mbarsabove\u001b[49m\u001b[38;5;241;43m=\u001b[39;49m\u001b[43mbarsabove\u001b[49m\u001b[43m,\u001b[49m\n\u001b[1;32m   2567\u001b[0m \u001b[43m        \u001b[49m\u001b[43mlolims\u001b[49m\u001b[38;5;241;43m=\u001b[39;49m\u001b[43mlolims\u001b[49m\u001b[43m,\u001b[49m\u001b[43m \u001b[49m\u001b[43muplims\u001b[49m\u001b[38;5;241;43m=\u001b[39;49m\u001b[43muplims\u001b[49m\u001b[43m,\u001b[49m\u001b[43m \u001b[49m\u001b[43mxlolims\u001b[49m\u001b[38;5;241;43m=\u001b[39;49m\u001b[43mxlolims\u001b[49m\u001b[43m,\u001b[49m\n\u001b[1;32m   2568\u001b[0m \u001b[43m        \u001b[49m\u001b[43mxuplims\u001b[49m\u001b[38;5;241;43m=\u001b[39;49m\u001b[43mxuplims\u001b[49m\u001b[43m,\u001b[49m\u001b[43m \u001b[49m\u001b[43merrorevery\u001b[49m\u001b[38;5;241;43m=\u001b[39;49m\u001b[43merrorevery\u001b[49m\u001b[43m,\u001b[49m\u001b[43m \u001b[49m\u001b[43mcapthick\u001b[49m\u001b[38;5;241;43m=\u001b[39;49m\u001b[43mcapthick\u001b[49m\u001b[43m,\u001b[49m\n\u001b[1;32m   2569\u001b[0m \u001b[43m        \u001b[49m\u001b[38;5;241;43m*\u001b[39;49m\u001b[38;5;241;43m*\u001b[39;49m\u001b[43m(\u001b[49m\u001b[43m{\u001b[49m\u001b[38;5;124;43m\"\u001b[39;49m\u001b[38;5;124;43mdata\u001b[39;49m\u001b[38;5;124;43m\"\u001b[39;49m\u001b[43m:\u001b[49m\u001b[43m \u001b[49m\u001b[43mdata\u001b[49m\u001b[43m}\u001b[49m\u001b[43m \u001b[49m\u001b[38;5;28;43;01mif\u001b[39;49;00m\u001b[43m \u001b[49m\u001b[43mdata\u001b[49m\u001b[43m \u001b[49m\u001b[38;5;129;43;01mis\u001b[39;49;00m\u001b[43m \u001b[49m\u001b[38;5;129;43;01mnot\u001b[39;49;00m\u001b[43m \u001b[49m\u001b[38;5;28;43;01mNone\u001b[39;49;00m\u001b[43m \u001b[49m\u001b[38;5;28;43;01melse\u001b[39;49;00m\u001b[43m \u001b[49m\u001b[43m{\u001b[49m\u001b[43m}\u001b[49m\u001b[43m)\u001b[49m\u001b[43m,\u001b[49m\u001b[43m \u001b[49m\u001b[38;5;241;43m*\u001b[39;49m\u001b[38;5;241;43m*\u001b[39;49m\u001b[43mkwargs\u001b[49m\u001b[43m)\u001b[49m\n",
      "File \u001b[0;32m/opt/anaconda3/lib/python3.9/site-packages/matplotlib/__init__.py:1442\u001b[0m, in \u001b[0;36m_preprocess_data.<locals>.inner\u001b[0;34m(ax, data, *args, **kwargs)\u001b[0m\n\u001b[1;32m   1439\u001b[0m \u001b[38;5;129m@functools\u001b[39m\u001b[38;5;241m.\u001b[39mwraps(func)\n\u001b[1;32m   1440\u001b[0m \u001b[38;5;28;01mdef\u001b[39;00m \u001b[38;5;21minner\u001b[39m(ax, \u001b[38;5;241m*\u001b[39margs, data\u001b[38;5;241m=\u001b[39m\u001b[38;5;28;01mNone\u001b[39;00m, \u001b[38;5;241m*\u001b[39m\u001b[38;5;241m*\u001b[39mkwargs):\n\u001b[1;32m   1441\u001b[0m     \u001b[38;5;28;01mif\u001b[39;00m data \u001b[38;5;129;01mis\u001b[39;00m \u001b[38;5;28;01mNone\u001b[39;00m:\n\u001b[0;32m-> 1442\u001b[0m         \u001b[38;5;28;01mreturn\u001b[39;00m \u001b[43mfunc\u001b[49m\u001b[43m(\u001b[49m\u001b[43max\u001b[49m\u001b[43m,\u001b[49m\u001b[43m \u001b[49m\u001b[38;5;241;43m*\u001b[39;49m\u001b[38;5;28;43mmap\u001b[39;49m\u001b[43m(\u001b[49m\u001b[43msanitize_sequence\u001b[49m\u001b[43m,\u001b[49m\u001b[43m \u001b[49m\u001b[43margs\u001b[49m\u001b[43m)\u001b[49m\u001b[43m,\u001b[49m\u001b[43m \u001b[49m\u001b[38;5;241;43m*\u001b[39;49m\u001b[38;5;241;43m*\u001b[39;49m\u001b[43mkwargs\u001b[49m\u001b[43m)\u001b[49m\n\u001b[1;32m   1444\u001b[0m     bound \u001b[38;5;241m=\u001b[39m new_sig\u001b[38;5;241m.\u001b[39mbind(ax, \u001b[38;5;241m*\u001b[39margs, \u001b[38;5;241m*\u001b[39m\u001b[38;5;241m*\u001b[39mkwargs)\n\u001b[1;32m   1445\u001b[0m     auto_label \u001b[38;5;241m=\u001b[39m (bound\u001b[38;5;241m.\u001b[39marguments\u001b[38;5;241m.\u001b[39mget(label_namer)\n\u001b[1;32m   1446\u001b[0m                   \u001b[38;5;129;01mor\u001b[39;00m bound\u001b[38;5;241m.\u001b[39mkwargs\u001b[38;5;241m.\u001b[39mget(label_namer))\n",
      "File \u001b[0;32m/opt/anaconda3/lib/python3.9/site-packages/matplotlib/axes/_axes.py:3642\u001b[0m, in \u001b[0;36mAxes.errorbar\u001b[0;34m(self, x, y, yerr, xerr, fmt, ecolor, elinewidth, capsize, barsabove, lolims, uplims, xlolims, xuplims, errorevery, capthick, **kwargs)\u001b[0m\n\u001b[1;32m   3639\u001b[0m res \u001b[38;5;241m=\u001b[39m np\u001b[38;5;241m.\u001b[39mzeros(err\u001b[38;5;241m.\u001b[39mshape, dtype\u001b[38;5;241m=\u001b[39m\u001b[38;5;28mbool\u001b[39m)  \u001b[38;5;66;03m# Default in case of nan\u001b[39;00m\n\u001b[1;32m   3640\u001b[0m \u001b[38;5;28;01mif\u001b[39;00m np\u001b[38;5;241m.\u001b[39many(np\u001b[38;5;241m.\u001b[39mless(err, \u001b[38;5;241m-\u001b[39merr, out\u001b[38;5;241m=\u001b[39mres, where\u001b[38;5;241m=\u001b[39m(err \u001b[38;5;241m==\u001b[39m err))):\n\u001b[1;32m   3641\u001b[0m     \u001b[38;5;66;03m# like err<0, but also works for timedelta and nan.\u001b[39;00m\n\u001b[0;32m-> 3642\u001b[0m     \u001b[38;5;28;01mraise\u001b[39;00m \u001b[38;5;167;01mValueError\u001b[39;00m(\n\u001b[1;32m   3643\u001b[0m         \u001b[38;5;124mf\u001b[39m\u001b[38;5;124m\"\u001b[39m\u001b[38;5;124m'\u001b[39m\u001b[38;5;132;01m{\u001b[39;00mdep_axis\u001b[38;5;132;01m}\u001b[39;00m\u001b[38;5;124merr\u001b[39m\u001b[38;5;124m'\u001b[39m\u001b[38;5;124m must not contain negative values\u001b[39m\u001b[38;5;124m\"\u001b[39m)\n\u001b[1;32m   3644\u001b[0m \u001b[38;5;66;03m# This is like\u001b[39;00m\n\u001b[1;32m   3645\u001b[0m \u001b[38;5;66;03m#     elow, ehigh = np.broadcast_to(...)\u001b[39;00m\n\u001b[1;32m   3646\u001b[0m \u001b[38;5;66;03m#     return dep - elow * ~lolims, dep + ehigh * ~uplims\u001b[39;00m\n\u001b[1;32m   3647\u001b[0m \u001b[38;5;66;03m# except that broadcast_to would strip units.\u001b[39;00m\n\u001b[1;32m   3648\u001b[0m low, high \u001b[38;5;241m=\u001b[39m dep \u001b[38;5;241m+\u001b[39m np\u001b[38;5;241m.\u001b[39mrow_stack([\u001b[38;5;241m-\u001b[39m(\u001b[38;5;241m1\u001b[39m \u001b[38;5;241m-\u001b[39m lolims), \u001b[38;5;241m1\u001b[39m \u001b[38;5;241m-\u001b[39m uplims]) \u001b[38;5;241m*\u001b[39m err\n",
      "\u001b[0;31mValueError\u001b[0m: 'yerr' must not contain negative values"
     ]
    },
    {
     "data": {
      "image/png": "[encoded data removed]",
      "text/plain": [
       "<Figure size 640x480 with 1 Axes>"
      ]
     },
     "metadata": {},
     "output_type": "display_data"
    }
   ],
   "source": [
    "#6. Calculate and plot the Confidence Intervals for 25 Trials with n=500 and CI=95% for ‘Unit price’ column. Observe the results.\n",
    "print('URK21CS1128')\n",
    "sample_size = 500\n",
    "intervals = []\n",
    "sample_means = []\n",
    "\n",
    "Cl = 0.95\n",
    "alpha = (1-CL)/2\n",
    "z_critical = round(stats.norm.ppf(1-alpha),2)\n",
    " \n",
    "pm=df['Unit price'].mean()\n",
    "\n",
    "#25 trials\n",
    "for sample in range(25):\n",
    "    sample = np.random.choice(a = df['Unit price'], size = sample_size)\n",
    "    sample_mean = sample.mean()\n",
    "    sample_means.append(sample_mean)\n",
    "    \n",
    "    sam_stdev = sample.std()\n",
    "    margin_of_error = z_critical * (sam_stdev/math.sqrt(sample_size))\n",
    "    confidence_interval = (sample_mean - margin_of_error,\n",
    "                           sample_mean + margin_of_error)\n",
    "    intervals.append(confidence_interval)\n",
    "print(sample_means)\n",
    "print(pm)\n",
    "print(intervals)\n",
    "\n",
    "plt.errorbar(x = np.arange(0.1, 25, 1),\n",
    "             y = sample_means,\n",
    "             yerr = [(top-bot)/2 for top,bot in intervals],\n",
    "             fmt = 'o')\n",
    "\n",
    "plt.hlines(xmin=0, xmax=25,\n",
    "           y=pm,\n",
    "           linewidth=2.0,\n",
    "           color=\"red\")"
   ]
  },
  {
   "cell_type": "code",
   "execution_count": 33,
   "id": "8692f0b4-99db-4b49-b69b-e1a8eec861b5",
   "metadata": {},
   "outputs": [
    {
     "name": "stdout",
     "output_type": "stream",
     "text": [
      "Index(['Height', 'Score', 'Age'], dtype='object')\n"
     ]
    }
   ],
   "source": [
    "# Print all column names in the DataFrame\n",
    "print(df.columns)\n"
   ]
  },
  {
   "cell_type": "code",
   "execution_count": null,
   "id": "b92f3a4f",
   "metadata": {},
   "outputs": [
    {
     "name": "stdout",
     "output_type": "stream",
     "text": [
      "URK21CS1128\n",
      "Pearsons correlation: 0.721\n"
     ]
    }
   ],
   "source": [
    "#7. Calculate the Correlation Coefficient using Pearson for the given table.\n",
    "print(\"URK21CS1128\")\n",
    "from scipy.stats import pearsonr\n",
    "from scipy.stats import spearmanr\n",
    "import matplotlib.pyplot as plt\n",
    "x=[17,15,19,17,21]\n",
    "y=[150,154,169,172,175]\n",
    "corr, _ = pearsonr(x,y)\n",
    "print('Pearsons correlation: %.3f' % corr)"
   ]
  },
  {
   "cell_type": "code",
   "execution_count": null,
   "id": "2c2d820c",
   "metadata": {},
   "outputs": [
    {
     "name": "stdout",
     "output_type": "stream",
     "text": [
      "URK21CS1128\n",
      "Spearmans correlation: 0.667\n"
     ]
    }
   ],
   "source": [
    "#8. Calculate the Correlation Coefficient using Spearman for the given table\n",
    "print(\"URK21CS1128\")\n",
    "x=[17,15,19,17,21]\n",
    "y=[150,154,169,172,175]\n",
    "corr, _ = spearmanr(x,y)\n",
    "print('Spearmans correlation: %.3f' % corr)"
   ]
  },
  {
   "cell_type": "code",
   "execution_count": null,
   "id": "6780d3b0",
   "metadata": {},
   "outputs": [
    {
     "name": "stdout",
     "output_type": "stream",
     "text": [
      "URK21CS1128\n",
      "        Height   Score     Age\n",
      "Height   11.50    50.0   34.75\n",
      "Score    50.00  1250.0  205.00\n",
      "Age      34.75   205.0  110.00\n"
     ]
    }
   ],
   "source": [
    "#9. Calculate the Covariance Matrix for the given data and analyse it\n",
    "print(\"URK21CS1128\")\n",
    "import pandas as pd\n",
    "df = pd.DataFrame(\n",
    "    {'Height': [64, 66, 68, 69, 73],\n",
    "     'Score':[580, 570, 590, 660, 600],\n",
    "     'Age':[29, 33, 37, 46, 55]}\n",
    ")\n",
    "\n",
    "cov_matrix = df.cov()\n",
    "print(cov_matrix)"
   ]
  },
  {
   "cell_type": "code",
   "execution_count": null,
   "id": "9f7fb753",
   "metadata": {},
   "outputs": [
    {
     "name": "stdout",
     "output_type": "stream",
     "text": [
      "URK21CS1128\n",
      "Reject HO\n",
      "4.714045207910317\n"
     ]
    }
   ],
   "source": [
    "#10. Perform a hypothesis testing with Z-test A herd of 1,500 steer was fed a special high‐protein grain for a month, has the standard deviation of weight gain for the entire herd was 7.1 and average weight gain per steer for the month was 5 pounds. By feeding the herd with special high‐protein grain, it is claimed that the weight of the herd has increased. In order to test this claim, a random sample of 29 were weighed and had gained an average of 6.7 pounds. Can we support the claim at 5 % level?\n",
    "print(\"URK21CS1128\")\n",
    "xbar=110\n",
    "mu=100\n",
    "n=50\n",
    "sd=15\n",
    "z=abs(((xbar-mu)/(sd/math.sqrt(n))))\n",
    "if(z>1.96):\n",
    "    print(\"Reject HO\")\n",
    "else:\n",
    "    print(\"Accept HO\")\n",
    "print(z)"
   ]
  },
  {
   "cell_type": "markdown",
   "id": "210b0b83-ce23-4dca-8c3e-35f8fea5558c",
   "metadata": {},
   "source": [
    "Result:"
   ]
  },
  {
   "cell_type": "markdown",
   "id": "221b30bd-118d-4245-9f09-c31c2ddd72a2",
   "metadata": {},
   "source": [
    "We have successful executed the program and the output is displayed in the each cell of the code."
   ]
  }
 ],
 "metadata": {
  "kernelspec": {
   "display_name": "Python 3 (ipykernel)",
   "language": "python",
   "name": "python3"
  },
  "language_info": {
   "codemirror_mode": {
    "name": "ipython",
    "version": 3
   },
   "file_extension": ".py",
   "mimetype": "text/x-python",
   "name": "python",
   "nbconvert_exporter": "python",
   "pygments_lexer": "ipython3",
   "version": "3.9.15"
  }
 },
 "nbformat": 4,
 "nbformat_minor": 5
}
